{
 "cells": [
  {
   "cell_type": "code",
   "execution_count": 106,
   "metadata": {},
   "outputs": [],
   "source": [
    "import numpy as np\n",
    "import pandas as pd\n",
    "import seaborn as sns\n",
    "import matplotlib.pyplot as plt\n",
    "sns.set_style('whitegrid')\n",
    "%matplotlib inline"
   ]
  },
  {
   "cell_type": "code",
   "execution_count": 107,
   "metadata": {},
   "outputs": [],
   "source": [
    "df1 = pd.read_csv('adyen_file_1.csv')"
   ]
  },
  {
   "cell_type": "code",
   "execution_count": 108,
   "metadata": {},
   "outputs": [],
   "source": [
    "df2 = pd.read_csv('adyen_file_2.csv')"
   ]
  },
  {
   "cell_type": "code",
   "execution_count": 109,
   "metadata": {},
   "outputs": [
    {
     "name": "stdout",
     "output_type": "stream",
     "text": [
      "<class 'pandas.core.frame.DataFrame'>\n",
      "RangeIndex: 378388 entries, 0 to 378387\n",
      "Data columns (total 10 columns):\n",
      "creation_date      378388 non-null object\n",
      "txid               378388 non-null int64\n",
      "amount             378388 non-null object\n",
      "scheme             378388 non-null object\n",
      "avs                378388 non-null object\n",
      "cvc                378388 non-null object\n",
      "issuing_country    378388 non-null object\n",
      "auth               378388 non-null int64\n",
      "chargeback         378388 non-null int64\n",
      "refusal            378388 non-null int64\n",
      "dtypes: int64(4), object(6)\n",
      "memory usage: 28.9+ MB\n"
     ]
    }
   ],
   "source": [
    "df1.info()"
   ]
  },
  {
   "cell_type": "code",
   "execution_count": 110,
   "metadata": {},
   "outputs": [
    {
     "name": "stdout",
     "output_type": "stream",
     "text": [
      "<class 'pandas.core.frame.DataFrame'>\n",
      "RangeIndex: 189194 entries, 0 to 189193\n",
      "Data columns (total 3 columns):\n",
      "txid              189194 non-null int64\n",
      "funding_source    189194 non-null object\n",
      "currency_code     189194 non-null object\n",
      "dtypes: int64(1), object(2)\n",
      "memory usage: 4.3+ MB\n"
     ]
    }
   ],
   "source": [
    "df2.info()"
   ]
  },
  {
   "cell_type": "code",
   "execution_count": 111,
   "metadata": {},
   "outputs": [
    {
     "data": {
      "text/html": [
       "<div>\n",
       "<style scoped>\n",
       "    .dataframe tbody tr th:only-of-type {\n",
       "        vertical-align: middle;\n",
       "    }\n",
       "\n",
       "    .dataframe tbody tr th {\n",
       "        vertical-align: top;\n",
       "    }\n",
       "\n",
       "    .dataframe thead th {\n",
       "        text-align: right;\n",
       "    }\n",
       "</style>\n",
       "<table border=\"1\" class=\"dataframe\">\n",
       "  <thead>\n",
       "    <tr style=\"text-align: right;\">\n",
       "      <th></th>\n",
       "      <th>creation_date</th>\n",
       "      <th>txid</th>\n",
       "      <th>amount</th>\n",
       "      <th>scheme</th>\n",
       "      <th>avs</th>\n",
       "      <th>cvc</th>\n",
       "      <th>issuing_country</th>\n",
       "      <th>auth</th>\n",
       "      <th>chargeback</th>\n",
       "      <th>refusal</th>\n",
       "    </tr>\n",
       "  </thead>\n",
       "  <tbody>\n",
       "    <tr>\n",
       "      <th>0</th>\n",
       "      <td>2019-08-31</td>\n",
       "      <td>-1</td>\n",
       "      <td>62.68</td>\n",
       "      <td>0</td>\n",
       "      <td>Yes</td>\n",
       "      <td>Yes</td>\n",
       "      <td>US</td>\n",
       "      <td>1</td>\n",
       "      <td>0</td>\n",
       "      <td>0</td>\n",
       "    </tr>\n",
       "    <tr>\n",
       "      <th>1</th>\n",
       "      <td>2019-08-31</td>\n",
       "      <td>13458888</td>\n",
       "      <td>55.39</td>\n",
       "      <td>0</td>\n",
       "      <td>Yes</td>\n",
       "      <td>Yes</td>\n",
       "      <td>US</td>\n",
       "      <td>1</td>\n",
       "      <td>0</td>\n",
       "      <td>0</td>\n",
       "    </tr>\n",
       "    <tr>\n",
       "      <th>2</th>\n",
       "      <td>2019-08-31</td>\n",
       "      <td>31160339</td>\n",
       "      <td>413.30</td>\n",
       "      <td>0</td>\n",
       "      <td>Yes</td>\n",
       "      <td>Yes</td>\n",
       "      <td>US</td>\n",
       "      <td>1</td>\n",
       "      <td>0</td>\n",
       "      <td>0</td>\n",
       "    </tr>\n",
       "    <tr>\n",
       "      <th>3</th>\n",
       "      <td>2019-08-31</td>\n",
       "      <td>39297889</td>\n",
       "      <td>712.00</td>\n",
       "      <td>mc</td>\n",
       "      <td>Yes</td>\n",
       "      <td>Yes</td>\n",
       "      <td>SE</td>\n",
       "      <td>1</td>\n",
       "      <td>0</td>\n",
       "      <td>0</td>\n",
       "    </tr>\n",
       "    <tr>\n",
       "      <th>4</th>\n",
       "      <td>2019-08-31</td>\n",
       "      <td>38608158</td>\n",
       "      <td>262.87</td>\n",
       "      <td>mc</td>\n",
       "      <td>Yes</td>\n",
       "      <td>Yes</td>\n",
       "      <td>US</td>\n",
       "      <td>1</td>\n",
       "      <td>0</td>\n",
       "      <td>0</td>\n",
       "    </tr>\n",
       "  </tbody>\n",
       "</table>\n",
       "</div>"
      ],
      "text/plain": [
       "  creation_date      txid  amount scheme  avs  cvc issuing_country  auth  \\\n",
       "0    2019-08-31        -1   62.68      0  Yes  Yes              US     1   \n",
       "1    2019-08-31  13458888   55.39      0  Yes  Yes              US     1   \n",
       "2    2019-08-31  31160339  413.30      0  Yes  Yes              US     1   \n",
       "3    2019-08-31  39297889  712.00     mc  Yes  Yes              SE     1   \n",
       "4    2019-08-31  38608158  262.87     mc  Yes  Yes              US     1   \n",
       "\n",
       "   chargeback  refusal  \n",
       "0           0        0  \n",
       "1           0        0  \n",
       "2           0        0  \n",
       "3           0        0  \n",
       "4           0        0  "
      ]
     },
     "execution_count": 111,
     "metadata": {},
     "output_type": "execute_result"
    }
   ],
   "source": [
    "df1.head()"
   ]
  },
  {
   "cell_type": "code",
   "execution_count": 112,
   "metadata": {},
   "outputs": [
    {
     "data": {
      "text/html": [
       "<div>\n",
       "<style scoped>\n",
       "    .dataframe tbody tr th:only-of-type {\n",
       "        vertical-align: middle;\n",
       "    }\n",
       "\n",
       "    .dataframe tbody tr th {\n",
       "        vertical-align: top;\n",
       "    }\n",
       "\n",
       "    .dataframe thead th {\n",
       "        text-align: right;\n",
       "    }\n",
       "</style>\n",
       "<table border=\"1\" class=\"dataframe\">\n",
       "  <thead>\n",
       "    <tr style=\"text-align: right;\">\n",
       "      <th></th>\n",
       "      <th>txid</th>\n",
       "      <th>funding_source</th>\n",
       "      <th>currency_code</th>\n",
       "    </tr>\n",
       "  </thead>\n",
       "  <tbody>\n",
       "    <tr>\n",
       "      <th>0</th>\n",
       "      <td>31192331</td>\n",
       "      <td>DEBIT</td>\n",
       "      <td>BRL</td>\n",
       "    </tr>\n",
       "    <tr>\n",
       "      <th>1</th>\n",
       "      <td>12512484</td>\n",
       "      <td>DEBIT</td>\n",
       "      <td>BRL</td>\n",
       "    </tr>\n",
       "    <tr>\n",
       "      <th>2</th>\n",
       "      <td>26217282</td>\n",
       "      <td>DEBIT</td>\n",
       "      <td>BRL</td>\n",
       "    </tr>\n",
       "    <tr>\n",
       "      <th>3</th>\n",
       "      <td>31567208</td>\n",
       "      <td>DEBIT</td>\n",
       "      <td>BRL</td>\n",
       "    </tr>\n",
       "    <tr>\n",
       "      <th>4</th>\n",
       "      <td>-1</td>\n",
       "      <td>DEBIT</td>\n",
       "      <td>BRL</td>\n",
       "    </tr>\n",
       "  </tbody>\n",
       "</table>\n",
       "</div>"
      ],
      "text/plain": [
       "       txid funding_source currency_code\n",
       "0  31192331          DEBIT           BRL\n",
       "1  12512484          DEBIT           BRL\n",
       "2  26217282          DEBIT           BRL\n",
       "3  31567208          DEBIT           BRL\n",
       "4        -1          DEBIT           BRL"
      ]
     },
     "execution_count": 112,
     "metadata": {},
     "output_type": "execute_result"
    }
   ],
   "source": [
    "df2.head()"
   ]
  },
  {
   "cell_type": "code",
   "execution_count": 113,
   "metadata": {},
   "outputs": [],
   "source": [
    "df1['amount'] = df1['amount'].apply(lambda x: x.replace(',',''))\n",
    "df1['amount'] = pd.to_numeric(df1['amount'])"
   ]
  },
  {
   "cell_type": "code",
   "execution_count": null,
   "metadata": {},
   "outputs": [],
   "source": []
  },
  {
   "cell_type": "code",
   "execution_count": 114,
   "metadata": {},
   "outputs": [
    {
     "data": {
      "text/plain": [
       "creation_date      2019-08-31\n",
       "txid                       -1\n",
       "amount                 196.58\n",
       "scheme                      0\n",
       "avs                       Yes\n",
       "cvc                       Yes\n",
       "issuing_country            US\n",
       "auth                        1\n",
       "chargeback                  0\n",
       "refusal                     0\n",
       "Name: 100, dtype: object"
      ]
     },
     "execution_count": 114,
     "metadata": {},
     "output_type": "execute_result"
    }
   ],
   "source": [
    "df1.iloc[100]"
   ]
  },
  {
   "cell_type": "code",
   "execution_count": 115,
   "metadata": {},
   "outputs": [],
   "source": [
    "df1 = df1[df1['txid'] != -1]"
   ]
  },
  {
   "cell_type": "code",
   "execution_count": 116,
   "metadata": {},
   "outputs": [],
   "source": [
    "df2 = df2[df2['txid'] != -1]"
   ]
  },
  {
   "cell_type": "code",
   "execution_count": 117,
   "metadata": {},
   "outputs": [],
   "source": [
    "df1['scheme'] = df1['scheme'].apply(lambda x: 'visa' if x == '0' else x)"
   ]
  },
  {
   "cell_type": "code",
   "execution_count": 118,
   "metadata": {},
   "outputs": [],
   "source": [
    "df1.drop_duplicates('txid', inplace=True)"
   ]
  },
  {
   "cell_type": "code",
   "execution_count": 119,
   "metadata": {},
   "outputs": [],
   "source": [
    "df2.drop_duplicates('txid', inplace=True)"
   ]
  },
  {
   "cell_type": "code",
   "execution_count": 120,
   "metadata": {},
   "outputs": [],
   "source": [
    "df_merge = pd.merge(df1, df2, how='inner', on='txid')"
   ]
  },
  {
   "cell_type": "code",
   "execution_count": 121,
   "metadata": {},
   "outputs": [
    {
     "data": {
      "text/html": [
       "<div>\n",
       "<style scoped>\n",
       "    .dataframe tbody tr th:only-of-type {\n",
       "        vertical-align: middle;\n",
       "    }\n",
       "\n",
       "    .dataframe tbody tr th {\n",
       "        vertical-align: top;\n",
       "    }\n",
       "\n",
       "    .dataframe thead th {\n",
       "        text-align: right;\n",
       "    }\n",
       "</style>\n",
       "<table border=\"1\" class=\"dataframe\">\n",
       "  <thead>\n",
       "    <tr style=\"text-align: right;\">\n",
       "      <th></th>\n",
       "      <th>creation_date</th>\n",
       "      <th>txid</th>\n",
       "      <th>amount</th>\n",
       "      <th>scheme</th>\n",
       "      <th>avs</th>\n",
       "      <th>cvc</th>\n",
       "      <th>issuing_country</th>\n",
       "      <th>auth</th>\n",
       "      <th>chargeback</th>\n",
       "      <th>refusal</th>\n",
       "      <th>funding_source</th>\n",
       "      <th>currency_code</th>\n",
       "    </tr>\n",
       "  </thead>\n",
       "  <tbody>\n",
       "    <tr>\n",
       "      <th>0</th>\n",
       "      <td>2019-08-31</td>\n",
       "      <td>13458888</td>\n",
       "      <td>55.39</td>\n",
       "      <td>visa</td>\n",
       "      <td>Yes</td>\n",
       "      <td>Yes</td>\n",
       "      <td>US</td>\n",
       "      <td>1</td>\n",
       "      <td>0</td>\n",
       "      <td>0</td>\n",
       "      <td>CREDIT</td>\n",
       "      <td>USD</td>\n",
       "    </tr>\n",
       "    <tr>\n",
       "      <th>1</th>\n",
       "      <td>2019-08-31</td>\n",
       "      <td>31160339</td>\n",
       "      <td>413.30</td>\n",
       "      <td>visa</td>\n",
       "      <td>Yes</td>\n",
       "      <td>Yes</td>\n",
       "      <td>US</td>\n",
       "      <td>1</td>\n",
       "      <td>0</td>\n",
       "      <td>0</td>\n",
       "      <td>CREDIT</td>\n",
       "      <td>USD</td>\n",
       "    </tr>\n",
       "    <tr>\n",
       "      <th>2</th>\n",
       "      <td>2019-08-31</td>\n",
       "      <td>39297889</td>\n",
       "      <td>712.00</td>\n",
       "      <td>mc</td>\n",
       "      <td>Yes</td>\n",
       "      <td>Yes</td>\n",
       "      <td>SE</td>\n",
       "      <td>1</td>\n",
       "      <td>0</td>\n",
       "      <td>0</td>\n",
       "      <td>CREDIT</td>\n",
       "      <td>SEK</td>\n",
       "    </tr>\n",
       "    <tr>\n",
       "      <th>3</th>\n",
       "      <td>2019-08-31</td>\n",
       "      <td>38608158</td>\n",
       "      <td>262.87</td>\n",
       "      <td>mc</td>\n",
       "      <td>Yes</td>\n",
       "      <td>Yes</td>\n",
       "      <td>US</td>\n",
       "      <td>1</td>\n",
       "      <td>0</td>\n",
       "      <td>0</td>\n",
       "      <td>CREDIT</td>\n",
       "      <td>USD</td>\n",
       "    </tr>\n",
       "    <tr>\n",
       "      <th>4</th>\n",
       "      <td>2019-08-31</td>\n",
       "      <td>34579337</td>\n",
       "      <td>56.90</td>\n",
       "      <td>visa</td>\n",
       "      <td>Yes</td>\n",
       "      <td>Yes</td>\n",
       "      <td>US</td>\n",
       "      <td>1</td>\n",
       "      <td>0</td>\n",
       "      <td>0</td>\n",
       "      <td>CREDIT</td>\n",
       "      <td>USD</td>\n",
       "    </tr>\n",
       "  </tbody>\n",
       "</table>\n",
       "</div>"
      ],
      "text/plain": [
       "  creation_date      txid  amount scheme  avs  cvc issuing_country  auth  \\\n",
       "0    2019-08-31  13458888   55.39   visa  Yes  Yes              US     1   \n",
       "1    2019-08-31  31160339  413.30   visa  Yes  Yes              US     1   \n",
       "2    2019-08-31  39297889  712.00     mc  Yes  Yes              SE     1   \n",
       "3    2019-08-31  38608158  262.87     mc  Yes  Yes              US     1   \n",
       "4    2019-08-31  34579337   56.90   visa  Yes  Yes              US     1   \n",
       "\n",
       "   chargeback  refusal funding_source currency_code  \n",
       "0           0        0         CREDIT           USD  \n",
       "1           0        0         CREDIT           USD  \n",
       "2           0        0         CREDIT           SEK  \n",
       "3           0        0         CREDIT           USD  \n",
       "4           0        0         CREDIT           USD  "
      ]
     },
     "execution_count": 121,
     "metadata": {},
     "output_type": "execute_result"
    }
   ],
   "source": [
    "df_merge.head()"
   ]
  },
  {
   "cell_type": "code",
   "execution_count": 122,
   "metadata": {},
   "outputs": [],
   "source": [
    "# Exercise 2A: Calculate Authorization Rate\n",
    "\n",
    "# Answer: 83.32%"
   ]
  },
  {
   "cell_type": "code",
   "execution_count": 123,
   "metadata": {},
   "outputs": [
    {
     "data": {
      "text/plain": [
       "1    117825\n",
       "0     23586\n",
       "Name: auth, dtype: int64"
      ]
     },
     "execution_count": 123,
     "metadata": {},
     "output_type": "execute_result"
    }
   ],
   "source": [
    "df_merge['auth'].value_counts()"
   ]
  },
  {
   "cell_type": "code",
   "execution_count": 124,
   "metadata": {},
   "outputs": [
    {
     "data": {
      "text/plain": [
       "0.8332095805842544"
      ]
     },
     "execution_count": 124,
     "metadata": {},
     "output_type": "execute_result"
    }
   ],
   "source": [
    "sum(df_merge['auth']) / df_merge['txid'].count()"
   ]
  },
  {
   "cell_type": "code",
   "execution_count": 125,
   "metadata": {},
   "outputs": [],
   "source": [
    "# ------------------------------------------------------------------------------------------------------------"
   ]
  },
  {
   "cell_type": "code",
   "execution_count": 126,
   "metadata": {},
   "outputs": [],
   "source": [
    "# Exercise 2B: Authorized tx count by scheme"
   ]
  },
  {
   "cell_type": "code",
   "execution_count": 127,
   "metadata": {},
   "outputs": [
    {
     "data": {
      "text/plain": [
       "visa    87071\n",
       "mc      54340\n",
       "Name: scheme, dtype: int64"
      ]
     },
     "execution_count": 127,
     "metadata": {},
     "output_type": "execute_result"
    }
   ],
   "source": [
    "df_merge['scheme'].value_counts()"
   ]
  },
  {
   "cell_type": "code",
   "execution_count": 128,
   "metadata": {},
   "outputs": [
    {
     "data": {
      "text/plain": [
       "<matplotlib.axes._subplots.AxesSubplot at 0x12f0b25f8>"
      ]
     },
     "execution_count": 128,
     "metadata": {},
     "output_type": "execute_result"
    },
    {
     "data": {
      "image/png": "[encoded data removed]",
      "text/plain": [
       "<Figure size 576x576 with 1 Axes>"
      ]
     },
     "metadata": {
      "needs_background": "light"
     },
     "output_type": "display_data"
    }
   ],
   "source": [
    "plt.figure(figsize=(8,8))\n",
    "sns.countplot(x='scheme', data=df_merge, palette='viridis')\n"
   ]
  },
  {
   "cell_type": "code",
   "execution_count": 129,
   "metadata": {},
   "outputs": [],
   "source": [
    "# ------------------------------------------------------------------------------------------------------------"
   ]
  },
  {
   "cell_type": "code",
   "execution_count": 130,
   "metadata": {},
   "outputs": [],
   "source": [
    "# Exercise 2C: Percentage total of credit card transaction by currency\n",
    "\n",
    "# Solution: \n",
    "# Credit Cards: 61.23%\n",
    "# Debit Cards: 34.20%\n",
    "# Prepaid Cards: 3.70%\n",
    "# Deferred Debit Cards: 0.88%"
   ]
  },
  {
   "cell_type": "code",
   "execution_count": 131,
   "metadata": {},
   "outputs": [
    {
     "data": {
      "text/plain": [
       "CREDIT            86579\n",
       "DEBIT             48362\n",
       "PREPAID            5229\n",
       "DEFFERED_DEBIT     1241\n",
       "Name: funding_source, dtype: int64"
      ]
     },
     "execution_count": 131,
     "metadata": {},
     "output_type": "execute_result"
    }
   ],
   "source": [
    "df_merge['funding_source'].value_counts()"
   ]
  },
  {
   "cell_type": "code",
   "execution_count": 132,
   "metadata": {},
   "outputs": [
    {
     "name": "stdout",
     "output_type": "stream",
     "text": [
      "141411\n"
     ]
    }
   ],
   "source": [
    "total_txid = df_merge['txid'].count()\n",
    "print(total_txid)"
   ]
  },
  {
   "cell_type": "code",
   "execution_count": 133,
   "metadata": {},
   "outputs": [
    {
     "name": "stdout",
     "output_type": "stream",
     "text": [
      "Credit Cards: 61.22508150002475\n",
      "Debit Cards: 34.19960257688581\n",
      "Prepaid Cards: 3.6977321424783076\n",
      "Deferred Debit Cards: 0.8775837806111264\n"
     ]
    }
   ],
   "source": [
    "print(f\"Credit Cards: {sum(df_merge['funding_source'] == 'CREDIT') / total_txid*100}\")\n",
    "print(f\"Debit Cards: {sum(df_merge['funding_source'] == 'DEBIT') / total_txid*100}\")\n",
    "print(f\"Prepaid Cards: {sum(df_merge['funding_source'] == 'PREPAID') / total_txid*100}\")\n",
    "print(f\"Deferred Debit Cards: {sum(df_merge['funding_source'] == 'DEFFERED_DEBIT') / total_txid*100}\")"
   ]
  },
  {
   "cell_type": "code",
   "execution_count": 134,
   "metadata": {},
   "outputs": [],
   "source": [
    "# ------------------------------------------------------------------------------------------------------------"
   ]
  },
  {
   "cell_type": "code",
   "execution_count": 135,
   "metadata": {},
   "outputs": [],
   "source": [
    "# Exercise 2D: Average transaction value by scheme and currency\n",
    "\n",
    "# Scroll down for solution #"
   ]
  },
  {
   "cell_type": "markdown",
   "metadata": {},
   "source": [
    "## By scheme and transaction"
   ]
  },
  {
   "cell_type": "code",
   "execution_count": 136,
   "metadata": {},
   "outputs": [],
   "source": [
    "approved_transactions = df_merge[df_merge['auth'] == 1]"
   ]
  },
  {
   "cell_type": "code",
   "execution_count": 137,
   "metadata": {},
   "outputs": [],
   "source": [
    "total_visa = df_merge[df_merge['scheme'] == 'visa']\n",
    "approved_visa = approved_transactions[approved_transactions['scheme'] == 'visa']"
   ]
  },
  {
   "cell_type": "code",
   "execution_count": 138,
   "metadata": {},
   "outputs": [],
   "source": [
    "df_mc = df_merge[df_merge['scheme'] == 'mc']\n",
    "approved_mc = approved_transactions[approved_transactions['scheme'] == 'mc']"
   ]
  },
  {
   "cell_type": "markdown",
   "metadata": {},
   "source": [
    "## By Visa and Currency"
   ]
  },
  {
   "cell_type": "code",
   "execution_count": 139,
   "metadata": {},
   "outputs": [
    {
     "data": {
      "text/html": [
       "<div>\n",
       "<style scoped>\n",
       "    .dataframe tbody tr th:only-of-type {\n",
       "        vertical-align: middle;\n",
       "    }\n",
       "\n",
       "    .dataframe tbody tr th {\n",
       "        vertical-align: top;\n",
       "    }\n",
       "\n",
       "    .dataframe thead th {\n",
       "        text-align: right;\n",
       "    }\n",
       "</style>\n",
       "<table border=\"1\" class=\"dataframe\">\n",
       "  <thead>\n",
       "    <tr style=\"text-align: right;\">\n",
       "      <th></th>\n",
       "      <th>txid</th>\n",
       "      <th>amount</th>\n",
       "      <th>auth</th>\n",
       "      <th>chargeback</th>\n",
       "      <th>refusal</th>\n",
       "    </tr>\n",
       "    <tr>\n",
       "      <th>currency_code</th>\n",
       "      <th></th>\n",
       "      <th></th>\n",
       "      <th></th>\n",
       "      <th></th>\n",
       "      <th></th>\n",
       "    </tr>\n",
       "  </thead>\n",
       "  <tbody>\n",
       "    <tr>\n",
       "      <th>BRL</th>\n",
       "      <td>2.513382e+07</td>\n",
       "      <td>526.562131</td>\n",
       "      <td>0.703234</td>\n",
       "      <td>0.009973</td>\n",
       "      <td>0.296766</td>\n",
       "    </tr>\n",
       "    <tr>\n",
       "      <th>CAD</th>\n",
       "      <td>2.488560e+07</td>\n",
       "      <td>116.687211</td>\n",
       "      <td>0.906270</td>\n",
       "      <td>0.000850</td>\n",
       "      <td>0.093730</td>\n",
       "    </tr>\n",
       "    <tr>\n",
       "      <th>CHF</th>\n",
       "      <td>2.589541e+07</td>\n",
       "      <td>178.199137</td>\n",
       "      <td>0.798561</td>\n",
       "      <td>0.000000</td>\n",
       "      <td>0.201439</td>\n",
       "    </tr>\n",
       "    <tr>\n",
       "      <th>DKK</th>\n",
       "      <td>2.507895e+07</td>\n",
       "      <td>891.340788</td>\n",
       "      <td>0.679803</td>\n",
       "      <td>0.000000</td>\n",
       "      <td>0.320197</td>\n",
       "    </tr>\n",
       "    <tr>\n",
       "      <th>EUR</th>\n",
       "      <td>2.489436e+07</td>\n",
       "      <td>132.661267</td>\n",
       "      <td>0.829543</td>\n",
       "      <td>0.001360</td>\n",
       "      <td>0.170457</td>\n",
       "    </tr>\n",
       "    <tr>\n",
       "      <th>GBP</th>\n",
       "      <td>2.505318e+07</td>\n",
       "      <td>125.256602</td>\n",
       "      <td>0.807640</td>\n",
       "      <td>0.000000</td>\n",
       "      <td>0.192360</td>\n",
       "    </tr>\n",
       "    <tr>\n",
       "      <th>JPY</th>\n",
       "      <td>2.495042e+07</td>\n",
       "      <td>16615.698598</td>\n",
       "      <td>0.467290</td>\n",
       "      <td>0.000000</td>\n",
       "      <td>0.532710</td>\n",
       "    </tr>\n",
       "    <tr>\n",
       "      <th>NOK</th>\n",
       "      <td>2.538285e+07</td>\n",
       "      <td>1173.876935</td>\n",
       "      <td>0.895161</td>\n",
       "      <td>0.000000</td>\n",
       "      <td>0.104839</td>\n",
       "    </tr>\n",
       "    <tr>\n",
       "      <th>SEK</th>\n",
       "      <td>2.518710e+07</td>\n",
       "      <td>1230.632819</td>\n",
       "      <td>0.895062</td>\n",
       "      <td>0.000000</td>\n",
       "      <td>0.104938</td>\n",
       "    </tr>\n",
       "    <tr>\n",
       "      <th>USD</th>\n",
       "      <td>2.500380e+07</td>\n",
       "      <td>172.598802</td>\n",
       "      <td>0.910651</td>\n",
       "      <td>0.001095</td>\n",
       "      <td>0.089349</td>\n",
       "    </tr>\n",
       "  </tbody>\n",
       "</table>\n",
       "</div>"
      ],
      "text/plain": [
       "                       txid        amount      auth  chargeback   refusal\n",
       "currency_code                                                            \n",
       "BRL            2.513382e+07    526.562131  0.703234    0.009973  0.296766\n",
       "CAD            2.488560e+07    116.687211  0.906270    0.000850  0.093730\n",
       "CHF            2.589541e+07    178.199137  0.798561    0.000000  0.201439\n",
       "DKK            2.507895e+07    891.340788  0.679803    0.000000  0.320197\n",
       "EUR            2.489436e+07    132.661267  0.829543    0.001360  0.170457\n",
       "GBP            2.505318e+07    125.256602  0.807640    0.000000  0.192360\n",
       "JPY            2.495042e+07  16615.698598  0.467290    0.000000  0.532710\n",
       "NOK            2.538285e+07   1173.876935  0.895161    0.000000  0.104839\n",
       "SEK            2.518710e+07   1230.632819  0.895062    0.000000  0.104938\n",
       "USD            2.500380e+07    172.598802  0.910651    0.001095  0.089349"
      ]
     },
     "execution_count": 139,
     "metadata": {},
     "output_type": "execute_result"
    }
   ],
   "source": [
    "visa_curr_avg = total_visa.groupby('currency_code').mean()\n",
    "visa_curr_avg"
   ]
  },
  {
   "cell_type": "code",
   "execution_count": 140,
   "metadata": {},
   "outputs": [
    {
     "data": {
      "text/html": [
       "<div>\n",
       "<style scoped>\n",
       "    .dataframe tbody tr th:only-of-type {\n",
       "        vertical-align: middle;\n",
       "    }\n",
       "\n",
       "    .dataframe tbody tr th {\n",
       "        vertical-align: top;\n",
       "    }\n",
       "\n",
       "    .dataframe thead th {\n",
       "        text-align: right;\n",
       "    }\n",
       "</style>\n",
       "<table border=\"1\" class=\"dataframe\">\n",
       "  <thead>\n",
       "    <tr style=\"text-align: right;\">\n",
       "      <th></th>\n",
       "      <th>txid</th>\n",
       "      <th>amount</th>\n",
       "      <th>auth</th>\n",
       "      <th>chargeback</th>\n",
       "      <th>refusal</th>\n",
       "    </tr>\n",
       "    <tr>\n",
       "      <th>currency_code</th>\n",
       "      <th></th>\n",
       "      <th></th>\n",
       "      <th></th>\n",
       "      <th></th>\n",
       "      <th></th>\n",
       "    </tr>\n",
       "  </thead>\n",
       "  <tbody>\n",
       "    <tr>\n",
       "      <th>BRL</th>\n",
       "      <td>2.511572e+07</td>\n",
       "      <td>417.761169</td>\n",
       "      <td>1.0</td>\n",
       "      <td>0.014181</td>\n",
       "      <td>0.0</td>\n",
       "    </tr>\n",
       "    <tr>\n",
       "      <th>CAD</th>\n",
       "      <td>2.489428e+07</td>\n",
       "      <td>112.815117</td>\n",
       "      <td>1.0</td>\n",
       "      <td>0.000938</td>\n",
       "      <td>0.0</td>\n",
       "    </tr>\n",
       "    <tr>\n",
       "      <th>CHF</th>\n",
       "      <td>2.547567e+07</td>\n",
       "      <td>181.704144</td>\n",
       "      <td>1.0</td>\n",
       "      <td>0.000000</td>\n",
       "      <td>0.0</td>\n",
       "    </tr>\n",
       "    <tr>\n",
       "      <th>DKK</th>\n",
       "      <td>2.439100e+07</td>\n",
       "      <td>810.763696</td>\n",
       "      <td>1.0</td>\n",
       "      <td>0.000000</td>\n",
       "      <td>0.0</td>\n",
       "    </tr>\n",
       "    <tr>\n",
       "      <th>EUR</th>\n",
       "      <td>2.487232e+07</td>\n",
       "      <td>117.855759</td>\n",
       "      <td>1.0</td>\n",
       "      <td>0.001639</td>\n",
       "      <td>0.0</td>\n",
       "    </tr>\n",
       "    <tr>\n",
       "      <th>GBP</th>\n",
       "      <td>2.518038e+07</td>\n",
       "      <td>107.395220</td>\n",
       "      <td>1.0</td>\n",
       "      <td>0.000000</td>\n",
       "      <td>0.0</td>\n",
       "    </tr>\n",
       "    <tr>\n",
       "      <th>JPY</th>\n",
       "      <td>2.557372e+07</td>\n",
       "      <td>9988.095000</td>\n",
       "      <td>1.0</td>\n",
       "      <td>0.000000</td>\n",
       "      <td>0.0</td>\n",
       "    </tr>\n",
       "    <tr>\n",
       "      <th>NOK</th>\n",
       "      <td>2.519468e+07</td>\n",
       "      <td>1108.980991</td>\n",
       "      <td>1.0</td>\n",
       "      <td>0.000000</td>\n",
       "      <td>0.0</td>\n",
       "    </tr>\n",
       "    <tr>\n",
       "      <th>SEK</th>\n",
       "      <td>2.517217e+07</td>\n",
       "      <td>1213.290920</td>\n",
       "      <td>1.0</td>\n",
       "      <td>0.000000</td>\n",
       "      <td>0.0</td>\n",
       "    </tr>\n",
       "    <tr>\n",
       "      <th>USD</th>\n",
       "      <td>2.498240e+07</td>\n",
       "      <td>161.457212</td>\n",
       "      <td>1.0</td>\n",
       "      <td>0.001202</td>\n",
       "      <td>0.0</td>\n",
       "    </tr>\n",
       "  </tbody>\n",
       "</table>\n",
       "</div>"
      ],
      "text/plain": [
       "                       txid       amount  auth  chargeback  refusal\n",
       "currency_code                                                      \n",
       "BRL            2.511572e+07   417.761169   1.0    0.014181      0.0\n",
       "CAD            2.489428e+07   112.815117   1.0    0.000938      0.0\n",
       "CHF            2.547567e+07   181.704144   1.0    0.000000      0.0\n",
       "DKK            2.439100e+07   810.763696   1.0    0.000000      0.0\n",
       "EUR            2.487232e+07   117.855759   1.0    0.001639      0.0\n",
       "GBP            2.518038e+07   107.395220   1.0    0.000000      0.0\n",
       "JPY            2.557372e+07  9988.095000   1.0    0.000000      0.0\n",
       "NOK            2.519468e+07  1108.980991   1.0    0.000000      0.0\n",
       "SEK            2.517217e+07  1213.290920   1.0    0.000000      0.0\n",
       "USD            2.498240e+07   161.457212   1.0    0.001202      0.0"
      ]
     },
     "execution_count": 140,
     "metadata": {},
     "output_type": "execute_result"
    }
   ],
   "source": [
    "approved_visa_curr_avg = approved_visa.groupby('currency_code').mean()\n",
    "approved_visa_curr_avg"
   ]
  },
  {
   "cell_type": "code",
   "execution_count": 141,
   "metadata": {},
   "outputs": [],
   "source": [
    "# Note: Japan is an outlier in terms of amounts"
   ]
  },
  {
   "cell_type": "code",
   "execution_count": 142,
   "metadata": {},
   "outputs": [
    {
     "data": {
      "text/plain": [
       "<matplotlib.axes._subplots.AxesSubplot at 0x125a33400>"
      ]
     },
     "execution_count": 142,
     "metadata": {},
     "output_type": "execute_result"
    },
    {
     "data": {
      "image/png": "[encoded data removed]",
      "text/plain": [
       "<Figure size 432x288 with 1 Axes>"
      ]
     },
     "metadata": {
      "needs_background": "light"
     },
     "output_type": "display_data"
    }
   ],
   "source": [
    "sns.barplot(x='currency_code', y='amount', data=visa_curr_avg.reset_index())"
   ]
  },
  {
   "cell_type": "code",
   "execution_count": 143,
   "metadata": {},
   "outputs": [
    {
     "data": {
      "text/plain": [
       "<matplotlib.axes._subplots.AxesSubplot at 0x1261afa90>"
      ]
     },
     "execution_count": 143,
     "metadata": {},
     "output_type": "execute_result"
    },
    {
     "data": {
      "image/png": "[encoded data removed]",
      "text/plain": [
       "<Figure size 432x288 with 1 Axes>"
      ]
     },
     "metadata": {
      "needs_background": "light"
     },
     "output_type": "display_data"
    }
   ],
   "source": [
    "sns.barplot(x='currency_code', y='amount', data=approved_visa_curr_avg.reset_index())"
   ]
  },
  {
   "cell_type": "code",
   "execution_count": 144,
   "metadata": {},
   "outputs": [],
   "source": [
    "# Difference between Approved Avg Amounts - Total Avg Amount\n",
    "# Japan is an outlier. Could be due to JPY being in larger denominations. "
   ]
  },
  {
   "cell_type": "code",
   "execution_count": 145,
   "metadata": {},
   "outputs": [
    {
     "data": {
      "text/plain": [
       "<matplotlib.axes._subplots.AxesSubplot at 0x125fc1ef0>"
      ]
     },
     "execution_count": 145,
     "metadata": {},
     "output_type": "execute_result"
    },
    {
     "data": {
      "image/png": "[encoded data removed]",
      "text/plain": [
       "<Figure size 432x288 with 1 Axes>"
      ]
     },
     "metadata": {
      "needs_background": "light"
     },
     "output_type": "display_data"
    }
   ],
   "source": [
    "sns.barplot(x='currency_code', y='amount', data=(approved_visa_curr_avg['amount'] - visa_curr_avg['amount']).reset_index())"
   ]
  },
  {
   "cell_type": "code",
   "execution_count": 146,
   "metadata": {},
   "outputs": [],
   "source": [
    "# Removed Japan temporarily to see impact across other currencies\n",
    "# For the most part, if unauthorized transactions are removed, you get a smaller"
   ]
  },
  {
   "cell_type": "code",
   "execution_count": 147,
   "metadata": {},
   "outputs": [
    {
     "data": {
      "text/plain": [
       "<matplotlib.axes._subplots.AxesSubplot at 0x126f05240>"
      ]
     },
     "execution_count": 147,
     "metadata": {},
     "output_type": "execute_result"
    },
    {
     "data": {
      "image/png": "[encoded data removed]",
      "text/plain": [
       "<Figure size 432x288 with 1 Axes>"
      ]
     },
     "metadata": {
      "needs_background": "light"
     },
     "output_type": "display_data"
    }
   ],
   "source": [
    "sns.barplot(x='currency_code', y='amount', data=(approved_visa_curr_avg['amount'] - visa_curr_avg['amount']).drop('JPY').reset_index())"
   ]
  },
  {
   "cell_type": "markdown",
   "metadata": {},
   "source": [
    "## By MC and currency"
   ]
  },
  {
   "cell_type": "code",
   "execution_count": 148,
   "metadata": {},
   "outputs": [
    {
     "data": {
      "text/html": [
       "<div>\n",
       "<style scoped>\n",
       "    .dataframe tbody tr th:only-of-type {\n",
       "        vertical-align: middle;\n",
       "    }\n",
       "\n",
       "    .dataframe tbody tr th {\n",
       "        vertical-align: top;\n",
       "    }\n",
       "\n",
       "    .dataframe thead th {\n",
       "        text-align: right;\n",
       "    }\n",
       "</style>\n",
       "<table border=\"1\" class=\"dataframe\">\n",
       "  <thead>\n",
       "    <tr style=\"text-align: right;\">\n",
       "      <th></th>\n",
       "      <th>txid</th>\n",
       "      <th>amount</th>\n",
       "      <th>auth</th>\n",
       "      <th>chargeback</th>\n",
       "      <th>refusal</th>\n",
       "    </tr>\n",
       "    <tr>\n",
       "      <th>currency_code</th>\n",
       "      <th></th>\n",
       "      <th></th>\n",
       "      <th></th>\n",
       "      <th></th>\n",
       "      <th></th>\n",
       "    </tr>\n",
       "  </thead>\n",
       "  <tbody>\n",
       "    <tr>\n",
       "      <th>BRL</th>\n",
       "      <td>2.515407e+07</td>\n",
       "      <td>451.902305</td>\n",
       "      <td>0.780619</td>\n",
       "      <td>0.013580</td>\n",
       "      <td>0.219381</td>\n",
       "    </tr>\n",
       "    <tr>\n",
       "      <th>CAD</th>\n",
       "      <td>2.515042e+07</td>\n",
       "      <td>114.503847</td>\n",
       "      <td>0.914179</td>\n",
       "      <td>0.000373</td>\n",
       "      <td>0.085821</td>\n",
       "    </tr>\n",
       "    <tr>\n",
       "      <th>CHF</th>\n",
       "      <td>2.448363e+07</td>\n",
       "      <td>150.643252</td>\n",
       "      <td>0.860140</td>\n",
       "      <td>0.000000</td>\n",
       "      <td>0.139860</td>\n",
       "    </tr>\n",
       "    <tr>\n",
       "      <th>DKK</th>\n",
       "      <td>2.481534e+07</td>\n",
       "      <td>1102.039291</td>\n",
       "      <td>0.813765</td>\n",
       "      <td>0.000000</td>\n",
       "      <td>0.186235</td>\n",
       "    </tr>\n",
       "    <tr>\n",
       "      <th>EUR</th>\n",
       "      <td>2.508599e+07</td>\n",
       "      <td>132.433334</td>\n",
       "      <td>0.822702</td>\n",
       "      <td>0.000000</td>\n",
       "      <td>0.177298</td>\n",
       "    </tr>\n",
       "    <tr>\n",
       "      <th>GBP</th>\n",
       "      <td>2.501325e+07</td>\n",
       "      <td>165.316644</td>\n",
       "      <td>0.867403</td>\n",
       "      <td>0.000000</td>\n",
       "      <td>0.132597</td>\n",
       "    </tr>\n",
       "    <tr>\n",
       "      <th>JPY</th>\n",
       "      <td>2.605568e+07</td>\n",
       "      <td>14345.901369</td>\n",
       "      <td>0.452381</td>\n",
       "      <td>0.000000</td>\n",
       "      <td>0.547619</td>\n",
       "    </tr>\n",
       "    <tr>\n",
       "      <th>NOK</th>\n",
       "      <td>2.359067e+07</td>\n",
       "      <td>1689.230598</td>\n",
       "      <td>0.897436</td>\n",
       "      <td>0.000000</td>\n",
       "      <td>0.102564</td>\n",
       "    </tr>\n",
       "    <tr>\n",
       "      <th>SEK</th>\n",
       "      <td>2.467423e+07</td>\n",
       "      <td>1231.215878</td>\n",
       "      <td>0.886929</td>\n",
       "      <td>0.000000</td>\n",
       "      <td>0.113071</td>\n",
       "    </tr>\n",
       "    <tr>\n",
       "      <th>USD</th>\n",
       "      <td>2.497467e+07</td>\n",
       "      <td>160.925422</td>\n",
       "      <td>0.706217</td>\n",
       "      <td>0.001220</td>\n",
       "      <td>0.293783</td>\n",
       "    </tr>\n",
       "  </tbody>\n",
       "</table>\n",
       "</div>"
      ],
      "text/plain": [
       "                       txid        amount      auth  chargeback   refusal\n",
       "currency_code                                                            \n",
       "BRL            2.515407e+07    451.902305  0.780619    0.013580  0.219381\n",
       "CAD            2.515042e+07    114.503847  0.914179    0.000373  0.085821\n",
       "CHF            2.448363e+07    150.643252  0.860140    0.000000  0.139860\n",
       "DKK            2.481534e+07   1102.039291  0.813765    0.000000  0.186235\n",
       "EUR            2.508599e+07    132.433334  0.822702    0.000000  0.177298\n",
       "GBP            2.501325e+07    165.316644  0.867403    0.000000  0.132597\n",
       "JPY            2.605568e+07  14345.901369  0.452381    0.000000  0.547619\n",
       "NOK            2.359067e+07   1689.230598  0.897436    0.000000  0.102564\n",
       "SEK            2.467423e+07   1231.215878  0.886929    0.000000  0.113071\n",
       "USD            2.497467e+07    160.925422  0.706217    0.001220  0.293783"
      ]
     },
     "execution_count": 148,
     "metadata": {},
     "output_type": "execute_result"
    }
   ],
   "source": [
    "mc_curr_avg = df_mc.groupby('currency_code').mean()\n",
    "mc_curr_avg"
   ]
  },
  {
   "cell_type": "code",
   "execution_count": 149,
   "metadata": {},
   "outputs": [
    {
     "data": {
      "text/html": [
       "<div>\n",
       "<style scoped>\n",
       "    .dataframe tbody tr th:only-of-type {\n",
       "        vertical-align: middle;\n",
       "    }\n",
       "\n",
       "    .dataframe tbody tr th {\n",
       "        vertical-align: top;\n",
       "    }\n",
       "\n",
       "    .dataframe thead th {\n",
       "        text-align: right;\n",
       "    }\n",
       "</style>\n",
       "<table border=\"1\" class=\"dataframe\">\n",
       "  <thead>\n",
       "    <tr style=\"text-align: right;\">\n",
       "      <th></th>\n",
       "      <th>txid</th>\n",
       "      <th>amount</th>\n",
       "      <th>auth</th>\n",
       "      <th>chargeback</th>\n",
       "      <th>refusal</th>\n",
       "    </tr>\n",
       "    <tr>\n",
       "      <th>currency_code</th>\n",
       "      <th></th>\n",
       "      <th></th>\n",
       "      <th></th>\n",
       "      <th></th>\n",
       "      <th></th>\n",
       "    </tr>\n",
       "  </thead>\n",
       "  <tbody>\n",
       "    <tr>\n",
       "      <th>BRL</th>\n",
       "      <td>2.512684e+07</td>\n",
       "      <td>376.690060</td>\n",
       "      <td>1.0</td>\n",
       "      <td>0.017397</td>\n",
       "      <td>0.0</td>\n",
       "    </tr>\n",
       "    <tr>\n",
       "      <th>CAD</th>\n",
       "      <td>2.505026e+07</td>\n",
       "      <td>112.308420</td>\n",
       "      <td>1.0</td>\n",
       "      <td>0.000408</td>\n",
       "      <td>0.0</td>\n",
       "    </tr>\n",
       "    <tr>\n",
       "      <th>CHF</th>\n",
       "      <td>2.447492e+07</td>\n",
       "      <td>155.599268</td>\n",
       "      <td>1.0</td>\n",
       "      <td>0.000000</td>\n",
       "      <td>0.0</td>\n",
       "    </tr>\n",
       "    <tr>\n",
       "      <th>DKK</th>\n",
       "      <td>2.479725e+07</td>\n",
       "      <td>1137.012736</td>\n",
       "      <td>1.0</td>\n",
       "      <td>0.000000</td>\n",
       "      <td>0.0</td>\n",
       "    </tr>\n",
       "    <tr>\n",
       "      <th>EUR</th>\n",
       "      <td>2.511153e+07</td>\n",
       "      <td>119.887586</td>\n",
       "      <td>1.0</td>\n",
       "      <td>0.000000</td>\n",
       "      <td>0.0</td>\n",
       "    </tr>\n",
       "    <tr>\n",
       "      <th>GBP</th>\n",
       "      <td>2.502472e+07</td>\n",
       "      <td>134.265143</td>\n",
       "      <td>1.0</td>\n",
       "      <td>0.000000</td>\n",
       "      <td>0.0</td>\n",
       "    </tr>\n",
       "    <tr>\n",
       "      <th>JPY</th>\n",
       "      <td>2.520442e+07</td>\n",
       "      <td>9944.729342</td>\n",
       "      <td>1.0</td>\n",
       "      <td>0.000000</td>\n",
       "      <td>0.0</td>\n",
       "    </tr>\n",
       "    <tr>\n",
       "      <th>NOK</th>\n",
       "      <td>2.310040e+07</td>\n",
       "      <td>1479.237905</td>\n",
       "      <td>1.0</td>\n",
       "      <td>0.000000</td>\n",
       "      <td>0.0</td>\n",
       "    </tr>\n",
       "    <tr>\n",
       "      <th>SEK</th>\n",
       "      <td>2.456464e+07</td>\n",
       "      <td>1207.170217</td>\n",
       "      <td>1.0</td>\n",
       "      <td>0.000000</td>\n",
       "      <td>0.0</td>\n",
       "    </tr>\n",
       "    <tr>\n",
       "      <th>USD</th>\n",
       "      <td>2.495821e+07</td>\n",
       "      <td>173.585313</td>\n",
       "      <td>1.0</td>\n",
       "      <td>0.001727</td>\n",
       "      <td>0.0</td>\n",
       "    </tr>\n",
       "  </tbody>\n",
       "</table>\n",
       "</div>"
      ],
      "text/plain": [
       "                       txid       amount  auth  chargeback  refusal\n",
       "currency_code                                                      \n",
       "BRL            2.512684e+07   376.690060   1.0    0.017397      0.0\n",
       "CAD            2.505026e+07   112.308420   1.0    0.000408      0.0\n",
       "CHF            2.447492e+07   155.599268   1.0    0.000000      0.0\n",
       "DKK            2.479725e+07  1137.012736   1.0    0.000000      0.0\n",
       "EUR            2.511153e+07   119.887586   1.0    0.000000      0.0\n",
       "GBP            2.502472e+07   134.265143   1.0    0.000000      0.0\n",
       "JPY            2.520442e+07  9944.729342   1.0    0.000000      0.0\n",
       "NOK            2.310040e+07  1479.237905   1.0    0.000000      0.0\n",
       "SEK            2.456464e+07  1207.170217   1.0    0.000000      0.0\n",
       "USD            2.495821e+07   173.585313   1.0    0.001727      0.0"
      ]
     },
     "execution_count": 149,
     "metadata": {},
     "output_type": "execute_result"
    }
   ],
   "source": [
    "approved_mc_curr_avg = approved_mc.groupby('currency_code').mean()\n",
    "approved_mc_curr_avg"
   ]
  },
  {
   "cell_type": "code",
   "execution_count": 150,
   "metadata": {},
   "outputs": [],
   "source": [
    "# Difference between Approved Avg Amounts - Total Avg Amount\n",
    "# Japan is an outlier. Could be due to JPY being in larger denominations. "
   ]
  },
  {
   "cell_type": "code",
   "execution_count": 151,
   "metadata": {},
   "outputs": [
    {
     "data": {
      "text/plain": [
       "<matplotlib.axes._subplots.AxesSubplot at 0x126f56eb8>"
      ]
     },
     "execution_count": 151,
     "metadata": {},
     "output_type": "execute_result"
    },
    {
     "data": {
      "image/png": "[encoded data removed]",
      "text/plain": [
       "<Figure size 432x288 with 1 Axes>"
      ]
     },
     "metadata": {
      "needs_background": "light"
     },
     "output_type": "display_data"
    }
   ],
   "source": [
    "sns.barplot(x='currency_code', y='amount', data=(approved_mc_curr_avg['amount'] - mc_curr_avg['amount']).reset_index())"
   ]
  },
  {
   "cell_type": "code",
   "execution_count": 152,
   "metadata": {},
   "outputs": [],
   "source": [
    "# Removed Japan temporarily to see impact across other currencies\n",
    "# Approved CAD, CHF, DKK, USD average transactions are larger if unauthorized transactions are removed"
   ]
  },
  {
   "cell_type": "code",
   "execution_count": 153,
   "metadata": {},
   "outputs": [
    {
     "data": {
      "text/plain": [
       "<matplotlib.axes._subplots.AxesSubplot at 0x129b4a0b8>"
      ]
     },
     "execution_count": 153,
     "metadata": {},
     "output_type": "execute_result"
    },
    {
     "data": {
      "image/png": "[encoded data removed]",
      "text/plain": [
       "<Figure size 432x288 with 1 Axes>"
      ]
     },
     "metadata": {
      "needs_background": "light"
     },
     "output_type": "display_data"
    }
   ],
   "source": [
    "sns.barplot(x='currency_code', y='amount', data=(approved_mc_curr_avg['amount'] - mc_curr_avg['amount']).drop('JPY').reset_index())"
   ]
  },
  {
   "cell_type": "code",
   "execution_count": null,
   "metadata": {},
   "outputs": [],
   "source": []
  },
  {
   "cell_type": "markdown",
   "metadata": {},
   "source": [
    "### Average transaction value by currency only "
   ]
  },
  {
   "cell_type": "code",
   "execution_count": 154,
   "metadata": {},
   "outputs": [
    {
     "data": {
      "text/html": [
       "<div>\n",
       "<style scoped>\n",
       "    .dataframe tbody tr th:only-of-type {\n",
       "        vertical-align: middle;\n",
       "    }\n",
       "\n",
       "    .dataframe tbody tr th {\n",
       "        vertical-align: top;\n",
       "    }\n",
       "\n",
       "    .dataframe thead th {\n",
       "        text-align: right;\n",
       "    }\n",
       "</style>\n",
       "<table border=\"1\" class=\"dataframe\">\n",
       "  <thead>\n",
       "    <tr style=\"text-align: right;\">\n",
       "      <th></th>\n",
       "      <th>txid</th>\n",
       "      <th>amount</th>\n",
       "      <th>auth</th>\n",
       "      <th>chargeback</th>\n",
       "      <th>refusal</th>\n",
       "    </tr>\n",
       "    <tr>\n",
       "      <th>currency_code</th>\n",
       "      <th></th>\n",
       "      <th></th>\n",
       "      <th></th>\n",
       "      <th></th>\n",
       "      <th></th>\n",
       "    </tr>\n",
       "  </thead>\n",
       "  <tbody>\n",
       "    <tr>\n",
       "      <th>BRL</th>\n",
       "      <td>2.514685e+07</td>\n",
       "      <td>478.542664</td>\n",
       "      <td>0.753006</td>\n",
       "      <td>0.012293</td>\n",
       "      <td>0.246994</td>\n",
       "    </tr>\n",
       "    <tr>\n",
       "      <th>CAD</th>\n",
       "      <td>2.498170e+07</td>\n",
       "      <td>115.894873</td>\n",
       "      <td>0.909140</td>\n",
       "      <td>0.000677</td>\n",
       "      <td>0.090860</td>\n",
       "    </tr>\n",
       "    <tr>\n",
       "      <th>CHF</th>\n",
       "      <td>2.494537e+07</td>\n",
       "      <td>159.655647</td>\n",
       "      <td>0.840000</td>\n",
       "      <td>0.000000</td>\n",
       "      <td>0.160000</td>\n",
       "    </tr>\n",
       "    <tr>\n",
       "      <th>DKK</th>\n",
       "      <td>2.489211e+07</td>\n",
       "      <td>1040.673730</td>\n",
       "      <td>0.774749</td>\n",
       "      <td>0.000000</td>\n",
       "      <td>0.225251</td>\n",
       "    </tr>\n",
       "    <tr>\n",
       "      <th>EUR</th>\n",
       "      <td>2.498446e+07</td>\n",
       "      <td>132.554092</td>\n",
       "      <td>0.826326</td>\n",
       "      <td>0.000720</td>\n",
       "      <td>0.173674</td>\n",
       "    </tr>\n",
       "    <tr>\n",
       "      <th>GBP</th>\n",
       "      <td>2.504338e+07</td>\n",
       "      <td>135.091621</td>\n",
       "      <td>0.822313</td>\n",
       "      <td>0.000000</td>\n",
       "      <td>0.177687</td>\n",
       "    </tr>\n",
       "    <tr>\n",
       "      <th>JPY</th>\n",
       "      <td>2.526197e+07</td>\n",
       "      <td>15975.889983</td>\n",
       "      <td>0.463087</td>\n",
       "      <td>0.000000</td>\n",
       "      <td>0.536913</td>\n",
       "    </tr>\n",
       "    <tr>\n",
       "      <th>NOK</th>\n",
       "      <td>2.480837e+07</td>\n",
       "      <td>1339.072493</td>\n",
       "      <td>0.895890</td>\n",
       "      <td>0.000000</td>\n",
       "      <td>0.104110</td>\n",
       "    </tr>\n",
       "    <tr>\n",
       "      <th>SEK</th>\n",
       "      <td>2.481806e+07</td>\n",
       "      <td>1231.052366</td>\n",
       "      <td>0.889209</td>\n",
       "      <td>0.000000</td>\n",
       "      <td>0.110791</td>\n",
       "    </tr>\n",
       "    <tr>\n",
       "      <th>USD</th>\n",
       "      <td>2.499460e+07</td>\n",
       "      <td>168.911676</td>\n",
       "      <td>0.846079</td>\n",
       "      <td>0.001134</td>\n",
       "      <td>0.153921</td>\n",
       "    </tr>\n",
       "  </tbody>\n",
       "</table>\n",
       "</div>"
      ],
      "text/plain": [
       "                       txid        amount      auth  chargeback   refusal\n",
       "currency_code                                                            \n",
       "BRL            2.514685e+07    478.542664  0.753006    0.012293  0.246994\n",
       "CAD            2.498170e+07    115.894873  0.909140    0.000677  0.090860\n",
       "CHF            2.494537e+07    159.655647  0.840000    0.000000  0.160000\n",
       "DKK            2.489211e+07   1040.673730  0.774749    0.000000  0.225251\n",
       "EUR            2.498446e+07    132.554092  0.826326    0.000720  0.173674\n",
       "GBP            2.504338e+07    135.091621  0.822313    0.000000  0.177687\n",
       "JPY            2.526197e+07  15975.889983  0.463087    0.000000  0.536913\n",
       "NOK            2.480837e+07   1339.072493  0.895890    0.000000  0.104110\n",
       "SEK            2.481806e+07   1231.052366  0.889209    0.000000  0.110791\n",
       "USD            2.499460e+07    168.911676  0.846079    0.001134  0.153921"
      ]
     },
     "execution_count": 154,
     "metadata": {},
     "output_type": "execute_result"
    }
   ],
   "source": [
    "df_by_currency = df_merge.groupby('currency_code').mean()\n",
    "df_by_currency"
   ]
  },
  {
   "cell_type": "code",
   "execution_count": 155,
   "metadata": {},
   "outputs": [
    {
     "data": {
      "text/html": [
       "<div>\n",
       "<style scoped>\n",
       "    .dataframe tbody tr th:only-of-type {\n",
       "        vertical-align: middle;\n",
       "    }\n",
       "\n",
       "    .dataframe tbody tr th {\n",
       "        vertical-align: top;\n",
       "    }\n",
       "\n",
       "    .dataframe thead th {\n",
       "        text-align: right;\n",
       "    }\n",
       "</style>\n",
       "<table border=\"1\" class=\"dataframe\">\n",
       "  <thead>\n",
       "    <tr style=\"text-align: right;\">\n",
       "      <th></th>\n",
       "      <th>txid</th>\n",
       "      <th>amount</th>\n",
       "      <th>auth</th>\n",
       "      <th>chargeback</th>\n",
       "      <th>refusal</th>\n",
       "    </tr>\n",
       "    <tr>\n",
       "      <th>currency_code</th>\n",
       "      <th></th>\n",
       "      <th></th>\n",
       "      <th></th>\n",
       "      <th></th>\n",
       "      <th></th>\n",
       "    </tr>\n",
       "  </thead>\n",
       "  <tbody>\n",
       "    <tr>\n",
       "      <th>BRL</th>\n",
       "      <td>2.512313e+07</td>\n",
       "      <td>390.376509</td>\n",
       "      <td>1.0</td>\n",
       "      <td>0.016325</td>\n",
       "      <td>0.0</td>\n",
       "    </tr>\n",
       "    <tr>\n",
       "      <th>CAD</th>\n",
       "      <td>2.495120e+07</td>\n",
       "      <td>112.630219</td>\n",
       "      <td>1.0</td>\n",
       "      <td>0.000745</td>\n",
       "      <td>0.0</td>\n",
       "    </tr>\n",
       "    <tr>\n",
       "      <th>CHF</th>\n",
       "      <td>2.478608e+07</td>\n",
       "      <td>163.715910</td>\n",
       "      <td>1.0</td>\n",
       "      <td>0.000000</td>\n",
       "      <td>0.0</td>\n",
       "    </tr>\n",
       "    <tr>\n",
       "      <th>DKK</th>\n",
       "      <td>2.469343e+07</td>\n",
       "      <td>1053.637981</td>\n",
       "      <td>1.0</td>\n",
       "      <td>0.000000</td>\n",
       "      <td>0.0</td>\n",
       "    </tr>\n",
       "    <tr>\n",
       "      <th>EUR</th>\n",
       "      <td>2.498431e+07</td>\n",
       "      <td>118.806940</td>\n",
       "      <td>1.0</td>\n",
       "      <td>0.000872</td>\n",
       "      <td>0.0</td>\n",
       "    </tr>\n",
       "    <tr>\n",
       "      <th>GBP</th>\n",
       "      <td>2.514007e+07</td>\n",
       "      <td>114.353699</td>\n",
       "      <td>1.0</td>\n",
       "      <td>0.000000</td>\n",
       "      <td>0.0</td>\n",
       "    </tr>\n",
       "    <tr>\n",
       "      <th>JPY</th>\n",
       "      <td>2.547203e+07</td>\n",
       "      <td>9976.153732</td>\n",
       "      <td>1.0</td>\n",
       "      <td>0.000000</td>\n",
       "      <td>0.0</td>\n",
       "    </tr>\n",
       "    <tr>\n",
       "      <th>NOK</th>\n",
       "      <td>2.452221e+07</td>\n",
       "      <td>1227.870826</td>\n",
       "      <td>1.0</td>\n",
       "      <td>0.000000</td>\n",
       "      <td>0.0</td>\n",
       "    </tr>\n",
       "    <tr>\n",
       "      <th>SEK</th>\n",
       "      <td>2.473614e+07</td>\n",
       "      <td>1208.897995</td>\n",
       "      <td>1.0</td>\n",
       "      <td>0.000000</td>\n",
       "      <td>0.0</td>\n",
       "    </tr>\n",
       "    <tr>\n",
       "      <th>USD</th>\n",
       "      <td>2.497602e+07</td>\n",
       "      <td>164.654720</td>\n",
       "      <td>1.0</td>\n",
       "      <td>0.001341</td>\n",
       "      <td>0.0</td>\n",
       "    </tr>\n",
       "  </tbody>\n",
       "</table>\n",
       "</div>"
      ],
      "text/plain": [
       "                       txid       amount  auth  chargeback  refusal\n",
       "currency_code                                                      \n",
       "BRL            2.512313e+07   390.376509   1.0    0.016325      0.0\n",
       "CAD            2.495120e+07   112.630219   1.0    0.000745      0.0\n",
       "CHF            2.478608e+07   163.715910   1.0    0.000000      0.0\n",
       "DKK            2.469343e+07  1053.637981   1.0    0.000000      0.0\n",
       "EUR            2.498431e+07   118.806940   1.0    0.000872      0.0\n",
       "GBP            2.514007e+07   114.353699   1.0    0.000000      0.0\n",
       "JPY            2.547203e+07  9976.153732   1.0    0.000000      0.0\n",
       "NOK            2.452221e+07  1227.870826   1.0    0.000000      0.0\n",
       "SEK            2.473614e+07  1208.897995   1.0    0.000000      0.0\n",
       "USD            2.497602e+07   164.654720   1.0    0.001341      0.0"
      ]
     },
     "execution_count": 155,
     "metadata": {},
     "output_type": "execute_result"
    }
   ],
   "source": [
    "approved_df_by_currency = approved_transactions.groupby('currency_code').mean()\n",
    "approved_df_by_currency"
   ]
  },
  {
   "cell_type": "code",
   "execution_count": 156,
   "metadata": {},
   "outputs": [
    {
     "data": {
      "text/plain": [
       "<matplotlib.axes._subplots.AxesSubplot at 0x12a66d668>"
      ]
     },
     "execution_count": 156,
     "metadata": {},
     "output_type": "execute_result"
    },
    {
     "data": {
      "image/png": "[encoded data removed]",
      "text/plain": [
       "<Figure size 432x288 with 1 Axes>"
      ]
     },
     "metadata": {
      "needs_background": "light"
     },
     "output_type": "display_data"
    }
   ],
   "source": [
    "    sns.barplot(x='currency_code', y='amount', data=df_by_currency.reset_index())"
   ]
  },
  {
   "cell_type": "code",
   "execution_count": 157,
   "metadata": {},
   "outputs": [
    {
     "data": {
      "text/plain": [
       "<matplotlib.axes._subplots.AxesSubplot at 0x129f378d0>"
      ]
     },
     "execution_count": 157,
     "metadata": {},
     "output_type": "execute_result"
    },
    {
     "data": {
      "image/png": "[encoded data removed]",
      "text/plain": [
       "<Figure size 432x288 with 1 Axes>"
      ]
     },
     "metadata": {
      "needs_background": "light"
     },
     "output_type": "display_data"
    }
   ],
   "source": [
    "sns.barplot(x='currency_code', y='amount', data=approved_df_by_currency.reset_index())"
   ]
  },
  {
   "cell_type": "code",
   "execution_count": 158,
   "metadata": {},
   "outputs": [],
   "source": [
    "# Difference between Approved Avg Amounts - Total Avg Amount\n",
    "# Japan is an outlier. Could be due to JPY being in larger denominations. "
   ]
  },
  {
   "cell_type": "code",
   "execution_count": 159,
   "metadata": {},
   "outputs": [
    {
     "data": {
      "text/plain": [
       "<matplotlib.axes._subplots.AxesSubplot at 0x12a267048>"
      ]
     },
     "execution_count": 159,
     "metadata": {},
     "output_type": "execute_result"
    },
    {
     "data": {
      "image/png": "[encoded data removed]",
      "text/plain": [
       "<Figure size 432x288 with 1 Axes>"
      ]
     },
     "metadata": {
      "needs_background": "light"
     },
     "output_type": "display_data"
    }
   ],
   "source": [
    "sns.barplot(x='currency_code', y='amount', data=(approved_df_by_currency['amount'] - df_by_currency['amount']).reset_index())"
   ]
  },
  {
   "cell_type": "code",
   "execution_count": 160,
   "metadata": {},
   "outputs": [],
   "source": [
    "# Removed Japan temporarily to see impact across other currencies\n",
    "# Looking at it from purely a currency standpoint, average transactions are lower if unauthorized transactions are removed\n",
    "# The exception being in CHF, DKK"
   ]
  },
  {
   "cell_type": "code",
   "execution_count": 161,
   "metadata": {},
   "outputs": [
    {
     "data": {
      "text/plain": [
       "<matplotlib.axes._subplots.AxesSubplot at 0x12a363278>"
      ]
     },
     "execution_count": 161,
     "metadata": {},
     "output_type": "execute_result"
    },
    {
     "data": {
      "image/png": "[encoded data removed]",
      "text/plain": [
       "<Figure size 432x288 with 1 Axes>"
      ]
     },
     "metadata": {
      "needs_background": "light"
     },
     "output_type": "display_data"
    }
   ],
   "source": [
    "sns.barplot(x='currency_code', y='amount', data=(approved_df_by_currency['amount'] - df_by_currency['amount']).drop('JPY').reset_index())"
   ]
  },
  {
   "cell_type": "code",
   "execution_count": null,
   "metadata": {},
   "outputs": [],
   "source": []
  },
  {
   "cell_type": "markdown",
   "metadata": {},
   "source": [
    "## Average transaction value by scheme only "
   ]
  },
  {
   "cell_type": "code",
   "execution_count": 162,
   "metadata": {},
   "outputs": [
    {
     "data": {
      "text/html": [
       "<div>\n",
       "<style scoped>\n",
       "    .dataframe tbody tr th:only-of-type {\n",
       "        vertical-align: middle;\n",
       "    }\n",
       "\n",
       "    .dataframe tbody tr th {\n",
       "        vertical-align: top;\n",
       "    }\n",
       "\n",
       "    .dataframe thead th {\n",
       "        text-align: right;\n",
       "    }\n",
       "</style>\n",
       "<table border=\"1\" class=\"dataframe\">\n",
       "  <thead>\n",
       "    <tr style=\"text-align: right;\">\n",
       "      <th></th>\n",
       "      <th>txid</th>\n",
       "      <th>amount</th>\n",
       "      <th>auth</th>\n",
       "      <th>chargeback</th>\n",
       "      <th>refusal</th>\n",
       "    </tr>\n",
       "    <tr>\n",
       "      <th>scheme</th>\n",
       "      <th></th>\n",
       "      <th></th>\n",
       "      <th></th>\n",
       "      <th></th>\n",
       "      <th></th>\n",
       "    </tr>\n",
       "  </thead>\n",
       "  <tbody>\n",
       "    <tr>\n",
       "      <th>mc</th>\n",
       "      <td>2.502738e+07</td>\n",
       "      <td>299.014654</td>\n",
       "      <td>0.755907</td>\n",
       "      <td>0.003662</td>\n",
       "      <td>0.244093</td>\n",
       "    </tr>\n",
       "    <tr>\n",
       "      <th>visa</th>\n",
       "      <td>2.500183e+07</td>\n",
       "      <td>282.829367</td>\n",
       "      <td>0.881453</td>\n",
       "      <td>0.001734</td>\n",
       "      <td>0.118547</td>\n",
       "    </tr>\n",
       "  </tbody>\n",
       "</table>\n",
       "</div>"
      ],
      "text/plain": [
       "                txid      amount      auth  chargeback   refusal\n",
       "scheme                                                          \n",
       "mc      2.502738e+07  299.014654  0.755907    0.003662  0.244093\n",
       "visa    2.500183e+07  282.829367  0.881453    0.001734  0.118547"
      ]
     },
     "execution_count": 162,
     "metadata": {},
     "output_type": "execute_result"
    }
   ],
   "source": [
    "df_by_scheme = df_merge.groupby('scheme').mean()\n",
    "df_by_scheme"
   ]
  },
  {
   "cell_type": "code",
   "execution_count": 163,
   "metadata": {},
   "outputs": [
    {
     "data": {
      "text/html": [
       "<div>\n",
       "<style scoped>\n",
       "    .dataframe tbody tr th:only-of-type {\n",
       "        vertical-align: middle;\n",
       "    }\n",
       "\n",
       "    .dataframe tbody tr th {\n",
       "        vertical-align: top;\n",
       "    }\n",
       "\n",
       "    .dataframe thead th {\n",
       "        text-align: right;\n",
       "    }\n",
       "</style>\n",
       "<table border=\"1\" class=\"dataframe\">\n",
       "  <thead>\n",
       "    <tr style=\"text-align: right;\">\n",
       "      <th></th>\n",
       "      <th>txid</th>\n",
       "      <th>amount</th>\n",
       "      <th>auth</th>\n",
       "      <th>chargeback</th>\n",
       "      <th>refusal</th>\n",
       "    </tr>\n",
       "    <tr>\n",
       "      <th>scheme</th>\n",
       "      <th></th>\n",
       "      <th></th>\n",
       "      <th></th>\n",
       "      <th></th>\n",
       "      <th></th>\n",
       "    </tr>\n",
       "  </thead>\n",
       "  <tbody>\n",
       "    <tr>\n",
       "      <th>mc</th>\n",
       "      <td>2.500564e+07</td>\n",
       "      <td>266.218873</td>\n",
       "      <td>1.0</td>\n",
       "      <td>0.004845</td>\n",
       "      <td>0.0</td>\n",
       "    </tr>\n",
       "    <tr>\n",
       "      <th>visa</th>\n",
       "      <td>2.498348e+07</td>\n",
       "      <td>204.724840</td>\n",
       "      <td>1.0</td>\n",
       "      <td>0.001967</td>\n",
       "      <td>0.0</td>\n",
       "    </tr>\n",
       "  </tbody>\n",
       "</table>\n",
       "</div>"
      ],
      "text/plain": [
       "                txid      amount  auth  chargeback  refusal\n",
       "scheme                                                     \n",
       "mc      2.500564e+07  266.218873   1.0    0.004845      0.0\n",
       "visa    2.498348e+07  204.724840   1.0    0.001967      0.0"
      ]
     },
     "execution_count": 163,
     "metadata": {},
     "output_type": "execute_result"
    }
   ],
   "source": [
    "approved_df_by_scheme = approved_transactions.groupby('scheme').mean()\n",
    "approved_df_by_scheme"
   ]
  },
  {
   "cell_type": "code",
   "execution_count": 164,
   "metadata": {},
   "outputs": [
    {
     "data": {
      "text/plain": [
       "<matplotlib.axes._subplots.AxesSubplot at 0x12a43c4e0>"
      ]
     },
     "execution_count": 164,
     "metadata": {},
     "output_type": "execute_result"
    },
    {
     "data": {
      "image/png": "[encoded data removed]",
      "text/plain": [
       "<Figure size 432x288 with 1 Axes>"
      ]
     },
     "metadata": {
      "needs_background": "light"
     },
     "output_type": "display_data"
    }
   ],
   "source": [
    "sns.barplot(x='scheme', y='amount', data=df_by_scheme.reset_index(), palette='viridis')"
   ]
  },
  {
   "cell_type": "code",
   "execution_count": 165,
   "metadata": {},
   "outputs": [
    {
     "data": {
      "text/plain": [
       "<matplotlib.axes._subplots.AxesSubplot at 0x12a4f3f60>"
      ]
     },
     "execution_count": 165,
     "metadata": {},
     "output_type": "execute_result"
    },
    {
     "data": {
      "image/png": "[encoded data removed]",
      "text/plain": [
       "<Figure size 432x288 with 1 Axes>"
      ]
     },
     "metadata": {
      "needs_background": "light"
     },
     "output_type": "display_data"
    }
   ],
   "source": [
    "sns.barplot(x='scheme', y='amount', data=approved_df_by_scheme.reset_index(),palette='viridis')"
   ]
  },
  {
   "cell_type": "code",
   "execution_count": 166,
   "metadata": {},
   "outputs": [
    {
     "data": {
      "text/plain": [
       "<matplotlib.axes._subplots.AxesSubplot at 0x12a446b00>"
      ]
     },
     "execution_count": 166,
     "metadata": {},
     "output_type": "execute_result"
    },
    {
     "data": {
      "image/png": "[encoded data removed]",
      "text/plain": [
       "<Figure size 432x288 with 1 Axes>"
      ]
     },
     "metadata": {
      "needs_background": "light"
     },
     "output_type": "display_data"
    }
   ],
   "source": [
    "sns.barplot(x='scheme', y='amount', data=(approved_df_by_scheme['amount'] - df_by_scheme['amount']).reset_index(), palette='viridis')"
   ]
  },
  {
   "cell_type": "markdown",
   "metadata": {},
   "source": [
    "# Solution for 2D"
   ]
  },
  {
   "cell_type": "markdown",
   "metadata": {},
   "source": [
    "# Based on Authorized and Unauthorized transactions"
   ]
  },
  {
   "cell_type": "code",
   "execution_count": 167,
   "metadata": {},
   "outputs": [
    {
     "data": {
      "text/html": [
       "<div>\n",
       "<style scoped>\n",
       "    .dataframe tbody tr th:only-of-type {\n",
       "        vertical-align: middle;\n",
       "    }\n",
       "\n",
       "    .dataframe tbody tr th {\n",
       "        vertical-align: top;\n",
       "    }\n",
       "\n",
       "    .dataframe thead th {\n",
       "        text-align: right;\n",
       "    }\n",
       "</style>\n",
       "<table border=\"1\" class=\"dataframe\">\n",
       "  <thead>\n",
       "    <tr style=\"text-align: right;\">\n",
       "      <th></th>\n",
       "      <th>amount</th>\n",
       "    </tr>\n",
       "    <tr>\n",
       "      <th>currency_code</th>\n",
       "      <th></th>\n",
       "    </tr>\n",
       "  </thead>\n",
       "  <tbody>\n",
       "    <tr>\n",
       "      <th>BRL</th>\n",
       "      <td>526.562131</td>\n",
       "    </tr>\n",
       "    <tr>\n",
       "      <th>CAD</th>\n",
       "      <td>116.687211</td>\n",
       "    </tr>\n",
       "    <tr>\n",
       "      <th>CHF</th>\n",
       "      <td>178.199137</td>\n",
       "    </tr>\n",
       "    <tr>\n",
       "      <th>DKK</th>\n",
       "      <td>891.340788</td>\n",
       "    </tr>\n",
       "    <tr>\n",
       "      <th>EUR</th>\n",
       "      <td>132.661267</td>\n",
       "    </tr>\n",
       "    <tr>\n",
       "      <th>GBP</th>\n",
       "      <td>125.256602</td>\n",
       "    </tr>\n",
       "    <tr>\n",
       "      <th>JPY</th>\n",
       "      <td>16615.698598</td>\n",
       "    </tr>\n",
       "    <tr>\n",
       "      <th>NOK</th>\n",
       "      <td>1173.876935</td>\n",
       "    </tr>\n",
       "    <tr>\n",
       "      <th>SEK</th>\n",
       "      <td>1230.632819</td>\n",
       "    </tr>\n",
       "    <tr>\n",
       "      <th>USD</th>\n",
       "      <td>172.598802</td>\n",
       "    </tr>\n",
       "  </tbody>\n",
       "</table>\n",
       "</div>"
      ],
      "text/plain": [
       "                     amount\n",
       "currency_code              \n",
       "BRL              526.562131\n",
       "CAD              116.687211\n",
       "CHF              178.199137\n",
       "DKK              891.340788\n",
       "EUR              132.661267\n",
       "GBP              125.256602\n",
       "JPY            16615.698598\n",
       "NOK             1173.876935\n",
       "SEK             1230.632819\n",
       "USD              172.598802"
      ]
     },
     "execution_count": 167,
     "metadata": {},
     "output_type": "execute_result"
    }
   ],
   "source": [
    "pd.DataFrame(visa_curr_avg['amount'], visa_curr_avg.reset_index()['currency_code'])\n"
   ]
  },
  {
   "cell_type": "code",
   "execution_count": 168,
   "metadata": {},
   "outputs": [
    {
     "data": {
      "text/html": [
       "<div>\n",
       "<style scoped>\n",
       "    .dataframe tbody tr th:only-of-type {\n",
       "        vertical-align: middle;\n",
       "    }\n",
       "\n",
       "    .dataframe tbody tr th {\n",
       "        vertical-align: top;\n",
       "    }\n",
       "\n",
       "    .dataframe thead th {\n",
       "        text-align: right;\n",
       "    }\n",
       "</style>\n",
       "<table border=\"1\" class=\"dataframe\">\n",
       "  <thead>\n",
       "    <tr style=\"text-align: right;\">\n",
       "      <th></th>\n",
       "      <th>amount</th>\n",
       "    </tr>\n",
       "    <tr>\n",
       "      <th>currency_code</th>\n",
       "      <th></th>\n",
       "    </tr>\n",
       "  </thead>\n",
       "  <tbody>\n",
       "    <tr>\n",
       "      <th>BRL</th>\n",
       "      <td>451.902305</td>\n",
       "    </tr>\n",
       "    <tr>\n",
       "      <th>CAD</th>\n",
       "      <td>114.503847</td>\n",
       "    </tr>\n",
       "    <tr>\n",
       "      <th>CHF</th>\n",
       "      <td>150.643252</td>\n",
       "    </tr>\n",
       "    <tr>\n",
       "      <th>DKK</th>\n",
       "      <td>1102.039291</td>\n",
       "    </tr>\n",
       "    <tr>\n",
       "      <th>EUR</th>\n",
       "      <td>132.433334</td>\n",
       "    </tr>\n",
       "    <tr>\n",
       "      <th>GBP</th>\n",
       "      <td>165.316644</td>\n",
       "    </tr>\n",
       "    <tr>\n",
       "      <th>JPY</th>\n",
       "      <td>14345.901369</td>\n",
       "    </tr>\n",
       "    <tr>\n",
       "      <th>NOK</th>\n",
       "      <td>1689.230598</td>\n",
       "    </tr>\n",
       "    <tr>\n",
       "      <th>SEK</th>\n",
       "      <td>1231.215878</td>\n",
       "    </tr>\n",
       "    <tr>\n",
       "      <th>USD</th>\n",
       "      <td>160.925422</td>\n",
       "    </tr>\n",
       "  </tbody>\n",
       "</table>\n",
       "</div>"
      ],
      "text/plain": [
       "                     amount\n",
       "currency_code              \n",
       "BRL              451.902305\n",
       "CAD              114.503847\n",
       "CHF              150.643252\n",
       "DKK             1102.039291\n",
       "EUR              132.433334\n",
       "GBP              165.316644\n",
       "JPY            14345.901369\n",
       "NOK             1689.230598\n",
       "SEK             1231.215878\n",
       "USD              160.925422"
      ]
     },
     "execution_count": 168,
     "metadata": {},
     "output_type": "execute_result"
    }
   ],
   "source": [
    "pd.DataFrame(mc_curr_avg['amount'], visa_curr_avg.reset_index()['currency_code'])\n"
   ]
  },
  {
   "cell_type": "code",
   "execution_count": 169,
   "metadata": {},
   "outputs": [
    {
     "data": {
      "text/html": [
       "<div>\n",
       "<style scoped>\n",
       "    .dataframe tbody tr th:only-of-type {\n",
       "        vertical-align: middle;\n",
       "    }\n",
       "\n",
       "    .dataframe tbody tr th {\n",
       "        vertical-align: top;\n",
       "    }\n",
       "\n",
       "    .dataframe thead th {\n",
       "        text-align: right;\n",
       "    }\n",
       "</style>\n",
       "<table border=\"1\" class=\"dataframe\">\n",
       "  <thead>\n",
       "    <tr style=\"text-align: right;\">\n",
       "      <th></th>\n",
       "      <th>amount</th>\n",
       "    </tr>\n",
       "    <tr>\n",
       "      <th>currency_code</th>\n",
       "      <th></th>\n",
       "    </tr>\n",
       "  </thead>\n",
       "  <tbody>\n",
       "    <tr>\n",
       "      <th>BRL</th>\n",
       "      <td>478.542664</td>\n",
       "    </tr>\n",
       "    <tr>\n",
       "      <th>CAD</th>\n",
       "      <td>115.894873</td>\n",
       "    </tr>\n",
       "    <tr>\n",
       "      <th>CHF</th>\n",
       "      <td>159.655647</td>\n",
       "    </tr>\n",
       "    <tr>\n",
       "      <th>DKK</th>\n",
       "      <td>1040.673730</td>\n",
       "    </tr>\n",
       "    <tr>\n",
       "      <th>EUR</th>\n",
       "      <td>132.554092</td>\n",
       "    </tr>\n",
       "    <tr>\n",
       "      <th>GBP</th>\n",
       "      <td>135.091621</td>\n",
       "    </tr>\n",
       "    <tr>\n",
       "      <th>JPY</th>\n",
       "      <td>15975.889983</td>\n",
       "    </tr>\n",
       "    <tr>\n",
       "      <th>NOK</th>\n",
       "      <td>1339.072493</td>\n",
       "    </tr>\n",
       "    <tr>\n",
       "      <th>SEK</th>\n",
       "      <td>1231.052366</td>\n",
       "    </tr>\n",
       "    <tr>\n",
       "      <th>USD</th>\n",
       "      <td>168.911676</td>\n",
       "    </tr>\n",
       "  </tbody>\n",
       "</table>\n",
       "</div>"
      ],
      "text/plain": [
       "                     amount\n",
       "currency_code              \n",
       "BRL              478.542664\n",
       "CAD              115.894873\n",
       "CHF              159.655647\n",
       "DKK             1040.673730\n",
       "EUR              132.554092\n",
       "GBP              135.091621\n",
       "JPY            15975.889983\n",
       "NOK             1339.072493\n",
       "SEK             1231.052366\n",
       "USD              168.911676"
      ]
     },
     "execution_count": 169,
     "metadata": {},
     "output_type": "execute_result"
    }
   ],
   "source": [
    "pd.DataFrame(df_by_currency['amount'], df_by_currency.reset_index()['currency_code'])\n"
   ]
  },
  {
   "cell_type": "code",
   "execution_count": 170,
   "metadata": {},
   "outputs": [
    {
     "data": {
      "text/html": [
       "<div>\n",
       "<style scoped>\n",
       "    .dataframe tbody tr th:only-of-type {\n",
       "        vertical-align: middle;\n",
       "    }\n",
       "\n",
       "    .dataframe tbody tr th {\n",
       "        vertical-align: top;\n",
       "    }\n",
       "\n",
       "    .dataframe thead th {\n",
       "        text-align: right;\n",
       "    }\n",
       "</style>\n",
       "<table border=\"1\" class=\"dataframe\">\n",
       "  <thead>\n",
       "    <tr style=\"text-align: right;\">\n",
       "      <th></th>\n",
       "      <th>amount</th>\n",
       "    </tr>\n",
       "    <tr>\n",
       "      <th>scheme</th>\n",
       "      <th></th>\n",
       "    </tr>\n",
       "  </thead>\n",
       "  <tbody>\n",
       "    <tr>\n",
       "      <th>mc</th>\n",
       "      <td>299.014654</td>\n",
       "    </tr>\n",
       "    <tr>\n",
       "      <th>visa</th>\n",
       "      <td>282.829367</td>\n",
       "    </tr>\n",
       "  </tbody>\n",
       "</table>\n",
       "</div>"
      ],
      "text/plain": [
       "            amount\n",
       "scheme            \n",
       "mc      299.014654\n",
       "visa    282.829367"
      ]
     },
     "execution_count": 170,
     "metadata": {},
     "output_type": "execute_result"
    }
   ],
   "source": [
    "pd.DataFrame(df_by_scheme['amount'], df_by_scheme.reset_index()['scheme'])\n"
   ]
  },
  {
   "cell_type": "code",
   "execution_count": null,
   "metadata": {},
   "outputs": [],
   "source": []
  },
  {
   "cell_type": "markdown",
   "metadata": {},
   "source": [
    "# Based on Authorized Transactions only"
   ]
  },
  {
   "cell_type": "code",
   "execution_count": 171,
   "metadata": {},
   "outputs": [
    {
     "data": {
      "text/html": [
       "<div>\n",
       "<style scoped>\n",
       "    .dataframe tbody tr th:only-of-type {\n",
       "        vertical-align: middle;\n",
       "    }\n",
       "\n",
       "    .dataframe tbody tr th {\n",
       "        vertical-align: top;\n",
       "    }\n",
       "\n",
       "    .dataframe thead th {\n",
       "        text-align: right;\n",
       "    }\n",
       "</style>\n",
       "<table border=\"1\" class=\"dataframe\">\n",
       "  <thead>\n",
       "    <tr style=\"text-align: right;\">\n",
       "      <th></th>\n",
       "      <th>amount</th>\n",
       "    </tr>\n",
       "    <tr>\n",
       "      <th>currency_code</th>\n",
       "      <th></th>\n",
       "    </tr>\n",
       "  </thead>\n",
       "  <tbody>\n",
       "    <tr>\n",
       "      <th>BRL</th>\n",
       "      <td>417.761169</td>\n",
       "    </tr>\n",
       "    <tr>\n",
       "      <th>CAD</th>\n",
       "      <td>112.815117</td>\n",
       "    </tr>\n",
       "    <tr>\n",
       "      <th>CHF</th>\n",
       "      <td>181.704144</td>\n",
       "    </tr>\n",
       "    <tr>\n",
       "      <th>DKK</th>\n",
       "      <td>810.763696</td>\n",
       "    </tr>\n",
       "    <tr>\n",
       "      <th>EUR</th>\n",
       "      <td>117.855759</td>\n",
       "    </tr>\n",
       "    <tr>\n",
       "      <th>GBP</th>\n",
       "      <td>107.395220</td>\n",
       "    </tr>\n",
       "    <tr>\n",
       "      <th>JPY</th>\n",
       "      <td>9988.095000</td>\n",
       "    </tr>\n",
       "    <tr>\n",
       "      <th>NOK</th>\n",
       "      <td>1108.980991</td>\n",
       "    </tr>\n",
       "    <tr>\n",
       "      <th>SEK</th>\n",
       "      <td>1213.290920</td>\n",
       "    </tr>\n",
       "    <tr>\n",
       "      <th>USD</th>\n",
       "      <td>161.457212</td>\n",
       "    </tr>\n",
       "  </tbody>\n",
       "</table>\n",
       "</div>"
      ],
      "text/plain": [
       "                    amount\n",
       "currency_code             \n",
       "BRL             417.761169\n",
       "CAD             112.815117\n",
       "CHF             181.704144\n",
       "DKK             810.763696\n",
       "EUR             117.855759\n",
       "GBP             107.395220\n",
       "JPY            9988.095000\n",
       "NOK            1108.980991\n",
       "SEK            1213.290920\n",
       "USD             161.457212"
      ]
     },
     "execution_count": 171,
     "metadata": {},
     "output_type": "execute_result"
    }
   ],
   "source": [
    "pd.DataFrame(approved_visa_curr_avg['amount'], approved_visa_curr_avg.reset_index()['currency_code'])\n"
   ]
  },
  {
   "cell_type": "code",
   "execution_count": 172,
   "metadata": {},
   "outputs": [
    {
     "data": {
      "text/html": [
       "<div>\n",
       "<style scoped>\n",
       "    .dataframe tbody tr th:only-of-type {\n",
       "        vertical-align: middle;\n",
       "    }\n",
       "\n",
       "    .dataframe tbody tr th {\n",
       "        vertical-align: top;\n",
       "    }\n",
       "\n",
       "    .dataframe thead th {\n",
       "        text-align: right;\n",
       "    }\n",
       "</style>\n",
       "<table border=\"1\" class=\"dataframe\">\n",
       "  <thead>\n",
       "    <tr style=\"text-align: right;\">\n",
       "      <th></th>\n",
       "      <th>amount</th>\n",
       "    </tr>\n",
       "    <tr>\n",
       "      <th>currency_code</th>\n",
       "      <th></th>\n",
       "    </tr>\n",
       "  </thead>\n",
       "  <tbody>\n",
       "    <tr>\n",
       "      <th>BRL</th>\n",
       "      <td>376.690060</td>\n",
       "    </tr>\n",
       "    <tr>\n",
       "      <th>CAD</th>\n",
       "      <td>112.308420</td>\n",
       "    </tr>\n",
       "    <tr>\n",
       "      <th>CHF</th>\n",
       "      <td>155.599268</td>\n",
       "    </tr>\n",
       "    <tr>\n",
       "      <th>DKK</th>\n",
       "      <td>1137.012736</td>\n",
       "    </tr>\n",
       "    <tr>\n",
       "      <th>EUR</th>\n",
       "      <td>119.887586</td>\n",
       "    </tr>\n",
       "    <tr>\n",
       "      <th>GBP</th>\n",
       "      <td>134.265143</td>\n",
       "    </tr>\n",
       "    <tr>\n",
       "      <th>JPY</th>\n",
       "      <td>9944.729342</td>\n",
       "    </tr>\n",
       "    <tr>\n",
       "      <th>NOK</th>\n",
       "      <td>1479.237905</td>\n",
       "    </tr>\n",
       "    <tr>\n",
       "      <th>SEK</th>\n",
       "      <td>1207.170217</td>\n",
       "    </tr>\n",
       "    <tr>\n",
       "      <th>USD</th>\n",
       "      <td>173.585313</td>\n",
       "    </tr>\n",
       "  </tbody>\n",
       "</table>\n",
       "</div>"
      ],
      "text/plain": [
       "                    amount\n",
       "currency_code             \n",
       "BRL             376.690060\n",
       "CAD             112.308420\n",
       "CHF             155.599268\n",
       "DKK            1137.012736\n",
       "EUR             119.887586\n",
       "GBP             134.265143\n",
       "JPY            9944.729342\n",
       "NOK            1479.237905\n",
       "SEK            1207.170217\n",
       "USD             173.585313"
      ]
     },
     "execution_count": 172,
     "metadata": {},
     "output_type": "execute_result"
    }
   ],
   "source": [
    "pd.DataFrame(approved_mc_curr_avg['amount'], approved_mc_curr_avg.reset_index()['currency_code'])\n"
   ]
  },
  {
   "cell_type": "code",
   "execution_count": 173,
   "metadata": {},
   "outputs": [
    {
     "data": {
      "text/html": [
       "<div>\n",
       "<style scoped>\n",
       "    .dataframe tbody tr th:only-of-type {\n",
       "        vertical-align: middle;\n",
       "    }\n",
       "\n",
       "    .dataframe tbody tr th {\n",
       "        vertical-align: top;\n",
       "    }\n",
       "\n",
       "    .dataframe thead th {\n",
       "        text-align: right;\n",
       "    }\n",
       "</style>\n",
       "<table border=\"1\" class=\"dataframe\">\n",
       "  <thead>\n",
       "    <tr style=\"text-align: right;\">\n",
       "      <th></th>\n",
       "      <th>amount</th>\n",
       "    </tr>\n",
       "    <tr>\n",
       "      <th>currency_code</th>\n",
       "      <th></th>\n",
       "    </tr>\n",
       "  </thead>\n",
       "  <tbody>\n",
       "    <tr>\n",
       "      <th>BRL</th>\n",
       "      <td>390.376509</td>\n",
       "    </tr>\n",
       "    <tr>\n",
       "      <th>CAD</th>\n",
       "      <td>112.630219</td>\n",
       "    </tr>\n",
       "    <tr>\n",
       "      <th>CHF</th>\n",
       "      <td>163.715910</td>\n",
       "    </tr>\n",
       "    <tr>\n",
       "      <th>DKK</th>\n",
       "      <td>1053.637981</td>\n",
       "    </tr>\n",
       "    <tr>\n",
       "      <th>EUR</th>\n",
       "      <td>118.806940</td>\n",
       "    </tr>\n",
       "    <tr>\n",
       "      <th>GBP</th>\n",
       "      <td>114.353699</td>\n",
       "    </tr>\n",
       "    <tr>\n",
       "      <th>JPY</th>\n",
       "      <td>9976.153732</td>\n",
       "    </tr>\n",
       "    <tr>\n",
       "      <th>NOK</th>\n",
       "      <td>1227.870826</td>\n",
       "    </tr>\n",
       "    <tr>\n",
       "      <th>SEK</th>\n",
       "      <td>1208.897995</td>\n",
       "    </tr>\n",
       "    <tr>\n",
       "      <th>USD</th>\n",
       "      <td>164.654720</td>\n",
       "    </tr>\n",
       "  </tbody>\n",
       "</table>\n",
       "</div>"
      ],
      "text/plain": [
       "                    amount\n",
       "currency_code             \n",
       "BRL             390.376509\n",
       "CAD             112.630219\n",
       "CHF             163.715910\n",
       "DKK            1053.637981\n",
       "EUR             118.806940\n",
       "GBP             114.353699\n",
       "JPY            9976.153732\n",
       "NOK            1227.870826\n",
       "SEK            1208.897995\n",
       "USD             164.654720"
      ]
     },
     "execution_count": 173,
     "metadata": {},
     "output_type": "execute_result"
    }
   ],
   "source": [
    "pd.DataFrame(approved_df_by_currency['amount'], approved_df_by_currency.reset_index()['currency_code'])\n"
   ]
  },
  {
   "cell_type": "code",
   "execution_count": 174,
   "metadata": {},
   "outputs": [
    {
     "data": {
      "text/html": [
       "<div>\n",
       "<style scoped>\n",
       "    .dataframe tbody tr th:only-of-type {\n",
       "        vertical-align: middle;\n",
       "    }\n",
       "\n",
       "    .dataframe tbody tr th {\n",
       "        vertical-align: top;\n",
       "    }\n",
       "\n",
       "    .dataframe thead th {\n",
       "        text-align: right;\n",
       "    }\n",
       "</style>\n",
       "<table border=\"1\" class=\"dataframe\">\n",
       "  <thead>\n",
       "    <tr style=\"text-align: right;\">\n",
       "      <th></th>\n",
       "      <th>amount</th>\n",
       "    </tr>\n",
       "    <tr>\n",
       "      <th>scheme</th>\n",
       "      <th></th>\n",
       "    </tr>\n",
       "  </thead>\n",
       "  <tbody>\n",
       "    <tr>\n",
       "      <th>mc</th>\n",
       "      <td>266.218873</td>\n",
       "    </tr>\n",
       "    <tr>\n",
       "      <th>visa</th>\n",
       "      <td>204.724840</td>\n",
       "    </tr>\n",
       "  </tbody>\n",
       "</table>\n",
       "</div>"
      ],
      "text/plain": [
       "            amount\n",
       "scheme            \n",
       "mc      266.218873\n",
       "visa    204.724840"
      ]
     },
     "execution_count": 174,
     "metadata": {},
     "output_type": "execute_result"
    }
   ],
   "source": [
    "pd.DataFrame(approved_df_by_scheme['amount'], approved_df_by_scheme.reset_index()['scheme'])\n"
   ]
  },
  {
   "cell_type": "markdown",
   "metadata": {},
   "source": [
    "# Exercise 3: Improve authorization rate"
   ]
  },
  {
   "cell_type": "code",
   "execution_count": 175,
   "metadata": {},
   "outputs": [],
   "source": [
    "df_auth_rate =  pd.DataFrame(data=df_merge.groupby('currency_code').sum()['auth'], index=df_merge.groupby('currency_code').count()['auth'].reset_index()['currency_code'] )\n",
    "df_auth_rate['txid'] = df_merge.groupby('currency_code').count()['txid']\n",
    "df_auth_rate['unauth'] = df_auth_rate['txid'] - df_auth_rate['auth']\n"
   ]
  },
  {
   "cell_type": "code",
   "execution_count": 176,
   "metadata": {},
   "outputs": [],
   "source": [
    "def total_authorized(cols):\n",
    "    auth = cols[0]\n",
    "    txid = cols[1]\n",
    "    return auth/txid"
   ]
  },
  {
   "cell_type": "code",
   "execution_count": 177,
   "metadata": {},
   "outputs": [],
   "source": [
    "df_auth_rate['Pct Auth'] = (df_auth_rate[['auth', 'txid']].apply(total_authorized, axis=1))*100\n",
    "df_auth_rate['Pct Unauth'] = 100-(df_auth_rate['Pct Auth'])\n",
    "df_auth_rate['Pct Auth Pop'] = df_auth_rate['auth']/sum(df_merge['auth'] == 1)*100\n",
    "df_auth_rate['Pct UnAuth Pop'] = df_auth_rate['unauth']/sum(df_merge['auth'] == 0)*100\n",
    "df_auth_rate['Population Auth'] = sum(df_merge['auth'] == 1)\n",
    "df_auth_rate['Population UnAuth'] = sum(df_merge['auth'] == 0)"
   ]
  },
  {
   "cell_type": "code",
   "execution_count": 178,
   "metadata": {},
   "outputs": [
    {
     "data": {
      "text/html": [
       "<div>\n",
       "<style scoped>\n",
       "    .dataframe tbody tr th:only-of-type {\n",
       "        vertical-align: middle;\n",
       "    }\n",
       "\n",
       "    .dataframe tbody tr th {\n",
       "        vertical-align: top;\n",
       "    }\n",
       "\n",
       "    .dataframe thead th {\n",
       "        text-align: right;\n",
       "    }\n",
       "</style>\n",
       "<table border=\"1\" class=\"dataframe\">\n",
       "  <thead>\n",
       "    <tr style=\"text-align: right;\">\n",
       "      <th></th>\n",
       "      <th>auth</th>\n",
       "      <th>txid</th>\n",
       "      <th>unauth</th>\n",
       "      <th>Pct Auth</th>\n",
       "      <th>Pct Unauth</th>\n",
       "      <th>Pct Auth Pop</th>\n",
       "      <th>Pct UnAuth Pop</th>\n",
       "      <th>Population Auth</th>\n",
       "      <th>Population UnAuth</th>\n",
       "    </tr>\n",
       "    <tr>\n",
       "      <th>currency_code</th>\n",
       "      <th></th>\n",
       "      <th></th>\n",
       "      <th></th>\n",
       "      <th></th>\n",
       "      <th></th>\n",
       "      <th></th>\n",
       "      <th></th>\n",
       "      <th></th>\n",
       "      <th></th>\n",
       "    </tr>\n",
       "  </thead>\n",
       "  <tbody>\n",
       "    <tr>\n",
       "      <th>BRL</th>\n",
       "      <td>13966</td>\n",
       "      <td>18547</td>\n",
       "      <td>4581</td>\n",
       "      <td>75.300588</td>\n",
       "      <td>24.699412</td>\n",
       "      <td>11.853172</td>\n",
       "      <td>19.422539</td>\n",
       "      <td>117825</td>\n",
       "      <td>23586</td>\n",
       "    </tr>\n",
       "    <tr>\n",
       "      <th>CAD</th>\n",
       "      <td>6714</td>\n",
       "      <td>7385</td>\n",
       "      <td>671</td>\n",
       "      <td>90.914015</td>\n",
       "      <td>9.085985</td>\n",
       "      <td>5.698281</td>\n",
       "      <td>2.844908</td>\n",
       "      <td>117825</td>\n",
       "      <td>23586</td>\n",
       "    </tr>\n",
       "    <tr>\n",
       "      <th>CHF</th>\n",
       "      <td>357</td>\n",
       "      <td>425</td>\n",
       "      <td>68</td>\n",
       "      <td>84.000000</td>\n",
       "      <td>16.000000</td>\n",
       "      <td>0.302992</td>\n",
       "      <td>0.288307</td>\n",
       "      <td>117825</td>\n",
       "      <td>23586</td>\n",
       "    </tr>\n",
       "    <tr>\n",
       "      <th>DKK</th>\n",
       "      <td>540</td>\n",
       "      <td>697</td>\n",
       "      <td>157</td>\n",
       "      <td>77.474892</td>\n",
       "      <td>22.525108</td>\n",
       "      <td>0.458307</td>\n",
       "      <td>0.665649</td>\n",
       "      <td>117825</td>\n",
       "      <td>23586</td>\n",
       "    </tr>\n",
       "    <tr>\n",
       "      <th>EUR</th>\n",
       "      <td>12618</td>\n",
       "      <td>15270</td>\n",
       "      <td>2652</td>\n",
       "      <td>82.632613</td>\n",
       "      <td>17.367387</td>\n",
       "      <td>10.709102</td>\n",
       "      <td>11.243958</td>\n",
       "      <td>117825</td>\n",
       "      <td>23586</td>\n",
       "    </tr>\n",
       "    <tr>\n",
       "      <th>GBP</th>\n",
       "      <td>2425</td>\n",
       "      <td>2949</td>\n",
       "      <td>524</td>\n",
       "      <td>82.231265</td>\n",
       "      <td>17.768735</td>\n",
       "      <td>2.058137</td>\n",
       "      <td>2.221657</td>\n",
       "      <td>117825</td>\n",
       "      <td>23586</td>\n",
       "    </tr>\n",
       "    <tr>\n",
       "      <th>JPY</th>\n",
       "      <td>276</td>\n",
       "      <td>596</td>\n",
       "      <td>320</td>\n",
       "      <td>46.308725</td>\n",
       "      <td>53.691275</td>\n",
       "      <td>0.234246</td>\n",
       "      <td>1.356737</td>\n",
       "      <td>117825</td>\n",
       "      <td>23586</td>\n",
       "    </tr>\n",
       "    <tr>\n",
       "      <th>NOK</th>\n",
       "      <td>327</td>\n",
       "      <td>365</td>\n",
       "      <td>38</td>\n",
       "      <td>89.589041</td>\n",
       "      <td>10.410959</td>\n",
       "      <td>0.277530</td>\n",
       "      <td>0.161113</td>\n",
       "      <td>117825</td>\n",
       "      <td>23586</td>\n",
       "    </tr>\n",
       "    <tr>\n",
       "      <th>SEK</th>\n",
       "      <td>1541</td>\n",
       "      <td>1733</td>\n",
       "      <td>192</td>\n",
       "      <td>88.920946</td>\n",
       "      <td>11.079054</td>\n",
       "      <td>1.307872</td>\n",
       "      <td>0.814042</td>\n",
       "      <td>117825</td>\n",
       "      <td>23586</td>\n",
       "    </tr>\n",
       "    <tr>\n",
       "      <th>USD</th>\n",
       "      <td>79061</td>\n",
       "      <td>93444</td>\n",
       "      <td>14383</td>\n",
       "      <td>84.607893</td>\n",
       "      <td>15.392107</td>\n",
       "      <td>67.100361</td>\n",
       "      <td>60.981090</td>\n",
       "      <td>117825</td>\n",
       "      <td>23586</td>\n",
       "    </tr>\n",
       "  </tbody>\n",
       "</table>\n",
       "</div>"
      ],
      "text/plain": [
       "                auth   txid  unauth   Pct Auth  Pct Unauth  Pct Auth Pop  \\\n",
       "currency_code                                                              \n",
       "BRL            13966  18547    4581  75.300588   24.699412     11.853172   \n",
       "CAD             6714   7385     671  90.914015    9.085985      5.698281   \n",
       "CHF              357    425      68  84.000000   16.000000      0.302992   \n",
       "DKK              540    697     157  77.474892   22.525108      0.458307   \n",
       "EUR            12618  15270    2652  82.632613   17.367387     10.709102   \n",
       "GBP             2425   2949     524  82.231265   17.768735      2.058137   \n",
       "JPY              276    596     320  46.308725   53.691275      0.234246   \n",
       "NOK              327    365      38  89.589041   10.410959      0.277530   \n",
       "SEK             1541   1733     192  88.920946   11.079054      1.307872   \n",
       "USD            79061  93444   14383  84.607893   15.392107     67.100361   \n",
       "\n",
       "               Pct UnAuth Pop  Population Auth  Population UnAuth  \n",
       "currency_code                                                      \n",
       "BRL                 19.422539           117825              23586  \n",
       "CAD                  2.844908           117825              23586  \n",
       "CHF                  0.288307           117825              23586  \n",
       "DKK                  0.665649           117825              23586  \n",
       "EUR                 11.243958           117825              23586  \n",
       "GBP                  2.221657           117825              23586  \n",
       "JPY                  1.356737           117825              23586  \n",
       "NOK                  0.161113           117825              23586  \n",
       "SEK                  0.814042           117825              23586  \n",
       "USD                 60.981090           117825              23586  "
      ]
     },
     "execution_count": 178,
     "metadata": {},
     "output_type": "execute_result"
    }
   ],
   "source": [
    "df_auth_rate"
   ]
  },
  {
   "cell_type": "code",
   "execution_count": 179,
   "metadata": {},
   "outputs": [],
   "source": [
    "# Authorized Sums vs Unauthorized Sums"
   ]
  },
  {
   "cell_type": "code",
   "execution_count": 180,
   "metadata": {},
   "outputs": [
    {
     "data": {
      "text/plain": [
       "<matplotlib.legend.Legend at 0x125a392b0>"
      ]
     },
     "execution_count": 180,
     "metadata": {},
     "output_type": "execute_result"
    },
    {
     "data": {
      "image/png": "[encoded data removed]",
      "text/plain": [
       "<Figure size 576x576 with 1 Axes>"
      ]
     },
     "metadata": {
      "needs_background": "light"
     },
     "output_type": "display_data"
    }
   ],
   "source": [
    "plt.figure(figsize=(8,8))\n",
    "sns.barplot(x='currency_code', y='amount', data=df_merge, hue='auth', palette='viridis')\n",
    "plt.legend(bbox_to_anchor=(1.05, 1), loc=2, borderaxespad=0.)\n"
   ]
  },
  {
   "cell_type": "code",
   "execution_count": 181,
   "metadata": {},
   "outputs": [],
   "source": [
    "# Removing Japan to scale down"
   ]
  },
  {
   "cell_type": "code",
   "execution_count": 182,
   "metadata": {},
   "outputs": [
    {
     "data": {
      "text/plain": [
       "<matplotlib.legend.Legend at 0x129bd2128>"
      ]
     },
     "execution_count": 182,
     "metadata": {},
     "output_type": "execute_result"
    },
    {
     "data": {
      "image/png": "[encoded data removed]",
      "text/plain": [
       "<Figure size 576x576 with 1 Axes>"
      ]
     },
     "metadata": {
      "needs_background": "light"
     },
     "output_type": "display_data"
    }
   ],
   "source": [
    "plt.figure(figsize=(8,8))\n",
    "sns.barplot(x='currency_code', y='amount', data=df_merge[df_merge['currency_code']!='JPY'], hue='auth', palette='viridis')\n",
    "plt.legend(bbox_to_anchor=(1.05, 1), loc=2, borderaxespad=0.)\n"
   ]
  },
  {
   "cell_type": "code",
   "execution_count": null,
   "metadata": {},
   "outputs": [],
   "source": []
  }
 ],
 "metadata": {
  "kernelspec": {
   "display_name": "Python 3",
   "language": "python",
   "name": "python3"
  },
  "language_info": {
   "codemirror_mode": {
    "name": "ipython",
    "version": 3
   },
   "file_extension": ".py",
   "mimetype": "text/x-python",
   "name": "python",
   "nbconvert_exporter": "python",
   "pygments_lexer": "ipython3",
   "version": "3.7.3"
  }
 },
 "nbformat": 4,
 "nbformat_minor": 2
}
