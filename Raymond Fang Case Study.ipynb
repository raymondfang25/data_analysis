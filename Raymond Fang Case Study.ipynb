{
 "cells": [
  {
   "cell_type": "code",
   "execution_count": 1,
   "metadata": {},
   "outputs": [],
   "source": [
    "import numpy as np\n",
    "import pandas as pd\n",
    "import seaborn as sns\n",
    "import matplotlib.pyplot as plt\n",
    "sns.set_style('whitegrid')\n",
    "%matplotlib inline"
   ]
  },
  {
   "cell_type": "code",
   "execution_count": 2,
   "metadata": {},
   "outputs": [],
   "source": [
    "df1 = pd.read_csv('adyen_file_1.csv')"
   ]
  },
  {
   "cell_type": "code",
   "execution_count": 3,
   "metadata": {},
   "outputs": [],
   "source": [
    "df2 = pd.read_csv('adyen_file_2.csv')"
   ]
  },
  {
   "cell_type": "code",
   "execution_count": 4,
   "metadata": {
    "scrolled": true
   },
   "outputs": [
    {
     "name": "stdout",
     "output_type": "stream",
     "text": [
      "<class 'pandas.core.frame.DataFrame'>\n",
      "RangeIndex: 378388 entries, 0 to 378387\n",
      "Data columns (total 10 columns):\n",
      "creation_date      378388 non-null object\n",
      "txid               378388 non-null int64\n",
      "amount             378388 non-null object\n",
      "scheme             378388 non-null object\n",
      "avs                378388 non-null object\n",
      "cvc                378388 non-null object\n",
      "issuing_country    378388 non-null object\n",
      "auth               378388 non-null int64\n",
      "chargeback         378388 non-null int64\n",
      "refusal            378388 non-null int64\n",
      "dtypes: int64(4), object(6)\n",
      "memory usage: 28.9+ MB\n"
     ]
    }
   ],
   "source": [
    "df1.info()"
   ]
  },
  {
   "cell_type": "code",
   "execution_count": 5,
   "metadata": {},
   "outputs": [
    {
     "name": "stdout",
     "output_type": "stream",
     "text": [
      "<class 'pandas.core.frame.DataFrame'>\n",
      "RangeIndex: 189194 entries, 0 to 189193\n",
      "Data columns (total 3 columns):\n",
      "txid              189194 non-null int64\n",
      "funding_source    189194 non-null object\n",
      "currency_code     189194 non-null object\n",
      "dtypes: int64(1), object(2)\n",
      "memory usage: 4.3+ MB\n"
     ]
    }
   ],
   "source": [
    "df2.info()"
   ]
  },
  {
   "cell_type": "code",
   "execution_count": 6,
   "metadata": {},
   "outputs": [
    {
     "data": {
      "text/html": [
       "<div>\n",
       "<style scoped>\n",
       "    .dataframe tbody tr th:only-of-type {\n",
       "        vertical-align: middle;\n",
       "    }\n",
       "\n",
       "    .dataframe tbody tr th {\n",
       "        vertical-align: top;\n",
       "    }\n",
       "\n",
       "    .dataframe thead th {\n",
       "        text-align: right;\n",
       "    }\n",
       "</style>\n",
       "<table border=\"1\" class=\"dataframe\">\n",
       "  <thead>\n",
       "    <tr style=\"text-align: right;\">\n",
       "      <th></th>\n",
       "      <th>creation_date</th>\n",
       "      <th>txid</th>\n",
       "      <th>amount</th>\n",
       "      <th>scheme</th>\n",
       "      <th>avs</th>\n",
       "      <th>cvc</th>\n",
       "      <th>issuing_country</th>\n",
       "      <th>auth</th>\n",
       "      <th>chargeback</th>\n",
       "      <th>refusal</th>\n",
       "    </tr>\n",
       "  </thead>\n",
       "  <tbody>\n",
       "    <tr>\n",
       "      <th>0</th>\n",
       "      <td>2019-08-31</td>\n",
       "      <td>-1</td>\n",
       "      <td>62.68</td>\n",
       "      <td>0</td>\n",
       "      <td>Yes</td>\n",
       "      <td>Yes</td>\n",
       "      <td>US</td>\n",
       "      <td>1</td>\n",
       "      <td>0</td>\n",
       "      <td>0</td>\n",
       "    </tr>\n",
       "    <tr>\n",
       "      <th>1</th>\n",
       "      <td>2019-08-31</td>\n",
       "      <td>13458888</td>\n",
       "      <td>55.39</td>\n",
       "      <td>0</td>\n",
       "      <td>Yes</td>\n",
       "      <td>Yes</td>\n",
       "      <td>US</td>\n",
       "      <td>1</td>\n",
       "      <td>0</td>\n",
       "      <td>0</td>\n",
       "    </tr>\n",
       "    <tr>\n",
       "      <th>2</th>\n",
       "      <td>2019-08-31</td>\n",
       "      <td>31160339</td>\n",
       "      <td>413.30</td>\n",
       "      <td>0</td>\n",
       "      <td>Yes</td>\n",
       "      <td>Yes</td>\n",
       "      <td>US</td>\n",
       "      <td>1</td>\n",
       "      <td>0</td>\n",
       "      <td>0</td>\n",
       "    </tr>\n",
       "    <tr>\n",
       "      <th>3</th>\n",
       "      <td>2019-08-31</td>\n",
       "      <td>39297889</td>\n",
       "      <td>712.00</td>\n",
       "      <td>mc</td>\n",
       "      <td>Yes</td>\n",
       "      <td>Yes</td>\n",
       "      <td>SE</td>\n",
       "      <td>1</td>\n",
       "      <td>0</td>\n",
       "      <td>0</td>\n",
       "    </tr>\n",
       "    <tr>\n",
       "      <th>4</th>\n",
       "      <td>2019-08-31</td>\n",
       "      <td>38608158</td>\n",
       "      <td>262.87</td>\n",
       "      <td>mc</td>\n",
       "      <td>Yes</td>\n",
       "      <td>Yes</td>\n",
       "      <td>US</td>\n",
       "      <td>1</td>\n",
       "      <td>0</td>\n",
       "      <td>0</td>\n",
       "    </tr>\n",
       "  </tbody>\n",
       "</table>\n",
       "</div>"
      ],
      "text/plain": [
       "  creation_date      txid  amount scheme  avs  cvc issuing_country  auth  \\\n",
       "0    2019-08-31        -1   62.68      0  Yes  Yes              US     1   \n",
       "1    2019-08-31  13458888   55.39      0  Yes  Yes              US     1   \n",
       "2    2019-08-31  31160339  413.30      0  Yes  Yes              US     1   \n",
       "3    2019-08-31  39297889  712.00     mc  Yes  Yes              SE     1   \n",
       "4    2019-08-31  38608158  262.87     mc  Yes  Yes              US     1   \n",
       "\n",
       "   chargeback  refusal  \n",
       "0           0        0  \n",
       "1           0        0  \n",
       "2           0        0  \n",
       "3           0        0  \n",
       "4           0        0  "
      ]
     },
     "execution_count": 6,
     "metadata": {},
     "output_type": "execute_result"
    }
   ],
   "source": [
    "df1.head()"
   ]
  },
  {
   "cell_type": "code",
   "execution_count": 7,
   "metadata": {},
   "outputs": [
    {
     "data": {
      "text/html": [
       "<div>\n",
       "<style scoped>\n",
       "    .dataframe tbody tr th:only-of-type {\n",
       "        vertical-align: middle;\n",
       "    }\n",
       "\n",
       "    .dataframe tbody tr th {\n",
       "        vertical-align: top;\n",
       "    }\n",
       "\n",
       "    .dataframe thead th {\n",
       "        text-align: right;\n",
       "    }\n",
       "</style>\n",
       "<table border=\"1\" class=\"dataframe\">\n",
       "  <thead>\n",
       "    <tr style=\"text-align: right;\">\n",
       "      <th></th>\n",
       "      <th>txid</th>\n",
       "      <th>funding_source</th>\n",
       "      <th>currency_code</th>\n",
       "    </tr>\n",
       "  </thead>\n",
       "  <tbody>\n",
       "    <tr>\n",
       "      <th>0</th>\n",
       "      <td>31192331</td>\n",
       "      <td>DEBIT</td>\n",
       "      <td>BRL</td>\n",
       "    </tr>\n",
       "    <tr>\n",
       "      <th>1</th>\n",
       "      <td>12512484</td>\n",
       "      <td>DEBIT</td>\n",
       "      <td>BRL</td>\n",
       "    </tr>\n",
       "    <tr>\n",
       "      <th>2</th>\n",
       "      <td>26217282</td>\n",
       "      <td>DEBIT</td>\n",
       "      <td>BRL</td>\n",
       "    </tr>\n",
       "    <tr>\n",
       "      <th>3</th>\n",
       "      <td>31567208</td>\n",
       "      <td>DEBIT</td>\n",
       "      <td>BRL</td>\n",
       "    </tr>\n",
       "    <tr>\n",
       "      <th>4</th>\n",
       "      <td>-1</td>\n",
       "      <td>DEBIT</td>\n",
       "      <td>BRL</td>\n",
       "    </tr>\n",
       "  </tbody>\n",
       "</table>\n",
       "</div>"
      ],
      "text/plain": [
       "       txid funding_source currency_code\n",
       "0  31192331          DEBIT           BRL\n",
       "1  12512484          DEBIT           BRL\n",
       "2  26217282          DEBIT           BRL\n",
       "3  31567208          DEBIT           BRL\n",
       "4        -1          DEBIT           BRL"
      ]
     },
     "execution_count": 7,
     "metadata": {},
     "output_type": "execute_result"
    }
   ],
   "source": [
    "df2.head()"
   ]
  },
  {
   "cell_type": "code",
   "execution_count": 8,
   "metadata": {},
   "outputs": [],
   "source": [
    "df1['amount'] = df1['amount'].apply(lambda x: x.replace(',',''))\n",
    "df1['amount'] = pd.to_numeric(df1['amount'])"
   ]
  },
  {
   "cell_type": "markdown",
   "metadata": {},
   "source": [
    "# Exercise 1A: Remove txid = -1"
   ]
  },
  {
   "cell_type": "code",
   "execution_count": 9,
   "metadata": {},
   "outputs": [],
   "source": [
    "df1 = df1[df1['txid'] != -1]"
   ]
  },
  {
   "cell_type": "code",
   "execution_count": 10,
   "metadata": {},
   "outputs": [
    {
     "data": {
      "text/html": [
       "<div>\n",
       "<style scoped>\n",
       "    .dataframe tbody tr th:only-of-type {\n",
       "        vertical-align: middle;\n",
       "    }\n",
       "\n",
       "    .dataframe tbody tr th {\n",
       "        vertical-align: top;\n",
       "    }\n",
       "\n",
       "    .dataframe thead th {\n",
       "        text-align: right;\n",
       "    }\n",
       "</style>\n",
       "<table border=\"1\" class=\"dataframe\">\n",
       "  <thead>\n",
       "    <tr style=\"text-align: right;\">\n",
       "      <th></th>\n",
       "      <th>creation_date</th>\n",
       "      <th>txid</th>\n",
       "      <th>amount</th>\n",
       "      <th>scheme</th>\n",
       "      <th>avs</th>\n",
       "      <th>cvc</th>\n",
       "      <th>issuing_country</th>\n",
       "      <th>auth</th>\n",
       "      <th>chargeback</th>\n",
       "      <th>refusal</th>\n",
       "    </tr>\n",
       "  </thead>\n",
       "  <tbody>\n",
       "    <tr>\n",
       "      <th>1</th>\n",
       "      <td>2019-08-31</td>\n",
       "      <td>13458888</td>\n",
       "      <td>55.39</td>\n",
       "      <td>0</td>\n",
       "      <td>Yes</td>\n",
       "      <td>Yes</td>\n",
       "      <td>US</td>\n",
       "      <td>1</td>\n",
       "      <td>0</td>\n",
       "      <td>0</td>\n",
       "    </tr>\n",
       "    <tr>\n",
       "      <th>2</th>\n",
       "      <td>2019-08-31</td>\n",
       "      <td>31160339</td>\n",
       "      <td>413.30</td>\n",
       "      <td>0</td>\n",
       "      <td>Yes</td>\n",
       "      <td>Yes</td>\n",
       "      <td>US</td>\n",
       "      <td>1</td>\n",
       "      <td>0</td>\n",
       "      <td>0</td>\n",
       "    </tr>\n",
       "    <tr>\n",
       "      <th>3</th>\n",
       "      <td>2019-08-31</td>\n",
       "      <td>39297889</td>\n",
       "      <td>712.00</td>\n",
       "      <td>mc</td>\n",
       "      <td>Yes</td>\n",
       "      <td>Yes</td>\n",
       "      <td>SE</td>\n",
       "      <td>1</td>\n",
       "      <td>0</td>\n",
       "      <td>0</td>\n",
       "    </tr>\n",
       "    <tr>\n",
       "      <th>4</th>\n",
       "      <td>2019-08-31</td>\n",
       "      <td>38608158</td>\n",
       "      <td>262.87</td>\n",
       "      <td>mc</td>\n",
       "      <td>Yes</td>\n",
       "      <td>Yes</td>\n",
       "      <td>US</td>\n",
       "      <td>1</td>\n",
       "      <td>0</td>\n",
       "      <td>0</td>\n",
       "    </tr>\n",
       "    <tr>\n",
       "      <th>7</th>\n",
       "      <td>2019-08-31</td>\n",
       "      <td>34579337</td>\n",
       "      <td>56.90</td>\n",
       "      <td>0</td>\n",
       "      <td>Yes</td>\n",
       "      <td>Yes</td>\n",
       "      <td>US</td>\n",
       "      <td>1</td>\n",
       "      <td>0</td>\n",
       "      <td>0</td>\n",
       "    </tr>\n",
       "  </tbody>\n",
       "</table>\n",
       "</div>"
      ],
      "text/plain": [
       "  creation_date      txid  amount scheme  avs  cvc issuing_country  auth  \\\n",
       "1    2019-08-31  13458888   55.39      0  Yes  Yes              US     1   \n",
       "2    2019-08-31  31160339  413.30      0  Yes  Yes              US     1   \n",
       "3    2019-08-31  39297889  712.00     mc  Yes  Yes              SE     1   \n",
       "4    2019-08-31  38608158  262.87     mc  Yes  Yes              US     1   \n",
       "7    2019-08-31  34579337   56.90      0  Yes  Yes              US     1   \n",
       "\n",
       "   chargeback  refusal  \n",
       "1           0        0  \n",
       "2           0        0  \n",
       "3           0        0  \n",
       "4           0        0  \n",
       "7           0        0  "
      ]
     },
     "execution_count": 10,
     "metadata": {},
     "output_type": "execute_result"
    }
   ],
   "source": [
    "df1.head()"
   ]
  },
  {
   "cell_type": "code",
   "execution_count": 11,
   "metadata": {},
   "outputs": [],
   "source": [
    "df2 = df2[df2['txid'] != -1]"
   ]
  },
  {
   "cell_type": "code",
   "execution_count": 12,
   "metadata": {},
   "outputs": [
    {
     "data": {
      "text/html": [
       "<div>\n",
       "<style scoped>\n",
       "    .dataframe tbody tr th:only-of-type {\n",
       "        vertical-align: middle;\n",
       "    }\n",
       "\n",
       "    .dataframe tbody tr th {\n",
       "        vertical-align: top;\n",
       "    }\n",
       "\n",
       "    .dataframe thead th {\n",
       "        text-align: right;\n",
       "    }\n",
       "</style>\n",
       "<table border=\"1\" class=\"dataframe\">\n",
       "  <thead>\n",
       "    <tr style=\"text-align: right;\">\n",
       "      <th></th>\n",
       "      <th>txid</th>\n",
       "      <th>funding_source</th>\n",
       "      <th>currency_code</th>\n",
       "    </tr>\n",
       "  </thead>\n",
       "  <tbody>\n",
       "    <tr>\n",
       "      <th>0</th>\n",
       "      <td>31192331</td>\n",
       "      <td>DEBIT</td>\n",
       "      <td>BRL</td>\n",
       "    </tr>\n",
       "    <tr>\n",
       "      <th>1</th>\n",
       "      <td>12512484</td>\n",
       "      <td>DEBIT</td>\n",
       "      <td>BRL</td>\n",
       "    </tr>\n",
       "    <tr>\n",
       "      <th>2</th>\n",
       "      <td>26217282</td>\n",
       "      <td>DEBIT</td>\n",
       "      <td>BRL</td>\n",
       "    </tr>\n",
       "    <tr>\n",
       "      <th>3</th>\n",
       "      <td>31567208</td>\n",
       "      <td>DEBIT</td>\n",
       "      <td>BRL</td>\n",
       "    </tr>\n",
       "    <tr>\n",
       "      <th>5</th>\n",
       "      <td>18379053</td>\n",
       "      <td>PREPAID</td>\n",
       "      <td>BRL</td>\n",
       "    </tr>\n",
       "  </tbody>\n",
       "</table>\n",
       "</div>"
      ],
      "text/plain": [
       "       txid funding_source currency_code\n",
       "0  31192331          DEBIT           BRL\n",
       "1  12512484          DEBIT           BRL\n",
       "2  26217282          DEBIT           BRL\n",
       "3  31567208          DEBIT           BRL\n",
       "5  18379053        PREPAID           BRL"
      ]
     },
     "execution_count": 12,
     "metadata": {},
     "output_type": "execute_result"
    }
   ],
   "source": [
    "df2.head()"
   ]
  },
  {
   "cell_type": "markdown",
   "metadata": {},
   "source": [
    "# Exercise 1B: Replacing 0's with Visa"
   ]
  },
  {
   "cell_type": "code",
   "execution_count": 13,
   "metadata": {},
   "outputs": [],
   "source": [
    "df1['scheme'] = df1['scheme'].apply(lambda x: 'visa' if x == '0' else x)"
   ]
  },
  {
   "cell_type": "code",
   "execution_count": 14,
   "metadata": {},
   "outputs": [
    {
     "data": {
      "text/html": [
       "<div>\n",
       "<style scoped>\n",
       "    .dataframe tbody tr th:only-of-type {\n",
       "        vertical-align: middle;\n",
       "    }\n",
       "\n",
       "    .dataframe tbody tr th {\n",
       "        vertical-align: top;\n",
       "    }\n",
       "\n",
       "    .dataframe thead th {\n",
       "        text-align: right;\n",
       "    }\n",
       "</style>\n",
       "<table border=\"1\" class=\"dataframe\">\n",
       "  <thead>\n",
       "    <tr style=\"text-align: right;\">\n",
       "      <th></th>\n",
       "      <th>creation_date</th>\n",
       "      <th>txid</th>\n",
       "      <th>amount</th>\n",
       "      <th>scheme</th>\n",
       "      <th>avs</th>\n",
       "      <th>cvc</th>\n",
       "      <th>issuing_country</th>\n",
       "      <th>auth</th>\n",
       "      <th>chargeback</th>\n",
       "      <th>refusal</th>\n",
       "    </tr>\n",
       "  </thead>\n",
       "  <tbody>\n",
       "    <tr>\n",
       "      <th>1</th>\n",
       "      <td>2019-08-31</td>\n",
       "      <td>13458888</td>\n",
       "      <td>55.39</td>\n",
       "      <td>visa</td>\n",
       "      <td>Yes</td>\n",
       "      <td>Yes</td>\n",
       "      <td>US</td>\n",
       "      <td>1</td>\n",
       "      <td>0</td>\n",
       "      <td>0</td>\n",
       "    </tr>\n",
       "    <tr>\n",
       "      <th>2</th>\n",
       "      <td>2019-08-31</td>\n",
       "      <td>31160339</td>\n",
       "      <td>413.30</td>\n",
       "      <td>visa</td>\n",
       "      <td>Yes</td>\n",
       "      <td>Yes</td>\n",
       "      <td>US</td>\n",
       "      <td>1</td>\n",
       "      <td>0</td>\n",
       "      <td>0</td>\n",
       "    </tr>\n",
       "    <tr>\n",
       "      <th>3</th>\n",
       "      <td>2019-08-31</td>\n",
       "      <td>39297889</td>\n",
       "      <td>712.00</td>\n",
       "      <td>mc</td>\n",
       "      <td>Yes</td>\n",
       "      <td>Yes</td>\n",
       "      <td>SE</td>\n",
       "      <td>1</td>\n",
       "      <td>0</td>\n",
       "      <td>0</td>\n",
       "    </tr>\n",
       "    <tr>\n",
       "      <th>4</th>\n",
       "      <td>2019-08-31</td>\n",
       "      <td>38608158</td>\n",
       "      <td>262.87</td>\n",
       "      <td>mc</td>\n",
       "      <td>Yes</td>\n",
       "      <td>Yes</td>\n",
       "      <td>US</td>\n",
       "      <td>1</td>\n",
       "      <td>0</td>\n",
       "      <td>0</td>\n",
       "    </tr>\n",
       "    <tr>\n",
       "      <th>7</th>\n",
       "      <td>2019-08-31</td>\n",
       "      <td>34579337</td>\n",
       "      <td>56.90</td>\n",
       "      <td>visa</td>\n",
       "      <td>Yes</td>\n",
       "      <td>Yes</td>\n",
       "      <td>US</td>\n",
       "      <td>1</td>\n",
       "      <td>0</td>\n",
       "      <td>0</td>\n",
       "    </tr>\n",
       "  </tbody>\n",
       "</table>\n",
       "</div>"
      ],
      "text/plain": [
       "  creation_date      txid  amount scheme  avs  cvc issuing_country  auth  \\\n",
       "1    2019-08-31  13458888   55.39   visa  Yes  Yes              US     1   \n",
       "2    2019-08-31  31160339  413.30   visa  Yes  Yes              US     1   \n",
       "3    2019-08-31  39297889  712.00     mc  Yes  Yes              SE     1   \n",
       "4    2019-08-31  38608158  262.87     mc  Yes  Yes              US     1   \n",
       "7    2019-08-31  34579337   56.90   visa  Yes  Yes              US     1   \n",
       "\n",
       "   chargeback  refusal  \n",
       "1           0        0  \n",
       "2           0        0  \n",
       "3           0        0  \n",
       "4           0        0  \n",
       "7           0        0  "
      ]
     },
     "execution_count": 14,
     "metadata": {},
     "output_type": "execute_result"
    }
   ],
   "source": [
    "df1.head()"
   ]
  },
  {
   "cell_type": "markdown",
   "metadata": {},
   "source": [
    "# Exercise 1C: Removing duplicates"
   ]
  },
  {
   "cell_type": "code",
   "execution_count": 15,
   "metadata": {},
   "outputs": [
    {
     "data": {
      "text/html": [
       "<div>\n",
       "<style scoped>\n",
       "    .dataframe tbody tr th:only-of-type {\n",
       "        vertical-align: middle;\n",
       "    }\n",
       "\n",
       "    .dataframe tbody tr th {\n",
       "        vertical-align: top;\n",
       "    }\n",
       "\n",
       "    .dataframe thead th {\n",
       "        text-align: right;\n",
       "    }\n",
       "</style>\n",
       "<table border=\"1\" class=\"dataframe\">\n",
       "  <thead>\n",
       "    <tr style=\"text-align: right;\">\n",
       "      <th></th>\n",
       "      <th>creation_date</th>\n",
       "      <th>txid</th>\n",
       "      <th>amount</th>\n",
       "      <th>scheme</th>\n",
       "      <th>avs</th>\n",
       "      <th>cvc</th>\n",
       "      <th>issuing_country</th>\n",
       "      <th>auth</th>\n",
       "      <th>chargeback</th>\n",
       "      <th>refusal</th>\n",
       "    </tr>\n",
       "  </thead>\n",
       "  <tbody>\n",
       "    <tr>\n",
       "      <th>378381</th>\n",
       "      <td>2019-06-01</td>\n",
       "      <td>29700872</td>\n",
       "      <td>25.66</td>\n",
       "      <td>visa</td>\n",
       "      <td>Yes</td>\n",
       "      <td>Yes</td>\n",
       "      <td>US</td>\n",
       "      <td>1</td>\n",
       "      <td>0</td>\n",
       "      <td>0</td>\n",
       "    </tr>\n",
       "    <tr>\n",
       "      <th>378384</th>\n",
       "      <td>2019-06-01</td>\n",
       "      <td>25076392</td>\n",
       "      <td>71.65</td>\n",
       "      <td>visa</td>\n",
       "      <td>Yes</td>\n",
       "      <td>Yes</td>\n",
       "      <td>US</td>\n",
       "      <td>1</td>\n",
       "      <td>0</td>\n",
       "      <td>0</td>\n",
       "    </tr>\n",
       "    <tr>\n",
       "      <th>378385</th>\n",
       "      <td>2019-06-01</td>\n",
       "      <td>32214725</td>\n",
       "      <td>344.00</td>\n",
       "      <td>visa</td>\n",
       "      <td>Yes</td>\n",
       "      <td>Yes</td>\n",
       "      <td>BR</td>\n",
       "      <td>1</td>\n",
       "      <td>0</td>\n",
       "      <td>0</td>\n",
       "    </tr>\n",
       "    <tr>\n",
       "      <th>378386</th>\n",
       "      <td>2019-06-01</td>\n",
       "      <td>33745771</td>\n",
       "      <td>42.40</td>\n",
       "      <td>visa</td>\n",
       "      <td>Yes</td>\n",
       "      <td>Yes</td>\n",
       "      <td>US</td>\n",
       "      <td>1</td>\n",
       "      <td>0</td>\n",
       "      <td>0</td>\n",
       "    </tr>\n",
       "    <tr>\n",
       "      <th>378387</th>\n",
       "      <td>2019-06-01</td>\n",
       "      <td>37051710</td>\n",
       "      <td>85.00</td>\n",
       "      <td>mc</td>\n",
       "      <td>Yes</td>\n",
       "      <td>Yes</td>\n",
       "      <td>US</td>\n",
       "      <td>0</td>\n",
       "      <td>0</td>\n",
       "      <td>1</td>\n",
       "    </tr>\n",
       "  </tbody>\n",
       "</table>\n",
       "</div>"
      ],
      "text/plain": [
       "       creation_date      txid  amount scheme  avs  cvc issuing_country  auth  \\\n",
       "378381    2019-06-01  29700872   25.66   visa  Yes  Yes              US     1   \n",
       "378384    2019-06-01  25076392   71.65   visa  Yes  Yes              US     1   \n",
       "378385    2019-06-01  32214725  344.00   visa  Yes  Yes              BR     1   \n",
       "378386    2019-06-01  33745771   42.40   visa  Yes  Yes              US     1   \n",
       "378387    2019-06-01  37051710   85.00     mc  Yes  Yes              US     0   \n",
       "\n",
       "        chargeback  refusal  \n",
       "378381           0        0  \n",
       "378384           0        0  \n",
       "378385           0        0  \n",
       "378386           0        0  \n",
       "378387           0        1  "
      ]
     },
     "execution_count": 15,
     "metadata": {},
     "output_type": "execute_result"
    }
   ],
   "source": [
    "df1.tail()"
   ]
  },
  {
   "cell_type": "code",
   "execution_count": 16,
   "metadata": {},
   "outputs": [],
   "source": [
    "df1.drop_duplicates('txid', inplace=True)"
   ]
  },
  {
   "cell_type": "code",
   "execution_count": 17,
   "metadata": {},
   "outputs": [
    {
     "data": {
      "text/html": [
       "<div>\n",
       "<style scoped>\n",
       "    .dataframe tbody tr th:only-of-type {\n",
       "        vertical-align: middle;\n",
       "    }\n",
       "\n",
       "    .dataframe tbody tr th {\n",
       "        vertical-align: top;\n",
       "    }\n",
       "\n",
       "    .dataframe thead th {\n",
       "        text-align: right;\n",
       "    }\n",
       "</style>\n",
       "<table border=\"1\" class=\"dataframe\">\n",
       "  <thead>\n",
       "    <tr style=\"text-align: right;\">\n",
       "      <th></th>\n",
       "      <th>creation_date</th>\n",
       "      <th>txid</th>\n",
       "      <th>amount</th>\n",
       "      <th>scheme</th>\n",
       "      <th>avs</th>\n",
       "      <th>cvc</th>\n",
       "      <th>issuing_country</th>\n",
       "      <th>auth</th>\n",
       "      <th>chargeback</th>\n",
       "      <th>refusal</th>\n",
       "    </tr>\n",
       "  </thead>\n",
       "  <tbody>\n",
       "    <tr>\n",
       "      <th>189187</th>\n",
       "      <td>2019-06-01</td>\n",
       "      <td>29700872</td>\n",
       "      <td>25.66</td>\n",
       "      <td>visa</td>\n",
       "      <td>Yes</td>\n",
       "      <td>Yes</td>\n",
       "      <td>US</td>\n",
       "      <td>1</td>\n",
       "      <td>0</td>\n",
       "      <td>0</td>\n",
       "    </tr>\n",
       "    <tr>\n",
       "      <th>189190</th>\n",
       "      <td>2019-06-01</td>\n",
       "      <td>25076392</td>\n",
       "      <td>71.65</td>\n",
       "      <td>visa</td>\n",
       "      <td>Yes</td>\n",
       "      <td>Yes</td>\n",
       "      <td>US</td>\n",
       "      <td>1</td>\n",
       "      <td>0</td>\n",
       "      <td>0</td>\n",
       "    </tr>\n",
       "    <tr>\n",
       "      <th>189191</th>\n",
       "      <td>2019-06-01</td>\n",
       "      <td>32214725</td>\n",
       "      <td>344.00</td>\n",
       "      <td>visa</td>\n",
       "      <td>Yes</td>\n",
       "      <td>Yes</td>\n",
       "      <td>BR</td>\n",
       "      <td>1</td>\n",
       "      <td>0</td>\n",
       "      <td>0</td>\n",
       "    </tr>\n",
       "    <tr>\n",
       "      <th>189192</th>\n",
       "      <td>2019-06-01</td>\n",
       "      <td>33745771</td>\n",
       "      <td>42.40</td>\n",
       "      <td>visa</td>\n",
       "      <td>Yes</td>\n",
       "      <td>Yes</td>\n",
       "      <td>US</td>\n",
       "      <td>1</td>\n",
       "      <td>0</td>\n",
       "      <td>0</td>\n",
       "    </tr>\n",
       "    <tr>\n",
       "      <th>189193</th>\n",
       "      <td>2019-06-01</td>\n",
       "      <td>37051710</td>\n",
       "      <td>85.00</td>\n",
       "      <td>mc</td>\n",
       "      <td>Yes</td>\n",
       "      <td>Yes</td>\n",
       "      <td>US</td>\n",
       "      <td>0</td>\n",
       "      <td>0</td>\n",
       "      <td>1</td>\n",
       "    </tr>\n",
       "  </tbody>\n",
       "</table>\n",
       "</div>"
      ],
      "text/plain": [
       "       creation_date      txid  amount scheme  avs  cvc issuing_country  auth  \\\n",
       "189187    2019-06-01  29700872   25.66   visa  Yes  Yes              US     1   \n",
       "189190    2019-06-01  25076392   71.65   visa  Yes  Yes              US     1   \n",
       "189191    2019-06-01  32214725  344.00   visa  Yes  Yes              BR     1   \n",
       "189192    2019-06-01  33745771   42.40   visa  Yes  Yes              US     1   \n",
       "189193    2019-06-01  37051710   85.00     mc  Yes  Yes              US     0   \n",
       "\n",
       "        chargeback  refusal  \n",
       "189187           0        0  \n",
       "189190           0        0  \n",
       "189191           0        0  \n",
       "189192           0        0  \n",
       "189193           0        1  "
      ]
     },
     "execution_count": 17,
     "metadata": {},
     "output_type": "execute_result"
    }
   ],
   "source": [
    "df1.tail()"
   ]
  },
  {
   "cell_type": "code",
   "execution_count": 18,
   "metadata": {},
   "outputs": [],
   "source": [
    "# ---"
   ]
  },
  {
   "cell_type": "code",
   "execution_count": 19,
   "metadata": {},
   "outputs": [
    {
     "data": {
      "text/html": [
       "<div>\n",
       "<style scoped>\n",
       "    .dataframe tbody tr th:only-of-type {\n",
       "        vertical-align: middle;\n",
       "    }\n",
       "\n",
       "    .dataframe tbody tr th {\n",
       "        vertical-align: top;\n",
       "    }\n",
       "\n",
       "    .dataframe thead th {\n",
       "        text-align: right;\n",
       "    }\n",
       "</style>\n",
       "<table border=\"1\" class=\"dataframe\">\n",
       "  <thead>\n",
       "    <tr style=\"text-align: right;\">\n",
       "      <th></th>\n",
       "      <th>txid</th>\n",
       "      <th>funding_source</th>\n",
       "      <th>currency_code</th>\n",
       "    </tr>\n",
       "  </thead>\n",
       "  <tbody>\n",
       "    <tr>\n",
       "      <th>189183</th>\n",
       "      <td>33236043</td>\n",
       "      <td>CREDIT</td>\n",
       "      <td>BRL</td>\n",
       "    </tr>\n",
       "    <tr>\n",
       "      <th>189184</th>\n",
       "      <td>21673972</td>\n",
       "      <td>CREDIT</td>\n",
       "      <td>USD</td>\n",
       "    </tr>\n",
       "    <tr>\n",
       "      <th>189185</th>\n",
       "      <td>32626041</td>\n",
       "      <td>CREDIT</td>\n",
       "      <td>USD</td>\n",
       "    </tr>\n",
       "    <tr>\n",
       "      <th>189189</th>\n",
       "      <td>27076092</td>\n",
       "      <td>CREDIT</td>\n",
       "      <td>USD</td>\n",
       "    </tr>\n",
       "    <tr>\n",
       "      <th>189191</th>\n",
       "      <td>14374823</td>\n",
       "      <td>CREDIT</td>\n",
       "      <td>EUR</td>\n",
       "    </tr>\n",
       "  </tbody>\n",
       "</table>\n",
       "</div>"
      ],
      "text/plain": [
       "            txid funding_source currency_code\n",
       "189183  33236043         CREDIT           BRL\n",
       "189184  21673972         CREDIT           USD\n",
       "189185  32626041         CREDIT           USD\n",
       "189189  27076092         CREDIT           USD\n",
       "189191  14374823         CREDIT           EUR"
      ]
     },
     "execution_count": 19,
     "metadata": {},
     "output_type": "execute_result"
    }
   ],
   "source": [
    "df2.tail()"
   ]
  },
  {
   "cell_type": "code",
   "execution_count": 20,
   "metadata": {},
   "outputs": [],
   "source": [
    "df2.drop_duplicates('txid', inplace=True)"
   ]
  },
  {
   "cell_type": "code",
   "execution_count": 21,
   "metadata": {},
   "outputs": [
    {
     "data": {
      "text/html": [
       "<div>\n",
       "<style scoped>\n",
       "    .dataframe tbody tr th:only-of-type {\n",
       "        vertical-align: middle;\n",
       "    }\n",
       "\n",
       "    .dataframe tbody tr th {\n",
       "        vertical-align: top;\n",
       "    }\n",
       "\n",
       "    .dataframe thead th {\n",
       "        text-align: right;\n",
       "    }\n",
       "</style>\n",
       "<table border=\"1\" class=\"dataframe\">\n",
       "  <thead>\n",
       "    <tr style=\"text-align: right;\">\n",
       "      <th></th>\n",
       "      <th>txid</th>\n",
       "      <th>funding_source</th>\n",
       "      <th>currency_code</th>\n",
       "    </tr>\n",
       "  </thead>\n",
       "  <tbody>\n",
       "    <tr>\n",
       "      <th>189183</th>\n",
       "      <td>33236043</td>\n",
       "      <td>CREDIT</td>\n",
       "      <td>BRL</td>\n",
       "    </tr>\n",
       "    <tr>\n",
       "      <th>189184</th>\n",
       "      <td>21673972</td>\n",
       "      <td>CREDIT</td>\n",
       "      <td>USD</td>\n",
       "    </tr>\n",
       "    <tr>\n",
       "      <th>189185</th>\n",
       "      <td>32626041</td>\n",
       "      <td>CREDIT</td>\n",
       "      <td>USD</td>\n",
       "    </tr>\n",
       "    <tr>\n",
       "      <th>189189</th>\n",
       "      <td>27076092</td>\n",
       "      <td>CREDIT</td>\n",
       "      <td>USD</td>\n",
       "    </tr>\n",
       "    <tr>\n",
       "      <th>189191</th>\n",
       "      <td>14374823</td>\n",
       "      <td>CREDIT</td>\n",
       "      <td>EUR</td>\n",
       "    </tr>\n",
       "  </tbody>\n",
       "</table>\n",
       "</div>"
      ],
      "text/plain": [
       "            txid funding_source currency_code\n",
       "189183  33236043         CREDIT           BRL\n",
       "189184  21673972         CREDIT           USD\n",
       "189185  32626041         CREDIT           USD\n",
       "189189  27076092         CREDIT           USD\n",
       "189191  14374823         CREDIT           EUR"
      ]
     },
     "execution_count": 21,
     "metadata": {},
     "output_type": "execute_result"
    }
   ],
   "source": [
    "df2.tail()"
   ]
  },
  {
   "cell_type": "markdown",
   "metadata": {},
   "source": [
    "# Exercise 1D: Combining adyen_file_1 and adyen_file_2"
   ]
  },
  {
   "cell_type": "code",
   "execution_count": 22,
   "metadata": {},
   "outputs": [],
   "source": [
    "df_merge = pd.merge(df1, df2, how='inner', on='txid')"
   ]
  },
  {
   "cell_type": "code",
   "execution_count": 23,
   "metadata": {},
   "outputs": [
    {
     "data": {
      "text/html": [
       "<div>\n",
       "<style scoped>\n",
       "    .dataframe tbody tr th:only-of-type {\n",
       "        vertical-align: middle;\n",
       "    }\n",
       "\n",
       "    .dataframe tbody tr th {\n",
       "        vertical-align: top;\n",
       "    }\n",
       "\n",
       "    .dataframe thead th {\n",
       "        text-align: right;\n",
       "    }\n",
       "</style>\n",
       "<table border=\"1\" class=\"dataframe\">\n",
       "  <thead>\n",
       "    <tr style=\"text-align: right;\">\n",
       "      <th></th>\n",
       "      <th>creation_date</th>\n",
       "      <th>txid</th>\n",
       "      <th>amount</th>\n",
       "      <th>scheme</th>\n",
       "      <th>avs</th>\n",
       "      <th>cvc</th>\n",
       "      <th>issuing_country</th>\n",
       "      <th>auth</th>\n",
       "      <th>chargeback</th>\n",
       "      <th>refusal</th>\n",
       "      <th>funding_source</th>\n",
       "      <th>currency_code</th>\n",
       "    </tr>\n",
       "  </thead>\n",
       "  <tbody>\n",
       "    <tr>\n",
       "      <th>0</th>\n",
       "      <td>2019-08-31</td>\n",
       "      <td>13458888</td>\n",
       "      <td>55.39</td>\n",
       "      <td>visa</td>\n",
       "      <td>Yes</td>\n",
       "      <td>Yes</td>\n",
       "      <td>US</td>\n",
       "      <td>1</td>\n",
       "      <td>0</td>\n",
       "      <td>0</td>\n",
       "      <td>CREDIT</td>\n",
       "      <td>USD</td>\n",
       "    </tr>\n",
       "    <tr>\n",
       "      <th>1</th>\n",
       "      <td>2019-08-31</td>\n",
       "      <td>31160339</td>\n",
       "      <td>413.30</td>\n",
       "      <td>visa</td>\n",
       "      <td>Yes</td>\n",
       "      <td>Yes</td>\n",
       "      <td>US</td>\n",
       "      <td>1</td>\n",
       "      <td>0</td>\n",
       "      <td>0</td>\n",
       "      <td>CREDIT</td>\n",
       "      <td>USD</td>\n",
       "    </tr>\n",
       "    <tr>\n",
       "      <th>2</th>\n",
       "      <td>2019-08-31</td>\n",
       "      <td>39297889</td>\n",
       "      <td>712.00</td>\n",
       "      <td>mc</td>\n",
       "      <td>Yes</td>\n",
       "      <td>Yes</td>\n",
       "      <td>SE</td>\n",
       "      <td>1</td>\n",
       "      <td>0</td>\n",
       "      <td>0</td>\n",
       "      <td>CREDIT</td>\n",
       "      <td>SEK</td>\n",
       "    </tr>\n",
       "    <tr>\n",
       "      <th>3</th>\n",
       "      <td>2019-08-31</td>\n",
       "      <td>38608158</td>\n",
       "      <td>262.87</td>\n",
       "      <td>mc</td>\n",
       "      <td>Yes</td>\n",
       "      <td>Yes</td>\n",
       "      <td>US</td>\n",
       "      <td>1</td>\n",
       "      <td>0</td>\n",
       "      <td>0</td>\n",
       "      <td>CREDIT</td>\n",
       "      <td>USD</td>\n",
       "    </tr>\n",
       "    <tr>\n",
       "      <th>4</th>\n",
       "      <td>2019-08-31</td>\n",
       "      <td>34579337</td>\n",
       "      <td>56.90</td>\n",
       "      <td>visa</td>\n",
       "      <td>Yes</td>\n",
       "      <td>Yes</td>\n",
       "      <td>US</td>\n",
       "      <td>1</td>\n",
       "      <td>0</td>\n",
       "      <td>0</td>\n",
       "      <td>CREDIT</td>\n",
       "      <td>USD</td>\n",
       "    </tr>\n",
       "  </tbody>\n",
       "</table>\n",
       "</div>"
      ],
      "text/plain": [
       "  creation_date      txid  amount scheme  avs  cvc issuing_country  auth  \\\n",
       "0    2019-08-31  13458888   55.39   visa  Yes  Yes              US     1   \n",
       "1    2019-08-31  31160339  413.30   visa  Yes  Yes              US     1   \n",
       "2    2019-08-31  39297889  712.00     mc  Yes  Yes              SE     1   \n",
       "3    2019-08-31  38608158  262.87     mc  Yes  Yes              US     1   \n",
       "4    2019-08-31  34579337   56.90   visa  Yes  Yes              US     1   \n",
       "\n",
       "   chargeback  refusal funding_source currency_code  \n",
       "0           0        0         CREDIT           USD  \n",
       "1           0        0         CREDIT           USD  \n",
       "2           0        0         CREDIT           SEK  \n",
       "3           0        0         CREDIT           USD  \n",
       "4           0        0         CREDIT           USD  "
      ]
     },
     "execution_count": 23,
     "metadata": {},
     "output_type": "execute_result"
    }
   ],
   "source": [
    "df_merge.head()"
   ]
  },
  {
   "cell_type": "markdown",
   "metadata": {},
   "source": [
    "# Exercise 2A: Calculate Authorization Rate\n",
    "\n",
    "# Answer: 83.32%"
   ]
  },
  {
   "cell_type": "code",
   "execution_count": 24,
   "metadata": {},
   "outputs": [
    {
     "data": {
      "text/plain": [
       "1    117825\n",
       "0     23586\n",
       "Name: auth, dtype: int64"
      ]
     },
     "execution_count": 24,
     "metadata": {},
     "output_type": "execute_result"
    }
   ],
   "source": [
    "df_merge['auth'].value_counts()"
   ]
  },
  {
   "cell_type": "code",
   "execution_count": 25,
   "metadata": {},
   "outputs": [
    {
     "data": {
      "text/plain": [
       "0.8332095805842544"
      ]
     },
     "execution_count": 25,
     "metadata": {},
     "output_type": "execute_result"
    }
   ],
   "source": [
    "sum(df_merge['auth']) / df_merge['txid'].count()"
   ]
  },
  {
   "cell_type": "code",
   "execution_count": 26,
   "metadata": {},
   "outputs": [],
   "source": [
    "# ------------------------------------------------------------------------------------------------------------"
   ]
  },
  {
   "cell_type": "markdown",
   "metadata": {},
   "source": [
    "# Exercise 2B: Authorized tx count by scheme"
   ]
  },
  {
   "cell_type": "code",
   "execution_count": 27,
   "metadata": {},
   "outputs": [
    {
     "data": {
      "text/plain": [
       "visa    87071\n",
       "mc      54340\n",
       "Name: scheme, dtype: int64"
      ]
     },
     "execution_count": 27,
     "metadata": {},
     "output_type": "execute_result"
    }
   ],
   "source": [
    "df_merge['scheme'].value_counts()"
   ]
  },
  {
   "cell_type": "code",
   "execution_count": 28,
   "metadata": {},
   "outputs": [
    {
     "data": {
      "text/plain": [
       "<matplotlib.axes._subplots.AxesSubplot at 0x1235a1eb8>"
      ]
     },
     "execution_count": 28,
     "metadata": {},
     "output_type": "execute_result"
    },
    {
     "data": {
      "image/png": "[encoded data removed]",
      "text/plain": [
       "<Figure size 576x576 with 1 Axes>"
      ]
     },
     "metadata": {
      "needs_background": "light"
     },
     "output_type": "display_data"
    }
   ],
   "source": [
    "plt.figure(figsize=(8,8))\n",
    "sns.countplot(x='scheme', data=df_merge, palette='viridis')\n"
   ]
  },
  {
   "cell_type": "code",
   "execution_count": 29,
   "metadata": {},
   "outputs": [],
   "source": [
    "# ------------------------------------------------------------------------------------------------------------"
   ]
  },
  {
   "cell_type": "markdown",
   "metadata": {},
   "source": [
    "# Exercise 2C: Percentage total of credit card transaction by currency"
   ]
  },
  {
   "cell_type": "code",
   "execution_count": 30,
   "metadata": {},
   "outputs": [],
   "source": [
    "# CC Percentage based on individual countries"
   ]
  },
  {
   "cell_type": "code",
   "execution_count": 31,
   "metadata": {},
   "outputs": [
    {
     "name": "stdout",
     "output_type": "stream",
     "text": [
      "USD CC Percentage: 0.5599\n",
      "SEK CC Percentage: 0.6757\n",
      "CHF CC Percentage: 0.8047\n",
      "EUR CC Percentage: 0.3809\n",
      "CAD CC Percentage: 0.8764\n",
      "BRL CC Percentage: 0.9932\n",
      "NOK CC Percentage: 0.3123\n",
      "DKK CC Percentage: 0.7159\n",
      "GBP CC Percentage: 0.292\n",
      "JPY CC Percentage: 0.9379\n"
     ]
    }
   ],
   "source": [
    "curr_code = df_merge['currency_code'].unique()\n",
    "\n",
    "for curr in curr_code:\n",
    "    curr_df = df_merge[df_merge['currency_code'] == curr]\n",
    "    curr_cc = curr_df[curr_df['funding_source'] == 'CREDIT']['txid'].count()\n",
    "    total_tx = curr_df['txid'].count()\n",
    "    print(f\"{curr} CC Percentage: {round(curr_cc/total_tx, 4)}\")\n",
    "    \n",
    "    "
   ]
  },
  {
   "cell_type": "code",
   "execution_count": 32,
   "metadata": {},
   "outputs": [],
   "source": [
    "# CC Percentage based on the CC population as a whole"
   ]
  },
  {
   "cell_type": "code",
   "execution_count": 33,
   "metadata": {
    "scrolled": true
   },
   "outputs": [
    {
     "name": "stdout",
     "output_type": "stream",
     "text": [
      "USD CC Percentage: 0.6043\n",
      "SEK CC Percentage: 0.0135\n",
      "CHF CC Percentage: 0.004\n",
      "EUR CC Percentage: 0.0672\n",
      "CAD CC Percentage: 0.0748\n",
      "BRL CC Percentage: 0.2128\n",
      "NOK CC Percentage: 0.0013\n",
      "DKK CC Percentage: 0.0058\n",
      "GBP CC Percentage: 0.0099\n",
      "JPY CC Percentage: 0.0065\n"
     ]
    }
   ],
   "source": [
    "curr_code = df_merge['currency_code'].unique()\n",
    "\n",
    "for curr in curr_code:\n",
    "    curr_df = df_merge[df_merge['currency_code'] == curr]\n",
    "    curr_cc = curr_df[curr_df['funding_source'] == 'CREDIT']['txid'].count()\n",
    "    pop_txid = df_merge[df_merge['funding_source'] == 'CREDIT']['txid'].count()\n",
    "    print(f\"{curr} CC Percentage: {round(curr_cc/pop_txid, 4)}\")\n",
    "    \n",
    "    "
   ]
  },
  {
   "cell_type": "code",
   "execution_count": 34,
   "metadata": {},
   "outputs": [],
   "source": [
    "# ------------------------------------------------------------------------------------------------------------"
   ]
  },
  {
   "cell_type": "markdown",
   "metadata": {},
   "source": [
    "# Exercise 2D: Average transaction value by scheme and currency\n",
    "\n",
    "# Scroll down until you find \"2D Solution here!!!\"\n",
    "\n",
    "# Most of this was exploratory analysis for Exercise 3"
   ]
  },
  {
   "cell_type": "markdown",
   "metadata": {},
   "source": [
    "## By scheme and transaction"
   ]
  },
  {
   "cell_type": "code",
   "execution_count": 36,
   "metadata": {},
   "outputs": [],
   "source": [
    "approved_transactions = df_merge[df_merge['auth'] == 1]\n",
    "unapproved_transactions = df_merge[df_merge['auth'] == 0]"
   ]
  },
  {
   "cell_type": "code",
   "execution_count": 37,
   "metadata": {},
   "outputs": [],
   "source": [
    "total_visa = df_merge[df_merge['scheme'] == 'visa']\n",
    "approved_visa = approved_transactions[approved_transactions['scheme'] == 'visa']"
   ]
  },
  {
   "cell_type": "code",
   "execution_count": 38,
   "metadata": {},
   "outputs": [],
   "source": [
    "df_mc = df_merge[df_merge['scheme'] == 'mc']\n",
    "approved_mc = approved_transactions[approved_transactions['scheme'] == 'mc']"
   ]
  },
  {
   "cell_type": "markdown",
   "metadata": {},
   "source": [
    "### By Visa and Currency"
   ]
  },
  {
   "cell_type": "code",
   "execution_count": 39,
   "metadata": {},
   "outputs": [
    {
     "data": {
      "text/html": [
       "<div>\n",
       "<style scoped>\n",
       "    .dataframe tbody tr th:only-of-type {\n",
       "        vertical-align: middle;\n",
       "    }\n",
       "\n",
       "    .dataframe tbody tr th {\n",
       "        vertical-align: top;\n",
       "    }\n",
       "\n",
       "    .dataframe thead th {\n",
       "        text-align: right;\n",
       "    }\n",
       "</style>\n",
       "<table border=\"1\" class=\"dataframe\">\n",
       "  <thead>\n",
       "    <tr style=\"text-align: right;\">\n",
       "      <th></th>\n",
       "      <th>txid</th>\n",
       "      <th>amount</th>\n",
       "      <th>auth</th>\n",
       "      <th>chargeback</th>\n",
       "      <th>refusal</th>\n",
       "    </tr>\n",
       "    <tr>\n",
       "      <th>currency_code</th>\n",
       "      <th></th>\n",
       "      <th></th>\n",
       "      <th></th>\n",
       "      <th></th>\n",
       "      <th></th>\n",
       "    </tr>\n",
       "  </thead>\n",
       "  <tbody>\n",
       "    <tr>\n",
       "      <th>BRL</th>\n",
       "      <td>2.513382e+07</td>\n",
       "      <td>526.562131</td>\n",
       "      <td>0.703234</td>\n",
       "      <td>0.009973</td>\n",
       "      <td>0.296766</td>\n",
       "    </tr>\n",
       "    <tr>\n",
       "      <th>CAD</th>\n",
       "      <td>2.488560e+07</td>\n",
       "      <td>116.687211</td>\n",
       "      <td>0.906270</td>\n",
       "      <td>0.000850</td>\n",
       "      <td>0.093730</td>\n",
       "    </tr>\n",
       "    <tr>\n",
       "      <th>CHF</th>\n",
       "      <td>2.589541e+07</td>\n",
       "      <td>178.199137</td>\n",
       "      <td>0.798561</td>\n",
       "      <td>0.000000</td>\n",
       "      <td>0.201439</td>\n",
       "    </tr>\n",
       "    <tr>\n",
       "      <th>DKK</th>\n",
       "      <td>2.507895e+07</td>\n",
       "      <td>891.340788</td>\n",
       "      <td>0.679803</td>\n",
       "      <td>0.000000</td>\n",
       "      <td>0.320197</td>\n",
       "    </tr>\n",
       "    <tr>\n",
       "      <th>EUR</th>\n",
       "      <td>2.489436e+07</td>\n",
       "      <td>132.661267</td>\n",
       "      <td>0.829543</td>\n",
       "      <td>0.001360</td>\n",
       "      <td>0.170457</td>\n",
       "    </tr>\n",
       "    <tr>\n",
       "      <th>GBP</th>\n",
       "      <td>2.505318e+07</td>\n",
       "      <td>125.256602</td>\n",
       "      <td>0.807640</td>\n",
       "      <td>0.000000</td>\n",
       "      <td>0.192360</td>\n",
       "    </tr>\n",
       "    <tr>\n",
       "      <th>JPY</th>\n",
       "      <td>2.495042e+07</td>\n",
       "      <td>16615.698598</td>\n",
       "      <td>0.467290</td>\n",
       "      <td>0.000000</td>\n",
       "      <td>0.532710</td>\n",
       "    </tr>\n",
       "    <tr>\n",
       "      <th>NOK</th>\n",
       "      <td>2.538285e+07</td>\n",
       "      <td>1173.876935</td>\n",
       "      <td>0.895161</td>\n",
       "      <td>0.000000</td>\n",
       "      <td>0.104839</td>\n",
       "    </tr>\n",
       "    <tr>\n",
       "      <th>SEK</th>\n",
       "      <td>2.518710e+07</td>\n",
       "      <td>1230.632819</td>\n",
       "      <td>0.895062</td>\n",
       "      <td>0.000000</td>\n",
       "      <td>0.104938</td>\n",
       "    </tr>\n",
       "    <tr>\n",
       "      <th>USD</th>\n",
       "      <td>2.500380e+07</td>\n",
       "      <td>172.598802</td>\n",
       "      <td>0.910651</td>\n",
       "      <td>0.001095</td>\n",
       "      <td>0.089349</td>\n",
       "    </tr>\n",
       "  </tbody>\n",
       "</table>\n",
       "</div>"
      ],
      "text/plain": [
       "                       txid        amount      auth  chargeback   refusal\n",
       "currency_code                                                            \n",
       "BRL            2.513382e+07    526.562131  0.703234    0.009973  0.296766\n",
       "CAD            2.488560e+07    116.687211  0.906270    0.000850  0.093730\n",
       "CHF            2.589541e+07    178.199137  0.798561    0.000000  0.201439\n",
       "DKK            2.507895e+07    891.340788  0.679803    0.000000  0.320197\n",
       "EUR            2.489436e+07    132.661267  0.829543    0.001360  0.170457\n",
       "GBP            2.505318e+07    125.256602  0.807640    0.000000  0.192360\n",
       "JPY            2.495042e+07  16615.698598  0.467290    0.000000  0.532710\n",
       "NOK            2.538285e+07   1173.876935  0.895161    0.000000  0.104839\n",
       "SEK            2.518710e+07   1230.632819  0.895062    0.000000  0.104938\n",
       "USD            2.500380e+07    172.598802  0.910651    0.001095  0.089349"
      ]
     },
     "execution_count": 39,
     "metadata": {},
     "output_type": "execute_result"
    }
   ],
   "source": [
    "visa_curr_avg = total_visa.groupby('currency_code').mean()\n",
    "visa_curr_avg"
   ]
  },
  {
   "cell_type": "code",
   "execution_count": 40,
   "metadata": {},
   "outputs": [
    {
     "data": {
      "text/html": [
       "<div>\n",
       "<style scoped>\n",
       "    .dataframe tbody tr th:only-of-type {\n",
       "        vertical-align: middle;\n",
       "    }\n",
       "\n",
       "    .dataframe tbody tr th {\n",
       "        vertical-align: top;\n",
       "    }\n",
       "\n",
       "    .dataframe thead th {\n",
       "        text-align: right;\n",
       "    }\n",
       "</style>\n",
       "<table border=\"1\" class=\"dataframe\">\n",
       "  <thead>\n",
       "    <tr style=\"text-align: right;\">\n",
       "      <th></th>\n",
       "      <th>txid</th>\n",
       "      <th>amount</th>\n",
       "      <th>auth</th>\n",
       "      <th>chargeback</th>\n",
       "      <th>refusal</th>\n",
       "    </tr>\n",
       "    <tr>\n",
       "      <th>currency_code</th>\n",
       "      <th></th>\n",
       "      <th></th>\n",
       "      <th></th>\n",
       "      <th></th>\n",
       "      <th></th>\n",
       "    </tr>\n",
       "  </thead>\n",
       "  <tbody>\n",
       "    <tr>\n",
       "      <th>BRL</th>\n",
       "      <td>2.511572e+07</td>\n",
       "      <td>417.761169</td>\n",
       "      <td>1.0</td>\n",
       "      <td>0.014181</td>\n",
       "      <td>0.0</td>\n",
       "    </tr>\n",
       "    <tr>\n",
       "      <th>CAD</th>\n",
       "      <td>2.489428e+07</td>\n",
       "      <td>112.815117</td>\n",
       "      <td>1.0</td>\n",
       "      <td>0.000938</td>\n",
       "      <td>0.0</td>\n",
       "    </tr>\n",
       "    <tr>\n",
       "      <th>CHF</th>\n",
       "      <td>2.547567e+07</td>\n",
       "      <td>181.704144</td>\n",
       "      <td>1.0</td>\n",
       "      <td>0.000000</td>\n",
       "      <td>0.0</td>\n",
       "    </tr>\n",
       "    <tr>\n",
       "      <th>DKK</th>\n",
       "      <td>2.439100e+07</td>\n",
       "      <td>810.763696</td>\n",
       "      <td>1.0</td>\n",
       "      <td>0.000000</td>\n",
       "      <td>0.0</td>\n",
       "    </tr>\n",
       "    <tr>\n",
       "      <th>EUR</th>\n",
       "      <td>2.487232e+07</td>\n",
       "      <td>117.855759</td>\n",
       "      <td>1.0</td>\n",
       "      <td>0.001639</td>\n",
       "      <td>0.0</td>\n",
       "    </tr>\n",
       "    <tr>\n",
       "      <th>GBP</th>\n",
       "      <td>2.518038e+07</td>\n",
       "      <td>107.395220</td>\n",
       "      <td>1.0</td>\n",
       "      <td>0.000000</td>\n",
       "      <td>0.0</td>\n",
       "    </tr>\n",
       "    <tr>\n",
       "      <th>JPY</th>\n",
       "      <td>2.557372e+07</td>\n",
       "      <td>9988.095000</td>\n",
       "      <td>1.0</td>\n",
       "      <td>0.000000</td>\n",
       "      <td>0.0</td>\n",
       "    </tr>\n",
       "    <tr>\n",
       "      <th>NOK</th>\n",
       "      <td>2.519468e+07</td>\n",
       "      <td>1108.980991</td>\n",
       "      <td>1.0</td>\n",
       "      <td>0.000000</td>\n",
       "      <td>0.0</td>\n",
       "    </tr>\n",
       "    <tr>\n",
       "      <th>SEK</th>\n",
       "      <td>2.517217e+07</td>\n",
       "      <td>1213.290920</td>\n",
       "      <td>1.0</td>\n",
       "      <td>0.000000</td>\n",
       "      <td>0.0</td>\n",
       "    </tr>\n",
       "    <tr>\n",
       "      <th>USD</th>\n",
       "      <td>2.498240e+07</td>\n",
       "      <td>161.457212</td>\n",
       "      <td>1.0</td>\n",
       "      <td>0.001202</td>\n",
       "      <td>0.0</td>\n",
       "    </tr>\n",
       "  </tbody>\n",
       "</table>\n",
       "</div>"
      ],
      "text/plain": [
       "                       txid       amount  auth  chargeback  refusal\n",
       "currency_code                                                      \n",
       "BRL            2.511572e+07   417.761169   1.0    0.014181      0.0\n",
       "CAD            2.489428e+07   112.815117   1.0    0.000938      0.0\n",
       "CHF            2.547567e+07   181.704144   1.0    0.000000      0.0\n",
       "DKK            2.439100e+07   810.763696   1.0    0.000000      0.0\n",
       "EUR            2.487232e+07   117.855759   1.0    0.001639      0.0\n",
       "GBP            2.518038e+07   107.395220   1.0    0.000000      0.0\n",
       "JPY            2.557372e+07  9988.095000   1.0    0.000000      0.0\n",
       "NOK            2.519468e+07  1108.980991   1.0    0.000000      0.0\n",
       "SEK            2.517217e+07  1213.290920   1.0    0.000000      0.0\n",
       "USD            2.498240e+07   161.457212   1.0    0.001202      0.0"
      ]
     },
     "execution_count": 40,
     "metadata": {},
     "output_type": "execute_result"
    }
   ],
   "source": [
    "approved_visa_curr_avg = approved_visa.groupby('currency_code').mean()\n",
    "approved_visa_curr_avg"
   ]
  },
  {
   "cell_type": "code",
   "execution_count": 41,
   "metadata": {},
   "outputs": [],
   "source": [
    "# Note: Japan is an outlier in terms of amounts"
   ]
  },
  {
   "cell_type": "code",
   "execution_count": 42,
   "metadata": {},
   "outputs": [
    {
     "data": {
      "text/plain": [
       "<matplotlib.axes._subplots.AxesSubplot at 0x1067f76a0>"
      ]
     },
     "execution_count": 42,
     "metadata": {},
     "output_type": "execute_result"
    },
    {
     "data": {
      "image/png": "[encoded data removed]",
      "text/plain": [
       "<Figure size 432x288 with 1 Axes>"
      ]
     },
     "metadata": {
      "needs_background": "light"
     },
     "output_type": "display_data"
    }
   ],
   "source": [
    "sns.barplot(x='currency_code', y='amount', data=visa_curr_avg.reset_index())"
   ]
  },
  {
   "cell_type": "code",
   "execution_count": 43,
   "metadata": {},
   "outputs": [
    {
     "data": {
      "text/plain": [
       "<matplotlib.axes._subplots.AxesSubplot at 0x124b7b198>"
      ]
     },
     "execution_count": 43,
     "metadata": {},
     "output_type": "execute_result"
    },
    {
     "data": {
      "image/png": "[encoded data removed]",
      "text/plain": [
       "<Figure size 432x288 with 1 Axes>"
      ]
     },
     "metadata": {
      "needs_background": "light"
     },
     "output_type": "display_data"
    }
   ],
   "source": [
    "sns.barplot(x='currency_code', y='amount', data=approved_visa_curr_avg.reset_index())"
   ]
  },
  {
   "cell_type": "code",
   "execution_count": 44,
   "metadata": {},
   "outputs": [],
   "source": [
    "# Difference between Approved Avg Amounts - Total Avg Amount\n",
    "# Japan is an outlier. Could be due to JPY being in larger denominations. "
   ]
  },
  {
   "cell_type": "code",
   "execution_count": 45,
   "metadata": {},
   "outputs": [
    {
     "data": {
      "text/plain": [
       "<matplotlib.axes._subplots.AxesSubplot at 0x125d2a7f0>"
      ]
     },
     "execution_count": 45,
     "metadata": {},
     "output_type": "execute_result"
    },
    {
     "data": {
      "image/png": "[encoded data removed]",
      "text/plain": [
       "<Figure size 432x288 with 1 Axes>"
      ]
     },
     "metadata": {
      "needs_background": "light"
     },
     "output_type": "display_data"
    }
   ],
   "source": [
    "sns.barplot(x='currency_code', y='amount', data=(approved_visa_curr_avg['amount'] - visa_curr_avg['amount']).reset_index())"
   ]
  },
  {
   "cell_type": "code",
   "execution_count": 46,
   "metadata": {},
   "outputs": [],
   "source": [
    "# Removed Japan temporarily to see impact across other currencies\n",
    "# For the most part, if unauthorized transactions are removed, you get a smaller"
   ]
  },
  {
   "cell_type": "code",
   "execution_count": 47,
   "metadata": {},
   "outputs": [
    {
     "data": {
      "text/plain": [
       "<matplotlib.axes._subplots.AxesSubplot at 0x126d52a20>"
      ]
     },
     "execution_count": 47,
     "metadata": {},
     "output_type": "execute_result"
    },
    {
     "data": {
      "image/png": "[encoded data removed]",
      "text/plain": [
       "<Figure size 432x288 with 1 Axes>"
      ]
     },
     "metadata": {
      "needs_background": "light"
     },
     "output_type": "display_data"
    }
   ],
   "source": [
    "sns.barplot(x='currency_code', y='amount', data=(approved_visa_curr_avg['amount'] - visa_curr_avg['amount']).drop('JPY').reset_index())"
   ]
  },
  {
   "cell_type": "markdown",
   "metadata": {},
   "source": [
    "### By MC and currency"
   ]
  },
  {
   "cell_type": "code",
   "execution_count": 48,
   "metadata": {},
   "outputs": [
    {
     "data": {
      "text/html": [
       "<div>\n",
       "<style scoped>\n",
       "    .dataframe tbody tr th:only-of-type {\n",
       "        vertical-align: middle;\n",
       "    }\n",
       "\n",
       "    .dataframe tbody tr th {\n",
       "        vertical-align: top;\n",
       "    }\n",
       "\n",
       "    .dataframe thead th {\n",
       "        text-align: right;\n",
       "    }\n",
       "</style>\n",
       "<table border=\"1\" class=\"dataframe\">\n",
       "  <thead>\n",
       "    <tr style=\"text-align: right;\">\n",
       "      <th></th>\n",
       "      <th>txid</th>\n",
       "      <th>amount</th>\n",
       "      <th>auth</th>\n",
       "      <th>chargeback</th>\n",
       "      <th>refusal</th>\n",
       "    </tr>\n",
       "    <tr>\n",
       "      <th>currency_code</th>\n",
       "      <th></th>\n",
       "      <th></th>\n",
       "      <th></th>\n",
       "      <th></th>\n",
       "      <th></th>\n",
       "    </tr>\n",
       "  </thead>\n",
       "  <tbody>\n",
       "    <tr>\n",
       "      <th>BRL</th>\n",
       "      <td>2.515407e+07</td>\n",
       "      <td>451.902305</td>\n",
       "      <td>0.780619</td>\n",
       "      <td>0.013580</td>\n",
       "      <td>0.219381</td>\n",
       "    </tr>\n",
       "    <tr>\n",
       "      <th>CAD</th>\n",
       "      <td>2.515042e+07</td>\n",
       "      <td>114.503847</td>\n",
       "      <td>0.914179</td>\n",
       "      <td>0.000373</td>\n",
       "      <td>0.085821</td>\n",
       "    </tr>\n",
       "    <tr>\n",
       "      <th>CHF</th>\n",
       "      <td>2.448363e+07</td>\n",
       "      <td>150.643252</td>\n",
       "      <td>0.860140</td>\n",
       "      <td>0.000000</td>\n",
       "      <td>0.139860</td>\n",
       "    </tr>\n",
       "    <tr>\n",
       "      <th>DKK</th>\n",
       "      <td>2.481534e+07</td>\n",
       "      <td>1102.039291</td>\n",
       "      <td>0.813765</td>\n",
       "      <td>0.000000</td>\n",
       "      <td>0.186235</td>\n",
       "    </tr>\n",
       "    <tr>\n",
       "      <th>EUR</th>\n",
       "      <td>2.508599e+07</td>\n",
       "      <td>132.433334</td>\n",
       "      <td>0.822702</td>\n",
       "      <td>0.000000</td>\n",
       "      <td>0.177298</td>\n",
       "    </tr>\n",
       "    <tr>\n",
       "      <th>GBP</th>\n",
       "      <td>2.501325e+07</td>\n",
       "      <td>165.316644</td>\n",
       "      <td>0.867403</td>\n",
       "      <td>0.000000</td>\n",
       "      <td>0.132597</td>\n",
       "    </tr>\n",
       "    <tr>\n",
       "      <th>JPY</th>\n",
       "      <td>2.605568e+07</td>\n",
       "      <td>14345.901369</td>\n",
       "      <td>0.452381</td>\n",
       "      <td>0.000000</td>\n",
       "      <td>0.547619</td>\n",
       "    </tr>\n",
       "    <tr>\n",
       "      <th>NOK</th>\n",
       "      <td>2.359067e+07</td>\n",
       "      <td>1689.230598</td>\n",
       "      <td>0.897436</td>\n",
       "      <td>0.000000</td>\n",
       "      <td>0.102564</td>\n",
       "    </tr>\n",
       "    <tr>\n",
       "      <th>SEK</th>\n",
       "      <td>2.467423e+07</td>\n",
       "      <td>1231.215878</td>\n",
       "      <td>0.886929</td>\n",
       "      <td>0.000000</td>\n",
       "      <td>0.113071</td>\n",
       "    </tr>\n",
       "    <tr>\n",
       "      <th>USD</th>\n",
       "      <td>2.497467e+07</td>\n",
       "      <td>160.925422</td>\n",
       "      <td>0.706217</td>\n",
       "      <td>0.001220</td>\n",
       "      <td>0.293783</td>\n",
       "    </tr>\n",
       "  </tbody>\n",
       "</table>\n",
       "</div>"
      ],
      "text/plain": [
       "                       txid        amount      auth  chargeback   refusal\n",
       "currency_code                                                            \n",
       "BRL            2.515407e+07    451.902305  0.780619    0.013580  0.219381\n",
       "CAD            2.515042e+07    114.503847  0.914179    0.000373  0.085821\n",
       "CHF            2.448363e+07    150.643252  0.860140    0.000000  0.139860\n",
       "DKK            2.481534e+07   1102.039291  0.813765    0.000000  0.186235\n",
       "EUR            2.508599e+07    132.433334  0.822702    0.000000  0.177298\n",
       "GBP            2.501325e+07    165.316644  0.867403    0.000000  0.132597\n",
       "JPY            2.605568e+07  14345.901369  0.452381    0.000000  0.547619\n",
       "NOK            2.359067e+07   1689.230598  0.897436    0.000000  0.102564\n",
       "SEK            2.467423e+07   1231.215878  0.886929    0.000000  0.113071\n",
       "USD            2.497467e+07    160.925422  0.706217    0.001220  0.293783"
      ]
     },
     "execution_count": 48,
     "metadata": {},
     "output_type": "execute_result"
    }
   ],
   "source": [
    "mc_curr_avg = df_mc.groupby('currency_code').mean()\n",
    "mc_curr_avg"
   ]
  },
  {
   "cell_type": "code",
   "execution_count": 49,
   "metadata": {},
   "outputs": [
    {
     "data": {
      "text/html": [
       "<div>\n",
       "<style scoped>\n",
       "    .dataframe tbody tr th:only-of-type {\n",
       "        vertical-align: middle;\n",
       "    }\n",
       "\n",
       "    .dataframe tbody tr th {\n",
       "        vertical-align: top;\n",
       "    }\n",
       "\n",
       "    .dataframe thead th {\n",
       "        text-align: right;\n",
       "    }\n",
       "</style>\n",
       "<table border=\"1\" class=\"dataframe\">\n",
       "  <thead>\n",
       "    <tr style=\"text-align: right;\">\n",
       "      <th></th>\n",
       "      <th>txid</th>\n",
       "      <th>amount</th>\n",
       "      <th>auth</th>\n",
       "      <th>chargeback</th>\n",
       "      <th>refusal</th>\n",
       "    </tr>\n",
       "    <tr>\n",
       "      <th>currency_code</th>\n",
       "      <th></th>\n",
       "      <th></th>\n",
       "      <th></th>\n",
       "      <th></th>\n",
       "      <th></th>\n",
       "    </tr>\n",
       "  </thead>\n",
       "  <tbody>\n",
       "    <tr>\n",
       "      <th>BRL</th>\n",
       "      <td>2.512684e+07</td>\n",
       "      <td>376.690060</td>\n",
       "      <td>1.0</td>\n",
       "      <td>0.017397</td>\n",
       "      <td>0.0</td>\n",
       "    </tr>\n",
       "    <tr>\n",
       "      <th>CAD</th>\n",
       "      <td>2.505026e+07</td>\n",
       "      <td>112.308420</td>\n",
       "      <td>1.0</td>\n",
       "      <td>0.000408</td>\n",
       "      <td>0.0</td>\n",
       "    </tr>\n",
       "    <tr>\n",
       "      <th>CHF</th>\n",
       "      <td>2.447492e+07</td>\n",
       "      <td>155.599268</td>\n",
       "      <td>1.0</td>\n",
       "      <td>0.000000</td>\n",
       "      <td>0.0</td>\n",
       "    </tr>\n",
       "    <tr>\n",
       "      <th>DKK</th>\n",
       "      <td>2.479725e+07</td>\n",
       "      <td>1137.012736</td>\n",
       "      <td>1.0</td>\n",
       "      <td>0.000000</td>\n",
       "      <td>0.0</td>\n",
       "    </tr>\n",
       "    <tr>\n",
       "      <th>EUR</th>\n",
       "      <td>2.511153e+07</td>\n",
       "      <td>119.887586</td>\n",
       "      <td>1.0</td>\n",
       "      <td>0.000000</td>\n",
       "      <td>0.0</td>\n",
       "    </tr>\n",
       "    <tr>\n",
       "      <th>GBP</th>\n",
       "      <td>2.502472e+07</td>\n",
       "      <td>134.265143</td>\n",
       "      <td>1.0</td>\n",
       "      <td>0.000000</td>\n",
       "      <td>0.0</td>\n",
       "    </tr>\n",
       "    <tr>\n",
       "      <th>JPY</th>\n",
       "      <td>2.520442e+07</td>\n",
       "      <td>9944.729342</td>\n",
       "      <td>1.0</td>\n",
       "      <td>0.000000</td>\n",
       "      <td>0.0</td>\n",
       "    </tr>\n",
       "    <tr>\n",
       "      <th>NOK</th>\n",
       "      <td>2.310040e+07</td>\n",
       "      <td>1479.237905</td>\n",
       "      <td>1.0</td>\n",
       "      <td>0.000000</td>\n",
       "      <td>0.0</td>\n",
       "    </tr>\n",
       "    <tr>\n",
       "      <th>SEK</th>\n",
       "      <td>2.456464e+07</td>\n",
       "      <td>1207.170217</td>\n",
       "      <td>1.0</td>\n",
       "      <td>0.000000</td>\n",
       "      <td>0.0</td>\n",
       "    </tr>\n",
       "    <tr>\n",
       "      <th>USD</th>\n",
       "      <td>2.495821e+07</td>\n",
       "      <td>173.585313</td>\n",
       "      <td>1.0</td>\n",
       "      <td>0.001727</td>\n",
       "      <td>0.0</td>\n",
       "    </tr>\n",
       "  </tbody>\n",
       "</table>\n",
       "</div>"
      ],
      "text/plain": [
       "                       txid       amount  auth  chargeback  refusal\n",
       "currency_code                                                      \n",
       "BRL            2.512684e+07   376.690060   1.0    0.017397      0.0\n",
       "CAD            2.505026e+07   112.308420   1.0    0.000408      0.0\n",
       "CHF            2.447492e+07   155.599268   1.0    0.000000      0.0\n",
       "DKK            2.479725e+07  1137.012736   1.0    0.000000      0.0\n",
       "EUR            2.511153e+07   119.887586   1.0    0.000000      0.0\n",
       "GBP            2.502472e+07   134.265143   1.0    0.000000      0.0\n",
       "JPY            2.520442e+07  9944.729342   1.0    0.000000      0.0\n",
       "NOK            2.310040e+07  1479.237905   1.0    0.000000      0.0\n",
       "SEK            2.456464e+07  1207.170217   1.0    0.000000      0.0\n",
       "USD            2.495821e+07   173.585313   1.0    0.001727      0.0"
      ]
     },
     "execution_count": 49,
     "metadata": {},
     "output_type": "execute_result"
    }
   ],
   "source": [
    "approved_mc_curr_avg = approved_mc.groupby('currency_code').mean()\n",
    "approved_mc_curr_avg"
   ]
  },
  {
   "cell_type": "code",
   "execution_count": 50,
   "metadata": {},
   "outputs": [],
   "source": [
    "# Difference between Approved Avg Amounts - Total Avg Amount\n",
    "# Japan is an outlier. Could be due to JPY being in larger denominations. "
   ]
  },
  {
   "cell_type": "code",
   "execution_count": 51,
   "metadata": {},
   "outputs": [
    {
     "data": {
      "text/plain": [
       "<matplotlib.axes._subplots.AxesSubplot at 0x127e12278>"
      ]
     },
     "execution_count": 51,
     "metadata": {},
     "output_type": "execute_result"
    },
    {
     "data": {
      "image/png": "[encoded data removed]",
      "text/plain": [
       "<Figure size 432x288 with 1 Axes>"
      ]
     },
     "metadata": {
      "needs_background": "light"
     },
     "output_type": "display_data"
    }
   ],
   "source": [
    "sns.barplot(x='currency_code', y='amount', data=(approved_mc_curr_avg['amount'] - mc_curr_avg['amount']).reset_index())"
   ]
  },
  {
   "cell_type": "code",
   "execution_count": 52,
   "metadata": {},
   "outputs": [],
   "source": [
    "# Removed Japan temporarily to see impact across other currencies\n",
    "# Approved CAD, CHF, DKK, USD average transactions are larger if unauthorized transactions are removed"
   ]
  },
  {
   "cell_type": "code",
   "execution_count": 53,
   "metadata": {},
   "outputs": [
    {
     "data": {
      "text/plain": [
       "<matplotlib.axes._subplots.AxesSubplot at 0x1287ddbe0>"
      ]
     },
     "execution_count": 53,
     "metadata": {},
     "output_type": "execute_result"
    },
    {
     "data": {
      "image/png": "[encoded data removed]",
      "text/plain": [
       "<Figure size 432x288 with 1 Axes>"
      ]
     },
     "metadata": {
      "needs_background": "light"
     },
     "output_type": "display_data"
    }
   ],
   "source": [
    "sns.barplot(x='currency_code', y='amount', data=(approved_mc_curr_avg['amount'] - mc_curr_avg['amount']).drop('JPY').reset_index())"
   ]
  },
  {
   "cell_type": "code",
   "execution_count": null,
   "metadata": {},
   "outputs": [],
   "source": []
  },
  {
   "cell_type": "markdown",
   "metadata": {},
   "source": [
    "### Average transaction value by currency only "
   ]
  },
  {
   "cell_type": "code",
   "execution_count": 54,
   "metadata": {},
   "outputs": [
    {
     "data": {
      "text/html": [
       "<div>\n",
       "<style scoped>\n",
       "    .dataframe tbody tr th:only-of-type {\n",
       "        vertical-align: middle;\n",
       "    }\n",
       "\n",
       "    .dataframe tbody tr th {\n",
       "        vertical-align: top;\n",
       "    }\n",
       "\n",
       "    .dataframe thead th {\n",
       "        text-align: right;\n",
       "    }\n",
       "</style>\n",
       "<table border=\"1\" class=\"dataframe\">\n",
       "  <thead>\n",
       "    <tr style=\"text-align: right;\">\n",
       "      <th></th>\n",
       "      <th>txid</th>\n",
       "      <th>amount</th>\n",
       "      <th>auth</th>\n",
       "      <th>chargeback</th>\n",
       "      <th>refusal</th>\n",
       "    </tr>\n",
       "    <tr>\n",
       "      <th>currency_code</th>\n",
       "      <th></th>\n",
       "      <th></th>\n",
       "      <th></th>\n",
       "      <th></th>\n",
       "      <th></th>\n",
       "    </tr>\n",
       "  </thead>\n",
       "  <tbody>\n",
       "    <tr>\n",
       "      <th>BRL</th>\n",
       "      <td>2.514685e+07</td>\n",
       "      <td>478.542664</td>\n",
       "      <td>0.753006</td>\n",
       "      <td>0.012293</td>\n",
       "      <td>0.246994</td>\n",
       "    </tr>\n",
       "    <tr>\n",
       "      <th>CAD</th>\n",
       "      <td>2.498170e+07</td>\n",
       "      <td>115.894873</td>\n",
       "      <td>0.909140</td>\n",
       "      <td>0.000677</td>\n",
       "      <td>0.090860</td>\n",
       "    </tr>\n",
       "    <tr>\n",
       "      <th>CHF</th>\n",
       "      <td>2.494537e+07</td>\n",
       "      <td>159.655647</td>\n",
       "      <td>0.840000</td>\n",
       "      <td>0.000000</td>\n",
       "      <td>0.160000</td>\n",
       "    </tr>\n",
       "    <tr>\n",
       "      <th>DKK</th>\n",
       "      <td>2.489211e+07</td>\n",
       "      <td>1040.673730</td>\n",
       "      <td>0.774749</td>\n",
       "      <td>0.000000</td>\n",
       "      <td>0.225251</td>\n",
       "    </tr>\n",
       "    <tr>\n",
       "      <th>EUR</th>\n",
       "      <td>2.498446e+07</td>\n",
       "      <td>132.554092</td>\n",
       "      <td>0.826326</td>\n",
       "      <td>0.000720</td>\n",
       "      <td>0.173674</td>\n",
       "    </tr>\n",
       "    <tr>\n",
       "      <th>GBP</th>\n",
       "      <td>2.504338e+07</td>\n",
       "      <td>135.091621</td>\n",
       "      <td>0.822313</td>\n",
       "      <td>0.000000</td>\n",
       "      <td>0.177687</td>\n",
       "    </tr>\n",
       "    <tr>\n",
       "      <th>JPY</th>\n",
       "      <td>2.526197e+07</td>\n",
       "      <td>15975.889983</td>\n",
       "      <td>0.463087</td>\n",
       "      <td>0.000000</td>\n",
       "      <td>0.536913</td>\n",
       "    </tr>\n",
       "    <tr>\n",
       "      <th>NOK</th>\n",
       "      <td>2.480837e+07</td>\n",
       "      <td>1339.072493</td>\n",
       "      <td>0.895890</td>\n",
       "      <td>0.000000</td>\n",
       "      <td>0.104110</td>\n",
       "    </tr>\n",
       "    <tr>\n",
       "      <th>SEK</th>\n",
       "      <td>2.481806e+07</td>\n",
       "      <td>1231.052366</td>\n",
       "      <td>0.889209</td>\n",
       "      <td>0.000000</td>\n",
       "      <td>0.110791</td>\n",
       "    </tr>\n",
       "    <tr>\n",
       "      <th>USD</th>\n",
       "      <td>2.499460e+07</td>\n",
       "      <td>168.911676</td>\n",
       "      <td>0.846079</td>\n",
       "      <td>0.001134</td>\n",
       "      <td>0.153921</td>\n",
       "    </tr>\n",
       "  </tbody>\n",
       "</table>\n",
       "</div>"
      ],
      "text/plain": [
       "                       txid        amount      auth  chargeback   refusal\n",
       "currency_code                                                            \n",
       "BRL            2.514685e+07    478.542664  0.753006    0.012293  0.246994\n",
       "CAD            2.498170e+07    115.894873  0.909140    0.000677  0.090860\n",
       "CHF            2.494537e+07    159.655647  0.840000    0.000000  0.160000\n",
       "DKK            2.489211e+07   1040.673730  0.774749    0.000000  0.225251\n",
       "EUR            2.498446e+07    132.554092  0.826326    0.000720  0.173674\n",
       "GBP            2.504338e+07    135.091621  0.822313    0.000000  0.177687\n",
       "JPY            2.526197e+07  15975.889983  0.463087    0.000000  0.536913\n",
       "NOK            2.480837e+07   1339.072493  0.895890    0.000000  0.104110\n",
       "SEK            2.481806e+07   1231.052366  0.889209    0.000000  0.110791\n",
       "USD            2.499460e+07    168.911676  0.846079    0.001134  0.153921"
      ]
     },
     "execution_count": 54,
     "metadata": {},
     "output_type": "execute_result"
    }
   ],
   "source": [
    "df_by_currency = df_merge.groupby('currency_code').mean()\n",
    "df_by_currency"
   ]
  },
  {
   "cell_type": "code",
   "execution_count": 55,
   "metadata": {},
   "outputs": [
    {
     "data": {
      "text/html": [
       "<div>\n",
       "<style scoped>\n",
       "    .dataframe tbody tr th:only-of-type {\n",
       "        vertical-align: middle;\n",
       "    }\n",
       "\n",
       "    .dataframe tbody tr th {\n",
       "        vertical-align: top;\n",
       "    }\n",
       "\n",
       "    .dataframe thead th {\n",
       "        text-align: right;\n",
       "    }\n",
       "</style>\n",
       "<table border=\"1\" class=\"dataframe\">\n",
       "  <thead>\n",
       "    <tr style=\"text-align: right;\">\n",
       "      <th></th>\n",
       "      <th>txid</th>\n",
       "      <th>amount</th>\n",
       "      <th>auth</th>\n",
       "      <th>chargeback</th>\n",
       "      <th>refusal</th>\n",
       "    </tr>\n",
       "    <tr>\n",
       "      <th>currency_code</th>\n",
       "      <th></th>\n",
       "      <th></th>\n",
       "      <th></th>\n",
       "      <th></th>\n",
       "      <th></th>\n",
       "    </tr>\n",
       "  </thead>\n",
       "  <tbody>\n",
       "    <tr>\n",
       "      <th>BRL</th>\n",
       "      <td>2.512313e+07</td>\n",
       "      <td>390.376509</td>\n",
       "      <td>1.0</td>\n",
       "      <td>0.016325</td>\n",
       "      <td>0.0</td>\n",
       "    </tr>\n",
       "    <tr>\n",
       "      <th>CAD</th>\n",
       "      <td>2.495120e+07</td>\n",
       "      <td>112.630219</td>\n",
       "      <td>1.0</td>\n",
       "      <td>0.000745</td>\n",
       "      <td>0.0</td>\n",
       "    </tr>\n",
       "    <tr>\n",
       "      <th>CHF</th>\n",
       "      <td>2.478608e+07</td>\n",
       "      <td>163.715910</td>\n",
       "      <td>1.0</td>\n",
       "      <td>0.000000</td>\n",
       "      <td>0.0</td>\n",
       "    </tr>\n",
       "    <tr>\n",
       "      <th>DKK</th>\n",
       "      <td>2.469343e+07</td>\n",
       "      <td>1053.637981</td>\n",
       "      <td>1.0</td>\n",
       "      <td>0.000000</td>\n",
       "      <td>0.0</td>\n",
       "    </tr>\n",
       "    <tr>\n",
       "      <th>EUR</th>\n",
       "      <td>2.498431e+07</td>\n",
       "      <td>118.806940</td>\n",
       "      <td>1.0</td>\n",
       "      <td>0.000872</td>\n",
       "      <td>0.0</td>\n",
       "    </tr>\n",
       "    <tr>\n",
       "      <th>GBP</th>\n",
       "      <td>2.514007e+07</td>\n",
       "      <td>114.353699</td>\n",
       "      <td>1.0</td>\n",
       "      <td>0.000000</td>\n",
       "      <td>0.0</td>\n",
       "    </tr>\n",
       "    <tr>\n",
       "      <th>JPY</th>\n",
       "      <td>2.547203e+07</td>\n",
       "      <td>9976.153732</td>\n",
       "      <td>1.0</td>\n",
       "      <td>0.000000</td>\n",
       "      <td>0.0</td>\n",
       "    </tr>\n",
       "    <tr>\n",
       "      <th>NOK</th>\n",
       "      <td>2.452221e+07</td>\n",
       "      <td>1227.870826</td>\n",
       "      <td>1.0</td>\n",
       "      <td>0.000000</td>\n",
       "      <td>0.0</td>\n",
       "    </tr>\n",
       "    <tr>\n",
       "      <th>SEK</th>\n",
       "      <td>2.473614e+07</td>\n",
       "      <td>1208.897995</td>\n",
       "      <td>1.0</td>\n",
       "      <td>0.000000</td>\n",
       "      <td>0.0</td>\n",
       "    </tr>\n",
       "    <tr>\n",
       "      <th>USD</th>\n",
       "      <td>2.497602e+07</td>\n",
       "      <td>164.654720</td>\n",
       "      <td>1.0</td>\n",
       "      <td>0.001341</td>\n",
       "      <td>0.0</td>\n",
       "    </tr>\n",
       "  </tbody>\n",
       "</table>\n",
       "</div>"
      ],
      "text/plain": [
       "                       txid       amount  auth  chargeback  refusal\n",
       "currency_code                                                      \n",
       "BRL            2.512313e+07   390.376509   1.0    0.016325      0.0\n",
       "CAD            2.495120e+07   112.630219   1.0    0.000745      0.0\n",
       "CHF            2.478608e+07   163.715910   1.0    0.000000      0.0\n",
       "DKK            2.469343e+07  1053.637981   1.0    0.000000      0.0\n",
       "EUR            2.498431e+07   118.806940   1.0    0.000872      0.0\n",
       "GBP            2.514007e+07   114.353699   1.0    0.000000      0.0\n",
       "JPY            2.547203e+07  9976.153732   1.0    0.000000      0.0\n",
       "NOK            2.452221e+07  1227.870826   1.0    0.000000      0.0\n",
       "SEK            2.473614e+07  1208.897995   1.0    0.000000      0.0\n",
       "USD            2.497602e+07   164.654720   1.0    0.001341      0.0"
      ]
     },
     "execution_count": 55,
     "metadata": {},
     "output_type": "execute_result"
    }
   ],
   "source": [
    "approved_df_by_currency = approved_transactions.groupby('currency_code').mean()\n",
    "approved_df_by_currency"
   ]
  },
  {
   "cell_type": "code",
   "execution_count": 56,
   "metadata": {},
   "outputs": [
    {
     "data": {
      "text/html": [
       "<div>\n",
       "<style scoped>\n",
       "    .dataframe tbody tr th:only-of-type {\n",
       "        vertical-align: middle;\n",
       "    }\n",
       "\n",
       "    .dataframe tbody tr th {\n",
       "        vertical-align: top;\n",
       "    }\n",
       "\n",
       "    .dataframe thead th {\n",
       "        text-align: right;\n",
       "    }\n",
       "</style>\n",
       "<table border=\"1\" class=\"dataframe\">\n",
       "  <thead>\n",
       "    <tr style=\"text-align: right;\">\n",
       "      <th></th>\n",
       "      <th>txid</th>\n",
       "      <th>amount</th>\n",
       "      <th>auth</th>\n",
       "      <th>chargeback</th>\n",
       "      <th>refusal</th>\n",
       "    </tr>\n",
       "    <tr>\n",
       "      <th>currency_code</th>\n",
       "      <th></th>\n",
       "      <th></th>\n",
       "      <th></th>\n",
       "      <th></th>\n",
       "      <th></th>\n",
       "    </tr>\n",
       "  </thead>\n",
       "  <tbody>\n",
       "    <tr>\n",
       "      <th>BRL</th>\n",
       "      <td>2.521914e+07</td>\n",
       "      <td>747.332997</td>\n",
       "      <td>0.0</td>\n",
       "      <td>0.0</td>\n",
       "      <td>1.0</td>\n",
       "    </tr>\n",
       "    <tr>\n",
       "      <th>CAD</th>\n",
       "      <td>2.528691e+07</td>\n",
       "      <td>148.560879</td>\n",
       "      <td>0.0</td>\n",
       "      <td>0.0</td>\n",
       "      <td>1.0</td>\n",
       "    </tr>\n",
       "    <tr>\n",
       "      <th>CHF</th>\n",
       "      <td>2.578165e+07</td>\n",
       "      <td>138.339265</td>\n",
       "      <td>0.0</td>\n",
       "      <td>0.0</td>\n",
       "      <td>1.0</td>\n",
       "    </tr>\n",
       "    <tr>\n",
       "      <th>DKK</th>\n",
       "      <td>2.557548e+07</td>\n",
       "      <td>996.083312</td>\n",
       "      <td>0.0</td>\n",
       "      <td>0.0</td>\n",
       "      <td>1.0</td>\n",
       "    </tr>\n",
       "    <tr>\n",
       "      <th>EUR</th>\n",
       "      <td>2.498520e+07</td>\n",
       "      <td>197.961923</td>\n",
       "      <td>0.0</td>\n",
       "      <td>0.0</td>\n",
       "      <td>1.0</td>\n",
       "    </tr>\n",
       "    <tr>\n",
       "      <th>GBP</th>\n",
       "      <td>2.459588e+07</td>\n",
       "      <td>231.063874</td>\n",
       "      <td>0.0</td>\n",
       "      <td>0.0</td>\n",
       "      <td>1.0</td>\n",
       "    </tr>\n",
       "    <tr>\n",
       "      <th>JPY</th>\n",
       "      <td>2.508079e+07</td>\n",
       "      <td>21150.662500</td>\n",
       "      <td>0.0</td>\n",
       "      <td>0.0</td>\n",
       "      <td>1.0</td>\n",
       "    </tr>\n",
       "    <tr>\n",
       "      <th>NOK</th>\n",
       "      <td>2.727091e+07</td>\n",
       "      <td>2295.992105</td>\n",
       "      <td>0.0</td>\n",
       "      <td>0.0</td>\n",
       "      <td>1.0</td>\n",
       "    </tr>\n",
       "    <tr>\n",
       "      <th>SEK</th>\n",
       "      <td>2.547553e+07</td>\n",
       "      <td>1408.864271</td>\n",
       "      <td>0.0</td>\n",
       "      <td>0.0</td>\n",
       "      <td>1.0</td>\n",
       "    </tr>\n",
       "    <tr>\n",
       "      <th>USD</th>\n",
       "      <td>2.509670e+07</td>\n",
       "      <td>192.311467</td>\n",
       "      <td>0.0</td>\n",
       "      <td>0.0</td>\n",
       "      <td>1.0</td>\n",
       "    </tr>\n",
       "  </tbody>\n",
       "</table>\n",
       "</div>"
      ],
      "text/plain": [
       "                       txid        amount  auth  chargeback  refusal\n",
       "currency_code                                                       \n",
       "BRL            2.521914e+07    747.332997   0.0         0.0      1.0\n",
       "CAD            2.528691e+07    148.560879   0.0         0.0      1.0\n",
       "CHF            2.578165e+07    138.339265   0.0         0.0      1.0\n",
       "DKK            2.557548e+07    996.083312   0.0         0.0      1.0\n",
       "EUR            2.498520e+07    197.961923   0.0         0.0      1.0\n",
       "GBP            2.459588e+07    231.063874   0.0         0.0      1.0\n",
       "JPY            2.508079e+07  21150.662500   0.0         0.0      1.0\n",
       "NOK            2.727091e+07   2295.992105   0.0         0.0      1.0\n",
       "SEK            2.547553e+07   1408.864271   0.0         0.0      1.0\n",
       "USD            2.509670e+07    192.311467   0.0         0.0      1.0"
      ]
     },
     "execution_count": 56,
     "metadata": {},
     "output_type": "execute_result"
    }
   ],
   "source": [
    "unapproved_df_by_currency = unapproved_transactions.groupby('currency_code').mean()\n",
    "unapproved_df_by_currency"
   ]
  },
  {
   "cell_type": "code",
   "execution_count": 57,
   "metadata": {},
   "outputs": [
    {
     "data": {
      "text/plain": [
       "[390.37650866389197,\n",
       " 112.63021894548632,\n",
       " 163.71591036414569,\n",
       " 1053.6379814814807,\n",
       " 118.80694008558804,\n",
       " 114.35369896906889,\n",
       " 9976.153731884056,\n",
       " 1227.870825688073,\n",
       " 1208.8979948085619,\n",
       " 164.65471964686134]"
      ]
     },
     "execution_count": 57,
     "metadata": {},
     "output_type": "execute_result"
    }
   ],
   "source": [
    "list(approved_df_by_currency['amount'])"
   ]
  },
  {
   "cell_type": "code",
   "execution_count": 58,
   "metadata": {},
   "outputs": [
    {
     "data": {
      "text/plain": [
       "<matplotlib.axes._subplots.AxesSubplot at 0x12730d438>"
      ]
     },
     "execution_count": 58,
     "metadata": {},
     "output_type": "execute_result"
    },
    {
     "data": {
      "image/png": "[encoded data removed]",
      "text/plain": [
       "<Figure size 432x288 with 1 Axes>"
      ]
     },
     "metadata": {
      "needs_background": "light"
     },
     "output_type": "display_data"
    }
   ],
   "source": [
    "    sns.barplot(x='currency_code', y='amount', data=df_by_currency.reset_index())"
   ]
  },
  {
   "cell_type": "code",
   "execution_count": 59,
   "metadata": {},
   "outputs": [
    {
     "data": {
      "text/plain": [
       "<matplotlib.axes._subplots.AxesSubplot at 0x1240d3860>"
      ]
     },
     "execution_count": 59,
     "metadata": {},
     "output_type": "execute_result"
    },
    {
     "data": {
      "image/png": "[encoded data removed]",
      "text/plain": [
       "<Figure size 432x288 with 1 Axes>"
      ]
     },
     "metadata": {
      "needs_background": "light"
     },
     "output_type": "display_data"
    }
   ],
   "source": [
    "sns.barplot(x='currency_code', y='amount', data=approved_df_by_currency.reset_index())"
   ]
  },
  {
   "cell_type": "code",
   "execution_count": 60,
   "metadata": {},
   "outputs": [],
   "source": [
    "# Difference between Auth Avg Amounts - Total Avg Amount\n",
    "# Japan is an outlier. Could be due to JPY being in larger denominations. "
   ]
  },
  {
   "cell_type": "code",
   "execution_count": 61,
   "metadata": {},
   "outputs": [
    {
     "data": {
      "text/plain": [
       "<matplotlib.axes._subplots.AxesSubplot at 0x1271e6160>"
      ]
     },
     "execution_count": 61,
     "metadata": {},
     "output_type": "execute_result"
    },
    {
     "data": {
      "image/png": "[encoded data removed]",
      "text/plain": [
       "<Figure size 432x288 with 1 Axes>"
      ]
     },
     "metadata": {
      "needs_background": "light"
     },
     "output_type": "display_data"
    }
   ],
   "source": [
    "sns.barplot(x='currency_code', y='amount', data=(approved_df_by_currency['amount'] - df_by_currency['amount']).reset_index())"
   ]
  },
  {
   "cell_type": "code",
   "execution_count": 62,
   "metadata": {},
   "outputs": [],
   "source": [
    "# Removed Japan temporarily to see impact across other currencies\n",
    "# Looking at it from purely a currency standpoint, average transactions are lower if unauthorized transactions are removed\n",
    "# The exception being in CHF, DKK"
   ]
  },
  {
   "cell_type": "code",
   "execution_count": 63,
   "metadata": {},
   "outputs": [
    {
     "data": {
      "text/plain": [
       "Text(0.5, 1.0, 'Difference between Avg Auth Amounts - Total Avg Amount')"
      ]
     },
     "execution_count": 63,
     "metadata": {},
     "output_type": "execute_result"
    },
    {
     "data": {
      "image/png": "[encoded data removed]",
      "text/plain": [
       "<Figure size 864x576 with 1 Axes>"
      ]
     },
     "metadata": {
      "needs_background": "light"
     },
     "output_type": "display_data"
    }
   ],
   "source": [
    "plt.figure(figsize=(12,8))\n",
    "sns.barplot(x='currency_code', y='amount', data=(approved_df_by_currency['amount'] - df_by_currency['amount']).drop('JPY').reset_index()).set_title('Difference between Avg Auth Amounts - Total Avg Amount')"
   ]
  },
  {
   "cell_type": "markdown",
   "metadata": {},
   "source": [
    "### Average transaction value by scheme only "
   ]
  },
  {
   "cell_type": "code",
   "execution_count": 64,
   "metadata": {},
   "outputs": [
    {
     "data": {
      "text/html": [
       "<div>\n",
       "<style scoped>\n",
       "    .dataframe tbody tr th:only-of-type {\n",
       "        vertical-align: middle;\n",
       "    }\n",
       "\n",
       "    .dataframe tbody tr th {\n",
       "        vertical-align: top;\n",
       "    }\n",
       "\n",
       "    .dataframe thead th {\n",
       "        text-align: right;\n",
       "    }\n",
       "</style>\n",
       "<table border=\"1\" class=\"dataframe\">\n",
       "  <thead>\n",
       "    <tr style=\"text-align: right;\">\n",
       "      <th></th>\n",
       "      <th>txid</th>\n",
       "      <th>amount</th>\n",
       "      <th>auth</th>\n",
       "      <th>chargeback</th>\n",
       "      <th>refusal</th>\n",
       "    </tr>\n",
       "    <tr>\n",
       "      <th>scheme</th>\n",
       "      <th></th>\n",
       "      <th></th>\n",
       "      <th></th>\n",
       "      <th></th>\n",
       "      <th></th>\n",
       "    </tr>\n",
       "  </thead>\n",
       "  <tbody>\n",
       "    <tr>\n",
       "      <th>mc</th>\n",
       "      <td>2.502738e+07</td>\n",
       "      <td>299.014654</td>\n",
       "      <td>0.755907</td>\n",
       "      <td>0.003662</td>\n",
       "      <td>0.244093</td>\n",
       "    </tr>\n",
       "    <tr>\n",
       "      <th>visa</th>\n",
       "      <td>2.500183e+07</td>\n",
       "      <td>282.829367</td>\n",
       "      <td>0.881453</td>\n",
       "      <td>0.001734</td>\n",
       "      <td>0.118547</td>\n",
       "    </tr>\n",
       "  </tbody>\n",
       "</table>\n",
       "</div>"
      ],
      "text/plain": [
       "                txid      amount      auth  chargeback   refusal\n",
       "scheme                                                          \n",
       "mc      2.502738e+07  299.014654  0.755907    0.003662  0.244093\n",
       "visa    2.500183e+07  282.829367  0.881453    0.001734  0.118547"
      ]
     },
     "execution_count": 64,
     "metadata": {},
     "output_type": "execute_result"
    }
   ],
   "source": [
    "df_by_scheme = df_merge.groupby('scheme').mean()\n",
    "df_by_scheme"
   ]
  },
  {
   "cell_type": "code",
   "execution_count": 65,
   "metadata": {},
   "outputs": [
    {
     "data": {
      "text/html": [
       "<div>\n",
       "<style scoped>\n",
       "    .dataframe tbody tr th:only-of-type {\n",
       "        vertical-align: middle;\n",
       "    }\n",
       "\n",
       "    .dataframe tbody tr th {\n",
       "        vertical-align: top;\n",
       "    }\n",
       "\n",
       "    .dataframe thead th {\n",
       "        text-align: right;\n",
       "    }\n",
       "</style>\n",
       "<table border=\"1\" class=\"dataframe\">\n",
       "  <thead>\n",
       "    <tr style=\"text-align: right;\">\n",
       "      <th></th>\n",
       "      <th>txid</th>\n",
       "      <th>amount</th>\n",
       "      <th>auth</th>\n",
       "      <th>chargeback</th>\n",
       "      <th>refusal</th>\n",
       "    </tr>\n",
       "    <tr>\n",
       "      <th>scheme</th>\n",
       "      <th></th>\n",
       "      <th></th>\n",
       "      <th></th>\n",
       "      <th></th>\n",
       "      <th></th>\n",
       "    </tr>\n",
       "  </thead>\n",
       "  <tbody>\n",
       "    <tr>\n",
       "      <th>mc</th>\n",
       "      <td>2.500564e+07</td>\n",
       "      <td>266.218873</td>\n",
       "      <td>1.0</td>\n",
       "      <td>0.004845</td>\n",
       "      <td>0.0</td>\n",
       "    </tr>\n",
       "    <tr>\n",
       "      <th>visa</th>\n",
       "      <td>2.498348e+07</td>\n",
       "      <td>204.724840</td>\n",
       "      <td>1.0</td>\n",
       "      <td>0.001967</td>\n",
       "      <td>0.0</td>\n",
       "    </tr>\n",
       "  </tbody>\n",
       "</table>\n",
       "</div>"
      ],
      "text/plain": [
       "                txid      amount  auth  chargeback  refusal\n",
       "scheme                                                     \n",
       "mc      2.500564e+07  266.218873   1.0    0.004845      0.0\n",
       "visa    2.498348e+07  204.724840   1.0    0.001967      0.0"
      ]
     },
     "execution_count": 65,
     "metadata": {},
     "output_type": "execute_result"
    }
   ],
   "source": [
    "approved_df_by_scheme = approved_transactions.groupby('scheme').mean()\n",
    "approved_df_by_scheme"
   ]
  },
  {
   "cell_type": "code",
   "execution_count": 66,
   "metadata": {},
   "outputs": [
    {
     "data": {
      "text/plain": [
       "<matplotlib.axes._subplots.AxesSubplot at 0x12d1ab198>"
      ]
     },
     "execution_count": 66,
     "metadata": {},
     "output_type": "execute_result"
    },
    {
     "data": {
      "image/png": "[encoded data removed]",
      "text/plain": [
       "<Figure size 432x288 with 1 Axes>"
      ]
     },
     "metadata": {
      "needs_background": "light"
     },
     "output_type": "display_data"
    }
   ],
   "source": [
    "sns.barplot(x='scheme', y='amount', data=df_by_scheme.reset_index(), palette='viridis')"
   ]
  },
  {
   "cell_type": "code",
   "execution_count": 67,
   "metadata": {},
   "outputs": [
    {
     "data": {
      "text/plain": [
       "<matplotlib.axes._subplots.AxesSubplot at 0x127e560b8>"
      ]
     },
     "execution_count": 67,
     "metadata": {},
     "output_type": "execute_result"
    },
    {
     "data": {
      "image/png": "[encoded data removed]",
      "text/plain": [
       "<Figure size 432x288 with 1 Axes>"
      ]
     },
     "metadata": {
      "needs_background": "light"
     },
     "output_type": "display_data"
    }
   ],
   "source": [
    "sns.barplot(x='scheme', y='amount', data=approved_df_by_scheme.reset_index(),palette='viridis')"
   ]
  },
  {
   "cell_type": "code",
   "execution_count": 68,
   "metadata": {},
   "outputs": [
    {
     "data": {
      "text/plain": [
       "<matplotlib.axes._subplots.AxesSubplot at 0x106949c18>"
      ]
     },
     "execution_count": 68,
     "metadata": {},
     "output_type": "execute_result"
    },
    {
     "data": {
      "image/png": "[encoded data removed]",
      "text/plain": [
       "<Figure size 432x288 with 1 Axes>"
      ]
     },
     "metadata": {
      "needs_background": "light"
     },
     "output_type": "display_data"
    }
   ],
   "source": [
    "sns.barplot(x='scheme', y='amount', data=(approved_df_by_scheme['amount'] - df_by_scheme['amount']).reset_index(), palette='viridis')"
   ]
  },
  {
   "cell_type": "markdown",
   "metadata": {},
   "source": [
    "# Solution for 2D Here !!!\n",
    "\n",
    "# Above was exploratory analysis\n",
    "\n",
    "# Solution is broken up by category"
   ]
  },
  {
   "cell_type": "markdown",
   "metadata": {},
   "source": [
    "# Based on Authorized and Unauthorized transactions"
   ]
  },
  {
   "cell_type": "code",
   "execution_count": 69,
   "metadata": {},
   "outputs": [
    {
     "data": {
      "text/html": [
       "<div>\n",
       "<style scoped>\n",
       "    .dataframe tbody tr th:only-of-type {\n",
       "        vertical-align: middle;\n",
       "    }\n",
       "\n",
       "    .dataframe tbody tr th {\n",
       "        vertical-align: top;\n",
       "    }\n",
       "\n",
       "    .dataframe thead th {\n",
       "        text-align: right;\n",
       "    }\n",
       "</style>\n",
       "<table border=\"1\" class=\"dataframe\">\n",
       "  <thead>\n",
       "    <tr style=\"text-align: right;\">\n",
       "      <th></th>\n",
       "      <th>amount</th>\n",
       "    </tr>\n",
       "    <tr>\n",
       "      <th>currency_code</th>\n",
       "      <th></th>\n",
       "    </tr>\n",
       "  </thead>\n",
       "  <tbody>\n",
       "    <tr>\n",
       "      <th>BRL</th>\n",
       "      <td>526.562131</td>\n",
       "    </tr>\n",
       "    <tr>\n",
       "      <th>CAD</th>\n",
       "      <td>116.687211</td>\n",
       "    </tr>\n",
       "    <tr>\n",
       "      <th>CHF</th>\n",
       "      <td>178.199137</td>\n",
       "    </tr>\n",
       "    <tr>\n",
       "      <th>DKK</th>\n",
       "      <td>891.340788</td>\n",
       "    </tr>\n",
       "    <tr>\n",
       "      <th>EUR</th>\n",
       "      <td>132.661267</td>\n",
       "    </tr>\n",
       "    <tr>\n",
       "      <th>GBP</th>\n",
       "      <td>125.256602</td>\n",
       "    </tr>\n",
       "    <tr>\n",
       "      <th>JPY</th>\n",
       "      <td>16615.698598</td>\n",
       "    </tr>\n",
       "    <tr>\n",
       "      <th>NOK</th>\n",
       "      <td>1173.876935</td>\n",
       "    </tr>\n",
       "    <tr>\n",
       "      <th>SEK</th>\n",
       "      <td>1230.632819</td>\n",
       "    </tr>\n",
       "    <tr>\n",
       "      <th>USD</th>\n",
       "      <td>172.598802</td>\n",
       "    </tr>\n",
       "  </tbody>\n",
       "</table>\n",
       "</div>"
      ],
      "text/plain": [
       "                     amount\n",
       "currency_code              \n",
       "BRL              526.562131\n",
       "CAD              116.687211\n",
       "CHF              178.199137\n",
       "DKK              891.340788\n",
       "EUR              132.661267\n",
       "GBP              125.256602\n",
       "JPY            16615.698598\n",
       "NOK             1173.876935\n",
       "SEK             1230.632819\n",
       "USD              172.598802"
      ]
     },
     "execution_count": 69,
     "metadata": {},
     "output_type": "execute_result"
    }
   ],
   "source": [
    "pd.DataFrame(visa_curr_avg['amount'], visa_curr_avg.reset_index()['currency_code'])\n"
   ]
  },
  {
   "cell_type": "code",
   "execution_count": 70,
   "metadata": {},
   "outputs": [
    {
     "data": {
      "text/html": [
       "<div>\n",
       "<style scoped>\n",
       "    .dataframe tbody tr th:only-of-type {\n",
       "        vertical-align: middle;\n",
       "    }\n",
       "\n",
       "    .dataframe tbody tr th {\n",
       "        vertical-align: top;\n",
       "    }\n",
       "\n",
       "    .dataframe thead th {\n",
       "        text-align: right;\n",
       "    }\n",
       "</style>\n",
       "<table border=\"1\" class=\"dataframe\">\n",
       "  <thead>\n",
       "    <tr style=\"text-align: right;\">\n",
       "      <th></th>\n",
       "      <th>amount</th>\n",
       "    </tr>\n",
       "    <tr>\n",
       "      <th>currency_code</th>\n",
       "      <th></th>\n",
       "    </tr>\n",
       "  </thead>\n",
       "  <tbody>\n",
       "    <tr>\n",
       "      <th>BRL</th>\n",
       "      <td>451.902305</td>\n",
       "    </tr>\n",
       "    <tr>\n",
       "      <th>CAD</th>\n",
       "      <td>114.503847</td>\n",
       "    </tr>\n",
       "    <tr>\n",
       "      <th>CHF</th>\n",
       "      <td>150.643252</td>\n",
       "    </tr>\n",
       "    <tr>\n",
       "      <th>DKK</th>\n",
       "      <td>1102.039291</td>\n",
       "    </tr>\n",
       "    <tr>\n",
       "      <th>EUR</th>\n",
       "      <td>132.433334</td>\n",
       "    </tr>\n",
       "    <tr>\n",
       "      <th>GBP</th>\n",
       "      <td>165.316644</td>\n",
       "    </tr>\n",
       "    <tr>\n",
       "      <th>JPY</th>\n",
       "      <td>14345.901369</td>\n",
       "    </tr>\n",
       "    <tr>\n",
       "      <th>NOK</th>\n",
       "      <td>1689.230598</td>\n",
       "    </tr>\n",
       "    <tr>\n",
       "      <th>SEK</th>\n",
       "      <td>1231.215878</td>\n",
       "    </tr>\n",
       "    <tr>\n",
       "      <th>USD</th>\n",
       "      <td>160.925422</td>\n",
       "    </tr>\n",
       "  </tbody>\n",
       "</table>\n",
       "</div>"
      ],
      "text/plain": [
       "                     amount\n",
       "currency_code              \n",
       "BRL              451.902305\n",
       "CAD              114.503847\n",
       "CHF              150.643252\n",
       "DKK             1102.039291\n",
       "EUR              132.433334\n",
       "GBP              165.316644\n",
       "JPY            14345.901369\n",
       "NOK             1689.230598\n",
       "SEK             1231.215878\n",
       "USD              160.925422"
      ]
     },
     "execution_count": 70,
     "metadata": {},
     "output_type": "execute_result"
    }
   ],
   "source": [
    "pd.DataFrame(mc_curr_avg['amount'], visa_curr_avg.reset_index()['currency_code'])\n"
   ]
  },
  {
   "cell_type": "code",
   "execution_count": 71,
   "metadata": {},
   "outputs": [
    {
     "data": {
      "text/html": [
       "<div>\n",
       "<style scoped>\n",
       "    .dataframe tbody tr th:only-of-type {\n",
       "        vertical-align: middle;\n",
       "    }\n",
       "\n",
       "    .dataframe tbody tr th {\n",
       "        vertical-align: top;\n",
       "    }\n",
       "\n",
       "    .dataframe thead th {\n",
       "        text-align: right;\n",
       "    }\n",
       "</style>\n",
       "<table border=\"1\" class=\"dataframe\">\n",
       "  <thead>\n",
       "    <tr style=\"text-align: right;\">\n",
       "      <th></th>\n",
       "      <th>amount</th>\n",
       "    </tr>\n",
       "    <tr>\n",
       "      <th>currency_code</th>\n",
       "      <th></th>\n",
       "    </tr>\n",
       "  </thead>\n",
       "  <tbody>\n",
       "    <tr>\n",
       "      <th>BRL</th>\n",
       "      <td>478.542664</td>\n",
       "    </tr>\n",
       "    <tr>\n",
       "      <th>CAD</th>\n",
       "      <td>115.894873</td>\n",
       "    </tr>\n",
       "    <tr>\n",
       "      <th>CHF</th>\n",
       "      <td>159.655647</td>\n",
       "    </tr>\n",
       "    <tr>\n",
       "      <th>DKK</th>\n",
       "      <td>1040.673730</td>\n",
       "    </tr>\n",
       "    <tr>\n",
       "      <th>EUR</th>\n",
       "      <td>132.554092</td>\n",
       "    </tr>\n",
       "    <tr>\n",
       "      <th>GBP</th>\n",
       "      <td>135.091621</td>\n",
       "    </tr>\n",
       "    <tr>\n",
       "      <th>JPY</th>\n",
       "      <td>15975.889983</td>\n",
       "    </tr>\n",
       "    <tr>\n",
       "      <th>NOK</th>\n",
       "      <td>1339.072493</td>\n",
       "    </tr>\n",
       "    <tr>\n",
       "      <th>SEK</th>\n",
       "      <td>1231.052366</td>\n",
       "    </tr>\n",
       "    <tr>\n",
       "      <th>USD</th>\n",
       "      <td>168.911676</td>\n",
       "    </tr>\n",
       "  </tbody>\n",
       "</table>\n",
       "</div>"
      ],
      "text/plain": [
       "                     amount\n",
       "currency_code              \n",
       "BRL              478.542664\n",
       "CAD              115.894873\n",
       "CHF              159.655647\n",
       "DKK             1040.673730\n",
       "EUR              132.554092\n",
       "GBP              135.091621\n",
       "JPY            15975.889983\n",
       "NOK             1339.072493\n",
       "SEK             1231.052366\n",
       "USD              168.911676"
      ]
     },
     "execution_count": 71,
     "metadata": {},
     "output_type": "execute_result"
    }
   ],
   "source": [
    "pd.DataFrame(df_by_currency['amount'], df_by_currency.reset_index()['currency_code'])\n"
   ]
  },
  {
   "cell_type": "code",
   "execution_count": 72,
   "metadata": {},
   "outputs": [
    {
     "data": {
      "text/html": [
       "<div>\n",
       "<style scoped>\n",
       "    .dataframe tbody tr th:only-of-type {\n",
       "        vertical-align: middle;\n",
       "    }\n",
       "\n",
       "    .dataframe tbody tr th {\n",
       "        vertical-align: top;\n",
       "    }\n",
       "\n",
       "    .dataframe thead th {\n",
       "        text-align: right;\n",
       "    }\n",
       "</style>\n",
       "<table border=\"1\" class=\"dataframe\">\n",
       "  <thead>\n",
       "    <tr style=\"text-align: right;\">\n",
       "      <th></th>\n",
       "      <th>amount</th>\n",
       "    </tr>\n",
       "    <tr>\n",
       "      <th>scheme</th>\n",
       "      <th></th>\n",
       "    </tr>\n",
       "  </thead>\n",
       "  <tbody>\n",
       "    <tr>\n",
       "      <th>mc</th>\n",
       "      <td>299.014654</td>\n",
       "    </tr>\n",
       "    <tr>\n",
       "      <th>visa</th>\n",
       "      <td>282.829367</td>\n",
       "    </tr>\n",
       "  </tbody>\n",
       "</table>\n",
       "</div>"
      ],
      "text/plain": [
       "            amount\n",
       "scheme            \n",
       "mc      299.014654\n",
       "visa    282.829367"
      ]
     },
     "execution_count": 72,
     "metadata": {},
     "output_type": "execute_result"
    }
   ],
   "source": [
    "pd.DataFrame(df_by_scheme['amount'], df_by_scheme.reset_index()['scheme'])\n"
   ]
  },
  {
   "cell_type": "code",
   "execution_count": null,
   "metadata": {},
   "outputs": [],
   "source": []
  },
  {
   "cell_type": "markdown",
   "metadata": {},
   "source": [
    "# Based on Authorized Transactions only"
   ]
  },
  {
   "cell_type": "code",
   "execution_count": 73,
   "metadata": {},
   "outputs": [
    {
     "data": {
      "text/html": [
       "<div>\n",
       "<style scoped>\n",
       "    .dataframe tbody tr th:only-of-type {\n",
       "        vertical-align: middle;\n",
       "    }\n",
       "\n",
       "    .dataframe tbody tr th {\n",
       "        vertical-align: top;\n",
       "    }\n",
       "\n",
       "    .dataframe thead th {\n",
       "        text-align: right;\n",
       "    }\n",
       "</style>\n",
       "<table border=\"1\" class=\"dataframe\">\n",
       "  <thead>\n",
       "    <tr style=\"text-align: right;\">\n",
       "      <th></th>\n",
       "      <th>amount</th>\n",
       "    </tr>\n",
       "    <tr>\n",
       "      <th>currency_code</th>\n",
       "      <th></th>\n",
       "    </tr>\n",
       "  </thead>\n",
       "  <tbody>\n",
       "    <tr>\n",
       "      <th>BRL</th>\n",
       "      <td>417.761169</td>\n",
       "    </tr>\n",
       "    <tr>\n",
       "      <th>CAD</th>\n",
       "      <td>112.815117</td>\n",
       "    </tr>\n",
       "    <tr>\n",
       "      <th>CHF</th>\n",
       "      <td>181.704144</td>\n",
       "    </tr>\n",
       "    <tr>\n",
       "      <th>DKK</th>\n",
       "      <td>810.763696</td>\n",
       "    </tr>\n",
       "    <tr>\n",
       "      <th>EUR</th>\n",
       "      <td>117.855759</td>\n",
       "    </tr>\n",
       "    <tr>\n",
       "      <th>GBP</th>\n",
       "      <td>107.395220</td>\n",
       "    </tr>\n",
       "    <tr>\n",
       "      <th>JPY</th>\n",
       "      <td>9988.095000</td>\n",
       "    </tr>\n",
       "    <tr>\n",
       "      <th>NOK</th>\n",
       "      <td>1108.980991</td>\n",
       "    </tr>\n",
       "    <tr>\n",
       "      <th>SEK</th>\n",
       "      <td>1213.290920</td>\n",
       "    </tr>\n",
       "    <tr>\n",
       "      <th>USD</th>\n",
       "      <td>161.457212</td>\n",
       "    </tr>\n",
       "  </tbody>\n",
       "</table>\n",
       "</div>"
      ],
      "text/plain": [
       "                    amount\n",
       "currency_code             \n",
       "BRL             417.761169\n",
       "CAD             112.815117\n",
       "CHF             181.704144\n",
       "DKK             810.763696\n",
       "EUR             117.855759\n",
       "GBP             107.395220\n",
       "JPY            9988.095000\n",
       "NOK            1108.980991\n",
       "SEK            1213.290920\n",
       "USD             161.457212"
      ]
     },
     "execution_count": 73,
     "metadata": {},
     "output_type": "execute_result"
    }
   ],
   "source": [
    "pd.DataFrame(approved_visa_curr_avg['amount'], approved_visa_curr_avg.reset_index()['currency_code'])\n"
   ]
  },
  {
   "cell_type": "code",
   "execution_count": 74,
   "metadata": {},
   "outputs": [
    {
     "data": {
      "text/html": [
       "<div>\n",
       "<style scoped>\n",
       "    .dataframe tbody tr th:only-of-type {\n",
       "        vertical-align: middle;\n",
       "    }\n",
       "\n",
       "    .dataframe tbody tr th {\n",
       "        vertical-align: top;\n",
       "    }\n",
       "\n",
       "    .dataframe thead th {\n",
       "        text-align: right;\n",
       "    }\n",
       "</style>\n",
       "<table border=\"1\" class=\"dataframe\">\n",
       "  <thead>\n",
       "    <tr style=\"text-align: right;\">\n",
       "      <th></th>\n",
       "      <th>amount</th>\n",
       "    </tr>\n",
       "    <tr>\n",
       "      <th>currency_code</th>\n",
       "      <th></th>\n",
       "    </tr>\n",
       "  </thead>\n",
       "  <tbody>\n",
       "    <tr>\n",
       "      <th>BRL</th>\n",
       "      <td>376.690060</td>\n",
       "    </tr>\n",
       "    <tr>\n",
       "      <th>CAD</th>\n",
       "      <td>112.308420</td>\n",
       "    </tr>\n",
       "    <tr>\n",
       "      <th>CHF</th>\n",
       "      <td>155.599268</td>\n",
       "    </tr>\n",
       "    <tr>\n",
       "      <th>DKK</th>\n",
       "      <td>1137.012736</td>\n",
       "    </tr>\n",
       "    <tr>\n",
       "      <th>EUR</th>\n",
       "      <td>119.887586</td>\n",
       "    </tr>\n",
       "    <tr>\n",
       "      <th>GBP</th>\n",
       "      <td>134.265143</td>\n",
       "    </tr>\n",
       "    <tr>\n",
       "      <th>JPY</th>\n",
       "      <td>9944.729342</td>\n",
       "    </tr>\n",
       "    <tr>\n",
       "      <th>NOK</th>\n",
       "      <td>1479.237905</td>\n",
       "    </tr>\n",
       "    <tr>\n",
       "      <th>SEK</th>\n",
       "      <td>1207.170217</td>\n",
       "    </tr>\n",
       "    <tr>\n",
       "      <th>USD</th>\n",
       "      <td>173.585313</td>\n",
       "    </tr>\n",
       "  </tbody>\n",
       "</table>\n",
       "</div>"
      ],
      "text/plain": [
       "                    amount\n",
       "currency_code             \n",
       "BRL             376.690060\n",
       "CAD             112.308420\n",
       "CHF             155.599268\n",
       "DKK            1137.012736\n",
       "EUR             119.887586\n",
       "GBP             134.265143\n",
       "JPY            9944.729342\n",
       "NOK            1479.237905\n",
       "SEK            1207.170217\n",
       "USD             173.585313"
      ]
     },
     "execution_count": 74,
     "metadata": {},
     "output_type": "execute_result"
    }
   ],
   "source": [
    "pd.DataFrame(approved_mc_curr_avg['amount'], approved_mc_curr_avg.reset_index()['currency_code'])\n"
   ]
  },
  {
   "cell_type": "code",
   "execution_count": 75,
   "metadata": {},
   "outputs": [
    {
     "data": {
      "text/html": [
       "<div>\n",
       "<style scoped>\n",
       "    .dataframe tbody tr th:only-of-type {\n",
       "        vertical-align: middle;\n",
       "    }\n",
       "\n",
       "    .dataframe tbody tr th {\n",
       "        vertical-align: top;\n",
       "    }\n",
       "\n",
       "    .dataframe thead th {\n",
       "        text-align: right;\n",
       "    }\n",
       "</style>\n",
       "<table border=\"1\" class=\"dataframe\">\n",
       "  <thead>\n",
       "    <tr style=\"text-align: right;\">\n",
       "      <th></th>\n",
       "      <th>amount</th>\n",
       "    </tr>\n",
       "    <tr>\n",
       "      <th>currency_code</th>\n",
       "      <th></th>\n",
       "    </tr>\n",
       "  </thead>\n",
       "  <tbody>\n",
       "    <tr>\n",
       "      <th>BRL</th>\n",
       "      <td>390.376509</td>\n",
       "    </tr>\n",
       "    <tr>\n",
       "      <th>CAD</th>\n",
       "      <td>112.630219</td>\n",
       "    </tr>\n",
       "    <tr>\n",
       "      <th>CHF</th>\n",
       "      <td>163.715910</td>\n",
       "    </tr>\n",
       "    <tr>\n",
       "      <th>DKK</th>\n",
       "      <td>1053.637981</td>\n",
       "    </tr>\n",
       "    <tr>\n",
       "      <th>EUR</th>\n",
       "      <td>118.806940</td>\n",
       "    </tr>\n",
       "    <tr>\n",
       "      <th>GBP</th>\n",
       "      <td>114.353699</td>\n",
       "    </tr>\n",
       "    <tr>\n",
       "      <th>JPY</th>\n",
       "      <td>9976.153732</td>\n",
       "    </tr>\n",
       "    <tr>\n",
       "      <th>NOK</th>\n",
       "      <td>1227.870826</td>\n",
       "    </tr>\n",
       "    <tr>\n",
       "      <th>SEK</th>\n",
       "      <td>1208.897995</td>\n",
       "    </tr>\n",
       "    <tr>\n",
       "      <th>USD</th>\n",
       "      <td>164.654720</td>\n",
       "    </tr>\n",
       "  </tbody>\n",
       "</table>\n",
       "</div>"
      ],
      "text/plain": [
       "                    amount\n",
       "currency_code             \n",
       "BRL             390.376509\n",
       "CAD             112.630219\n",
       "CHF             163.715910\n",
       "DKK            1053.637981\n",
       "EUR             118.806940\n",
       "GBP             114.353699\n",
       "JPY            9976.153732\n",
       "NOK            1227.870826\n",
       "SEK            1208.897995\n",
       "USD             164.654720"
      ]
     },
     "execution_count": 75,
     "metadata": {},
     "output_type": "execute_result"
    }
   ],
   "source": [
    "pd.DataFrame(approved_df_by_currency['amount'], approved_df_by_currency.reset_index()['currency_code'])\n"
   ]
  },
  {
   "cell_type": "code",
   "execution_count": 76,
   "metadata": {},
   "outputs": [
    {
     "data": {
      "text/html": [
       "<div>\n",
       "<style scoped>\n",
       "    .dataframe tbody tr th:only-of-type {\n",
       "        vertical-align: middle;\n",
       "    }\n",
       "\n",
       "    .dataframe tbody tr th {\n",
       "        vertical-align: top;\n",
       "    }\n",
       "\n",
       "    .dataframe thead th {\n",
       "        text-align: right;\n",
       "    }\n",
       "</style>\n",
       "<table border=\"1\" class=\"dataframe\">\n",
       "  <thead>\n",
       "    <tr style=\"text-align: right;\">\n",
       "      <th></th>\n",
       "      <th>amount</th>\n",
       "    </tr>\n",
       "    <tr>\n",
       "      <th>scheme</th>\n",
       "      <th></th>\n",
       "    </tr>\n",
       "  </thead>\n",
       "  <tbody>\n",
       "    <tr>\n",
       "      <th>mc</th>\n",
       "      <td>266.218873</td>\n",
       "    </tr>\n",
       "    <tr>\n",
       "      <th>visa</th>\n",
       "      <td>204.724840</td>\n",
       "    </tr>\n",
       "  </tbody>\n",
       "</table>\n",
       "</div>"
      ],
      "text/plain": [
       "            amount\n",
       "scheme            \n",
       "mc      266.218873\n",
       "visa    204.724840"
      ]
     },
     "execution_count": 76,
     "metadata": {},
     "output_type": "execute_result"
    }
   ],
   "source": [
    "pd.DataFrame(approved_df_by_scheme['amount'], approved_df_by_scheme.reset_index()['scheme'])\n"
   ]
  },
  {
   "cell_type": "markdown",
   "metadata": {},
   "source": [
    "# Exercise 3: Improve authorization rate"
   ]
  },
  {
   "cell_type": "code",
   "execution_count": 77,
   "metadata": {},
   "outputs": [
    {
     "data": {
      "text/plain": [
       "currency_code\n",
       "BRL    13966\n",
       "CAD     6714\n",
       "CHF      357\n",
       "DKK      540\n",
       "EUR    12618\n",
       "GBP     2425\n",
       "JPY      276\n",
       "NOK      327\n",
       "SEK     1541\n",
       "USD    79061\n",
       "Name: amount, dtype: int64"
      ]
     },
     "execution_count": 77,
     "metadata": {},
     "output_type": "execute_result"
    }
   ],
   "source": [
    "df_merge[df_merge['auth'] == 1].groupby('currency_code').count()['amount']"
   ]
  },
  {
   "cell_type": "code",
   "execution_count": 78,
   "metadata": {},
   "outputs": [],
   "source": [
    "df_auth_rate =  pd.DataFrame(data=df_merge.groupby('currency_code').sum()['auth'], index=df_merge.groupby('currency_code').count()['auth'].reset_index()['currency_code'] )\n",
    "df_auth_rate['txid'] = df_merge.groupby('currency_code').count()['txid']\n",
    "df_auth_rate['unauth'] = df_auth_rate['txid'] - df_auth_rate['auth']\n",
    "df_auth_rate['Avg Auth Amount'] = df_merge[df_merge['auth'] == 1].groupby('currency_code').mean()['amount']\n",
    "df_auth_rate['Avg UnAuth Amount'] = df_merge[df_merge['auth'] == 0].groupby('currency_code').mean()['amount']\n",
    "\n",
    "\n"
   ]
  },
  {
   "cell_type": "code",
   "execution_count": 79,
   "metadata": {},
   "outputs": [],
   "source": [
    "def total_authorized(cols):\n",
    "    auth = cols[0]\n",
    "    txid = cols[1]\n",
    "    return auth/txid"
   ]
  },
  {
   "cell_type": "code",
   "execution_count": 80,
   "metadata": {},
   "outputs": [],
   "source": [
    "df_auth_rate['Pct Auth'] = (df_auth_rate[['auth', 'txid']].apply(total_authorized, axis=1))*100\n",
    "df_auth_rate['Pct Unauth'] = 100-(df_auth_rate['Pct Auth'])\n",
    "df_auth_rate['Pct Auth Pop'] = df_auth_rate['auth']/sum(df_merge['auth'] == 1)*100\n",
    "df_auth_rate['Pct UnAuth Pop'] = df_auth_rate['unauth']/sum(df_merge['auth'] == 0)*100\n",
    "df_auth_rate['Population Auth'] = sum(df_merge['auth'] == 1)\n",
    "df_auth_rate['Population UnAuth'] = sum(df_merge['auth'] == 0)\n"
   ]
  },
  {
   "cell_type": "code",
   "execution_count": 81,
   "metadata": {},
   "outputs": [
    {
     "data": {
      "text/html": [
       "<div>\n",
       "<style scoped>\n",
       "    .dataframe tbody tr th:only-of-type {\n",
       "        vertical-align: middle;\n",
       "    }\n",
       "\n",
       "    .dataframe tbody tr th {\n",
       "        vertical-align: top;\n",
       "    }\n",
       "\n",
       "    .dataframe thead th {\n",
       "        text-align: right;\n",
       "    }\n",
       "</style>\n",
       "<table border=\"1\" class=\"dataframe\">\n",
       "  <thead>\n",
       "    <tr style=\"text-align: right;\">\n",
       "      <th></th>\n",
       "      <th>auth</th>\n",
       "      <th>txid</th>\n",
       "      <th>unauth</th>\n",
       "      <th>Avg Auth Amount</th>\n",
       "      <th>Avg UnAuth Amount</th>\n",
       "      <th>Pct Auth</th>\n",
       "      <th>Pct Unauth</th>\n",
       "      <th>Pct Auth Pop</th>\n",
       "      <th>Pct UnAuth Pop</th>\n",
       "      <th>Population Auth</th>\n",
       "      <th>Population UnAuth</th>\n",
       "    </tr>\n",
       "    <tr>\n",
       "      <th>currency_code</th>\n",
       "      <th></th>\n",
       "      <th></th>\n",
       "      <th></th>\n",
       "      <th></th>\n",
       "      <th></th>\n",
       "      <th></th>\n",
       "      <th></th>\n",
       "      <th></th>\n",
       "      <th></th>\n",
       "      <th></th>\n",
       "      <th></th>\n",
       "    </tr>\n",
       "  </thead>\n",
       "  <tbody>\n",
       "    <tr>\n",
       "      <th>BRL</th>\n",
       "      <td>13966</td>\n",
       "      <td>18547</td>\n",
       "      <td>4581</td>\n",
       "      <td>390.376509</td>\n",
       "      <td>747.332997</td>\n",
       "      <td>75.300588</td>\n",
       "      <td>24.699412</td>\n",
       "      <td>11.853172</td>\n",
       "      <td>19.422539</td>\n",
       "      <td>117825</td>\n",
       "      <td>23586</td>\n",
       "    </tr>\n",
       "    <tr>\n",
       "      <th>CAD</th>\n",
       "      <td>6714</td>\n",
       "      <td>7385</td>\n",
       "      <td>671</td>\n",
       "      <td>112.630219</td>\n",
       "      <td>148.560879</td>\n",
       "      <td>90.914015</td>\n",
       "      <td>9.085985</td>\n",
       "      <td>5.698281</td>\n",
       "      <td>2.844908</td>\n",
       "      <td>117825</td>\n",
       "      <td>23586</td>\n",
       "    </tr>\n",
       "    <tr>\n",
       "      <th>CHF</th>\n",
       "      <td>357</td>\n",
       "      <td>425</td>\n",
       "      <td>68</td>\n",
       "      <td>163.715910</td>\n",
       "      <td>138.339265</td>\n",
       "      <td>84.000000</td>\n",
       "      <td>16.000000</td>\n",
       "      <td>0.302992</td>\n",
       "      <td>0.288307</td>\n",
       "      <td>117825</td>\n",
       "      <td>23586</td>\n",
       "    </tr>\n",
       "    <tr>\n",
       "      <th>DKK</th>\n",
       "      <td>540</td>\n",
       "      <td>697</td>\n",
       "      <td>157</td>\n",
       "      <td>1053.637981</td>\n",
       "      <td>996.083312</td>\n",
       "      <td>77.474892</td>\n",
       "      <td>22.525108</td>\n",
       "      <td>0.458307</td>\n",
       "      <td>0.665649</td>\n",
       "      <td>117825</td>\n",
       "      <td>23586</td>\n",
       "    </tr>\n",
       "    <tr>\n",
       "      <th>EUR</th>\n",
       "      <td>12618</td>\n",
       "      <td>15270</td>\n",
       "      <td>2652</td>\n",
       "      <td>118.806940</td>\n",
       "      <td>197.961923</td>\n",
       "      <td>82.632613</td>\n",
       "      <td>17.367387</td>\n",
       "      <td>10.709102</td>\n",
       "      <td>11.243958</td>\n",
       "      <td>117825</td>\n",
       "      <td>23586</td>\n",
       "    </tr>\n",
       "    <tr>\n",
       "      <th>GBP</th>\n",
       "      <td>2425</td>\n",
       "      <td>2949</td>\n",
       "      <td>524</td>\n",
       "      <td>114.353699</td>\n",
       "      <td>231.063874</td>\n",
       "      <td>82.231265</td>\n",
       "      <td>17.768735</td>\n",
       "      <td>2.058137</td>\n",
       "      <td>2.221657</td>\n",
       "      <td>117825</td>\n",
       "      <td>23586</td>\n",
       "    </tr>\n",
       "    <tr>\n",
       "      <th>JPY</th>\n",
       "      <td>276</td>\n",
       "      <td>596</td>\n",
       "      <td>320</td>\n",
       "      <td>9976.153732</td>\n",
       "      <td>21150.662500</td>\n",
       "      <td>46.308725</td>\n",
       "      <td>53.691275</td>\n",
       "      <td>0.234246</td>\n",
       "      <td>1.356737</td>\n",
       "      <td>117825</td>\n",
       "      <td>23586</td>\n",
       "    </tr>\n",
       "    <tr>\n",
       "      <th>NOK</th>\n",
       "      <td>327</td>\n",
       "      <td>365</td>\n",
       "      <td>38</td>\n",
       "      <td>1227.870826</td>\n",
       "      <td>2295.992105</td>\n",
       "      <td>89.589041</td>\n",
       "      <td>10.410959</td>\n",
       "      <td>0.277530</td>\n",
       "      <td>0.161113</td>\n",
       "      <td>117825</td>\n",
       "      <td>23586</td>\n",
       "    </tr>\n",
       "    <tr>\n",
       "      <th>SEK</th>\n",
       "      <td>1541</td>\n",
       "      <td>1733</td>\n",
       "      <td>192</td>\n",
       "      <td>1208.897995</td>\n",
       "      <td>1408.864271</td>\n",
       "      <td>88.920946</td>\n",
       "      <td>11.079054</td>\n",
       "      <td>1.307872</td>\n",
       "      <td>0.814042</td>\n",
       "      <td>117825</td>\n",
       "      <td>23586</td>\n",
       "    </tr>\n",
       "    <tr>\n",
       "      <th>USD</th>\n",
       "      <td>79061</td>\n",
       "      <td>93444</td>\n",
       "      <td>14383</td>\n",
       "      <td>164.654720</td>\n",
       "      <td>192.311467</td>\n",
       "      <td>84.607893</td>\n",
       "      <td>15.392107</td>\n",
       "      <td>67.100361</td>\n",
       "      <td>60.981090</td>\n",
       "      <td>117825</td>\n",
       "      <td>23586</td>\n",
       "    </tr>\n",
       "  </tbody>\n",
       "</table>\n",
       "</div>"
      ],
      "text/plain": [
       "                auth   txid  unauth  Avg Auth Amount  Avg UnAuth Amount  \\\n",
       "currency_code                                                             \n",
       "BRL            13966  18547    4581       390.376509         747.332997   \n",
       "CAD             6714   7385     671       112.630219         148.560879   \n",
       "CHF              357    425      68       163.715910         138.339265   \n",
       "DKK              540    697     157      1053.637981         996.083312   \n",
       "EUR            12618  15270    2652       118.806940         197.961923   \n",
       "GBP             2425   2949     524       114.353699         231.063874   \n",
       "JPY              276    596     320      9976.153732       21150.662500   \n",
       "NOK              327    365      38      1227.870826        2295.992105   \n",
       "SEK             1541   1733     192      1208.897995        1408.864271   \n",
       "USD            79061  93444   14383       164.654720         192.311467   \n",
       "\n",
       "                Pct Auth  Pct Unauth  Pct Auth Pop  Pct UnAuth Pop  \\\n",
       "currency_code                                                        \n",
       "BRL            75.300588   24.699412     11.853172       19.422539   \n",
       "CAD            90.914015    9.085985      5.698281        2.844908   \n",
       "CHF            84.000000   16.000000      0.302992        0.288307   \n",
       "DKK            77.474892   22.525108      0.458307        0.665649   \n",
       "EUR            82.632613   17.367387     10.709102       11.243958   \n",
       "GBP            82.231265   17.768735      2.058137        2.221657   \n",
       "JPY            46.308725   53.691275      0.234246        1.356737   \n",
       "NOK            89.589041   10.410959      0.277530        0.161113   \n",
       "SEK            88.920946   11.079054      1.307872        0.814042   \n",
       "USD            84.607893   15.392107     67.100361       60.981090   \n",
       "\n",
       "               Population Auth  Population UnAuth  \n",
       "currency_code                                      \n",
       "BRL                     117825              23586  \n",
       "CAD                     117825              23586  \n",
       "CHF                     117825              23586  \n",
       "DKK                     117825              23586  \n",
       "EUR                     117825              23586  \n",
       "GBP                     117825              23586  \n",
       "JPY                     117825              23586  \n",
       "NOK                     117825              23586  \n",
       "SEK                     117825              23586  \n",
       "USD                     117825              23586  "
      ]
     },
     "execution_count": 81,
     "metadata": {},
     "output_type": "execute_result"
    }
   ],
   "source": [
    "df_auth_rate"
   ]
  },
  {
   "cell_type": "code",
   "execution_count": 82,
   "metadata": {},
   "outputs": [
    {
     "data": {
      "text/html": [
       "<div>\n",
       "<style scoped>\n",
       "    .dataframe tbody tr th:only-of-type {\n",
       "        vertical-align: middle;\n",
       "    }\n",
       "\n",
       "    .dataframe tbody tr th {\n",
       "        vertical-align: top;\n",
       "    }\n",
       "\n",
       "    .dataframe thead th {\n",
       "        text-align: right;\n",
       "    }\n",
       "</style>\n",
       "<table border=\"1\" class=\"dataframe\">\n",
       "  <thead>\n",
       "    <tr style=\"text-align: right;\">\n",
       "      <th></th>\n",
       "      <th>txid</th>\n",
       "      <th>amount</th>\n",
       "      <th>auth</th>\n",
       "      <th>chargeback</th>\n",
       "      <th>refusal</th>\n",
       "    </tr>\n",
       "    <tr>\n",
       "      <th>currency_code</th>\n",
       "      <th></th>\n",
       "      <th></th>\n",
       "      <th></th>\n",
       "      <th></th>\n",
       "      <th></th>\n",
       "    </tr>\n",
       "  </thead>\n",
       "  <tbody>\n",
       "    <tr>\n",
       "      <th>BRL</th>\n",
       "      <td>466398548179</td>\n",
       "      <td>8875530.78</td>\n",
       "      <td>13966</td>\n",
       "      <td>228</td>\n",
       "      <td>4581</td>\n",
       "    </tr>\n",
       "    <tr>\n",
       "      <th>CAD</th>\n",
       "      <td>184489858853</td>\n",
       "      <td>855883.64</td>\n",
       "      <td>6714</td>\n",
       "      <td>5</td>\n",
       "      <td>671</td>\n",
       "    </tr>\n",
       "    <tr>\n",
       "      <th>CHF</th>\n",
       "      <td>10601781424</td>\n",
       "      <td>67853.65</td>\n",
       "      <td>357</td>\n",
       "      <td>0</td>\n",
       "      <td>68</td>\n",
       "    </tr>\n",
       "    <tr>\n",
       "      <th>DKK</th>\n",
       "      <td>17349804079</td>\n",
       "      <td>725349.59</td>\n",
       "      <td>540</td>\n",
       "      <td>0</td>\n",
       "      <td>157</td>\n",
       "    </tr>\n",
       "    <tr>\n",
       "      <th>EUR</th>\n",
       "      <td>381512728723</td>\n",
       "      <td>2024100.99</td>\n",
       "      <td>12618</td>\n",
       "      <td>11</td>\n",
       "      <td>2652</td>\n",
       "    </tr>\n",
       "    <tr>\n",
       "      <th>GBP</th>\n",
       "      <td>73852921158</td>\n",
       "      <td>398385.19</td>\n",
       "      <td>2425</td>\n",
       "      <td>0</td>\n",
       "      <td>524</td>\n",
       "    </tr>\n",
       "    <tr>\n",
       "      <th>JPY</th>\n",
       "      <td>15056132512</td>\n",
       "      <td>9521630.43</td>\n",
       "      <td>276</td>\n",
       "      <td>0</td>\n",
       "      <td>320</td>\n",
       "    </tr>\n",
       "    <tr>\n",
       "      <th>NOK</th>\n",
       "      <td>9055056138</td>\n",
       "      <td>488761.46</td>\n",
       "      <td>327</td>\n",
       "      <td>0</td>\n",
       "      <td>38</td>\n",
       "    </tr>\n",
       "    <tr>\n",
       "      <th>SEK</th>\n",
       "      <td>43009690090</td>\n",
       "      <td>2133413.75</td>\n",
       "      <td>1541</td>\n",
       "      <td>0</td>\n",
       "      <td>192</td>\n",
       "    </tr>\n",
       "    <tr>\n",
       "      <th>USD</th>\n",
       "      <td>2335595247104</td>\n",
       "      <td>15783782.62</td>\n",
       "      <td>79061</td>\n",
       "      <td>106</td>\n",
       "      <td>14383</td>\n",
       "    </tr>\n",
       "  </tbody>\n",
       "</table>\n",
       "</div>"
      ],
      "text/plain": [
       "                        txid       amount   auth  chargeback  refusal\n",
       "currency_code                                                        \n",
       "BRL             466398548179   8875530.78  13966         228     4581\n",
       "CAD             184489858853    855883.64   6714           5      671\n",
       "CHF              10601781424     67853.65    357           0       68\n",
       "DKK              17349804079    725349.59    540           0      157\n",
       "EUR             381512728723   2024100.99  12618          11     2652\n",
       "GBP              73852921158    398385.19   2425           0      524\n",
       "JPY              15056132512   9521630.43    276           0      320\n",
       "NOK               9055056138    488761.46    327           0       38\n",
       "SEK              43009690090   2133413.75   1541           0      192\n",
       "USD            2335595247104  15783782.62  79061         106    14383"
      ]
     },
     "execution_count": 82,
     "metadata": {},
     "output_type": "execute_result"
    }
   ],
   "source": [
    "df_merge.groupby('currency_code').sum()"
   ]
  },
  {
   "cell_type": "code",
   "execution_count": 83,
   "metadata": {},
   "outputs": [
    {
     "data": {
      "text/plain": [
       "Index(['creation_date', 'txid', 'amount', 'scheme', 'avs', 'cvc',\n",
       "       'issuing_country', 'auth', 'chargeback', 'refusal', 'funding_source',\n",
       "       'currency_code'],\n",
       "      dtype='object')"
      ]
     },
     "execution_count": 83,
     "metadata": {},
     "output_type": "execute_result"
    }
   ],
   "source": [
    "df_merge.columns"
   ]
  },
  {
   "cell_type": "code",
   "execution_count": 84,
   "metadata": {
    "scrolled": false
   },
   "outputs": [
    {
     "data": {
      "text/plain": [
       "<seaborn.axisgrid.PairGrid at 0x12e523b38>"
      ]
     },
     "execution_count": 84,
     "metadata": {},
     "output_type": "execute_result"
    },
    {
     "data": {
      "image/png": "[encoded data removed]",
      "text/plain": [
       "<Figure size 720x720 with 20 Axes>"
      ]
     },
     "metadata": {
      "needs_background": "light"
     },
     "output_type": "display_data"
    }
   ],
   "source": [
    "sns.pairplot(df_merge[['amount','scheme','issuing_country','auth','chargeback','refusal','funding_source','currency_code']])"
   ]
  },
  {
   "cell_type": "code",
   "execution_count": 85,
   "metadata": {},
   "outputs": [
    {
     "data": {
      "text/plain": [
       "<matplotlib.legend.Legend at 0x12ecace48>"
      ]
     },
     "execution_count": 85,
     "metadata": {},
     "output_type": "execute_result"
    },
    {
     "data": {
      "image/png": "[encoded data removed]",
      "text/plain": [
       "<Figure size 864x576 with 1 Axes>"
      ]
     },
     "metadata": {
      "needs_background": "light"
     },
     "output_type": "display_data"
    }
   ],
   "source": [
    "plt.figure(figsize=(12,8))\n",
    "sns.barplot(y='amount',x='funding_source',data=df_merge, hue='auth', palette = 'viridis').set_title('Amount by Funding Source')\n",
    "\n",
    "plt.legend(bbox_to_anchor=(1.05, 1), loc=2, borderaxespad=0.)\n"
   ]
  },
  {
   "cell_type": "code",
   "execution_count": null,
   "metadata": {},
   "outputs": [],
   "source": []
  },
  {
   "cell_type": "code",
   "execution_count": 86,
   "metadata": {},
   "outputs": [],
   "source": [
    "countries = list(df_auth_rate.reset_index()['currency_code'])\n",
    "Auth = list(df_auth_rate['Pct Auth'])\n",
    "UnAuth = list(df_auth_rate['Pct Unauth'])"
   ]
  },
  {
   "cell_type": "code",
   "execution_count": 87,
   "metadata": {},
   "outputs": [
    {
     "data": {
      "text/plain": [
       "<matplotlib.legend.Legend at 0x12f24dc18>"
      ]
     },
     "execution_count": 87,
     "metadata": {},
     "output_type": "execute_result"
    },
    {
     "data": {
      "text/plain": [
       "<Figure size 864x576 with 0 Axes>"
      ]
     },
     "metadata": {},
     "output_type": "display_data"
    },
    {
     "data": {
      "image/png": "[encoded data removed]",
      "text/plain": [
       "<Figure size 864x576 with 1 Axes>"
      ]
     },
     "metadata": {
      "needs_background": "light"
     },
     "output_type": "display_data"
    }
   ],
   "source": [
    "plt.figure(figsize=(12,8))\n",
    "\n",
    "PctAuth = pd.Series(Auth, index=countries)\n",
    "PctUnAuth = pd.Series(UnAuth, index=countries)\n",
    "\n",
    "df = pd.DataFrame({\"UnAuth %\":PctUnAuth,\"Auth %\":PctAuth})\n",
    "ax = df.plot.bar(color=['navy','green'], figsize=(12,8))\n",
    "ax.set_xlabel(\"Currency\")\n",
    "ax.set_ylabel(\"Pct\")\n",
    "ax.set_title('Pct Auth per Currency')\n",
    "\n",
    "plt.legend(bbox_to_anchor=(1.05, 1), loc=2, borderaxespad=0.)\n",
    "\n",
    "\n"
   ]
  },
  {
   "cell_type": "code",
   "execution_count": 88,
   "metadata": {},
   "outputs": [
    {
     "data": {
      "text/plain": [
       "<matplotlib.legend.Legend at 0x12f2a8080>"
      ]
     },
     "execution_count": 88,
     "metadata": {},
     "output_type": "execute_result"
    },
    {
     "data": {
      "image/png": "[encoded data removed]",
      "text/plain": [
       "<Figure size 864x576 with 1 Axes>"
      ]
     },
     "metadata": {
      "needs_background": "light"
     },
     "output_type": "display_data"
    }
   ],
   "source": [
    "\n",
    "auth_curr_list = list(approved_df_by_currency['amount'])\n",
    "unauth_curr_list = list(unapproved_df_by_currency['amount'])\n",
    "                        \n",
    "auth_curr = pd.Series(auth_curr_list, index=countries)\n",
    "unauth_curr = pd.Series(unauth_curr_list, index=countries)\n",
    "\n",
    "df = pd.DataFrame({\"UnAuth\":unauth_curr_list,\"Auth\":auth_curr_list})\n",
    "ax = df.plot.bar(color=['navy','green'], figsize=(12,8))\n",
    "ax.set_xlabel(\"Currency\")\n",
    "ax.set_ylabel(\"Avg Amount\")\n",
    "ax.set_title('Pct Auth per Currency')\n",
    "locs, labels=plt.xticks()\n",
    "x_ticks = []\n",
    "new_xticks=[i for i in countries]\n",
    "plt.xticks(locs,new_xticks, rotation=90, horizontalalignment='right')\n",
    "\n",
    "\n",
    "plt.legend(bbox_to_anchor=(1.05, 1), loc=2, borderaxespad=0.)\n"
   ]
  },
  {
   "cell_type": "code",
   "execution_count": 89,
   "metadata": {},
   "outputs": [],
   "source": [
    "countries.remove('JPY')"
   ]
  },
  {
   "cell_type": "code",
   "execution_count": 90,
   "metadata": {},
   "outputs": [
    {
     "data": {
      "text/plain": [
       "<matplotlib.legend.Legend at 0x12f2a8a90>"
      ]
     },
     "execution_count": 90,
     "metadata": {},
     "output_type": "execute_result"
    },
    {
     "data": {
      "image/png": "[encoded data removed]",
      "text/plain": [
       "<Figure size 864x576 with 1 Axes>"
      ]
     },
     "metadata": {
      "needs_background": "light"
     },
     "output_type": "display_data"
    }
   ],
   "source": [
    "\n",
    "auth_curr_list = list(approved_df_by_currency.drop('JPY')['amount'])\n",
    "unauth_curr_list = list(unapproved_df_by_currency.drop('JPY')['amount'])\n",
    "                        \n",
    "auth_curr = pd.Series(auth_curr_list, index=countries)\n",
    "unauth_curr = pd.Series(unauth_curr_list, index=countries)\n",
    "\n",
    "df = pd.DataFrame({\"UnAuth\":unauth_curr_list,\"Auth\":auth_curr_list})\n",
    "ax = df.plot.bar(color=['navy','green'], figsize=(12,8))\n",
    "ax.set_xlabel(\"Currency\")\n",
    "ax.set_ylabel(\"Avg Amount\")\n",
    "ax.set_title('Pct Auth per Currency')\n",
    "locs, labels=plt.xticks()\n",
    "x_ticks = []\n",
    "new_xticks=[i for i in countries]\n",
    "plt.xticks(locs,new_xticks, rotation=90, horizontalalignment='right')\n",
    "\n",
    "\n",
    "plt.legend(bbox_to_anchor=(1.05, 1), loc=2, borderaxespad=0.)\n"
   ]
  },
  {
   "cell_type": "code",
   "execution_count": 91,
   "metadata": {},
   "outputs": [],
   "source": [
    "approved_df_by_funding_source = approved_transactions.groupby('funding_source').mean()\n",
    "unapproved_df_by_funding_source = unapproved_transactions.groupby('funding_source').mean()"
   ]
  },
  {
   "cell_type": "code",
   "execution_count": 92,
   "metadata": {},
   "outputs": [],
   "source": [
    "funding_source = list(approved_df_by_funding_source.reset_index()['funding_source'])"
   ]
  },
  {
   "cell_type": "code",
   "execution_count": 93,
   "metadata": {},
   "outputs": [
    {
     "data": {
      "text/html": [
       "<div>\n",
       "<style scoped>\n",
       "    .dataframe tbody tr th:only-of-type {\n",
       "        vertical-align: middle;\n",
       "    }\n",
       "\n",
       "    .dataframe tbody tr th {\n",
       "        vertical-align: top;\n",
       "    }\n",
       "\n",
       "    .dataframe thead th {\n",
       "        text-align: right;\n",
       "    }\n",
       "</style>\n",
       "<table border=\"1\" class=\"dataframe\">\n",
       "  <thead>\n",
       "    <tr style=\"text-align: right;\">\n",
       "      <th></th>\n",
       "      <th>txid</th>\n",
       "      <th>amount</th>\n",
       "      <th>auth</th>\n",
       "      <th>chargeback</th>\n",
       "      <th>refusal</th>\n",
       "    </tr>\n",
       "    <tr>\n",
       "      <th>funding_source</th>\n",
       "      <th></th>\n",
       "      <th></th>\n",
       "      <th></th>\n",
       "      <th></th>\n",
       "      <th></th>\n",
       "    </tr>\n",
       "  </thead>\n",
       "  <tbody>\n",
       "    <tr>\n",
       "      <th>CREDIT</th>\n",
       "      <td>2.496662e+07</td>\n",
       "      <td>297.660347</td>\n",
       "      <td>1.0</td>\n",
       "      <td>0.004252</td>\n",
       "      <td>0.0</td>\n",
       "    </tr>\n",
       "    <tr>\n",
       "      <th>DEBIT</th>\n",
       "      <td>2.502037e+07</td>\n",
       "      <td>120.415725</td>\n",
       "      <td>1.0</td>\n",
       "      <td>0.001060</td>\n",
       "      <td>0.0</td>\n",
       "    </tr>\n",
       "    <tr>\n",
       "      <th>DEFFERED_DEBIT</th>\n",
       "      <td>2.490127e+07</td>\n",
       "      <td>147.888214</td>\n",
       "      <td>1.0</td>\n",
       "      <td>0.000000</td>\n",
       "      <td>0.0</td>\n",
       "    </tr>\n",
       "    <tr>\n",
       "      <th>PREPAID</th>\n",
       "      <td>2.519133e+07</td>\n",
       "      <td>94.138268</td>\n",
       "      <td>1.0</td>\n",
       "      <td>0.001420</td>\n",
       "      <td>0.0</td>\n",
       "    </tr>\n",
       "  </tbody>\n",
       "</table>\n",
       "</div>"
      ],
      "text/plain": [
       "                        txid      amount  auth  chargeback  refusal\n",
       "funding_source                                                     \n",
       "CREDIT          2.496662e+07  297.660347   1.0    0.004252      0.0\n",
       "DEBIT           2.502037e+07  120.415725   1.0    0.001060      0.0\n",
       "DEFFERED_DEBIT  2.490127e+07  147.888214   1.0    0.000000      0.0\n",
       "PREPAID         2.519133e+07   94.138268   1.0    0.001420      0.0"
      ]
     },
     "execution_count": 93,
     "metadata": {},
     "output_type": "execute_result"
    }
   ],
   "source": [
    "approved_df_by_funding_source"
   ]
  },
  {
   "cell_type": "code",
   "execution_count": 94,
   "metadata": {},
   "outputs": [
    {
     "data": {
      "text/plain": [
       "<matplotlib.legend.Legend at 0x1310e5940>"
      ]
     },
     "execution_count": 94,
     "metadata": {},
     "output_type": "execute_result"
    },
    {
     "data": {
      "image/png": "[encoded data removed]",
      "text/plain": [
       "<Figure size 864x576 with 1 Axes>"
      ]
     },
     "metadata": {
      "needs_background": "light"
     },
     "output_type": "display_data"
    }
   ],
   "source": [
    "auth_funding_source = list(approved_df_by_funding_source['amount'])\n",
    "unauth_funding_source = list(unapproved_df_by_funding_source['amount'])                      \n",
    "                        \n",
    "auth_curr = pd.Series(auth_funding_source, index=funding_source)\n",
    "unauth_curr = pd.Series(unauth_funding_source, index=funding_source)\n",
    "\n",
    "df = pd.DataFrame({\"UnAuth\":unauth_funding_source,\"Auth\":auth_funding_source})\n",
    "ax = df.plot.bar(color=['navy','green'], figsize=(12,8))\n",
    "ax.set_xlabel(\"Funding Source\")\n",
    "ax.set_ylabel(\"Avg Amount\")\n",
    "ax.set_title('Avg Amount per Funding Source')\n",
    "locs, labels=plt.xticks()\n",
    "x_ticks = []\n",
    "new_xticks=[i for i in funding_source]\n",
    "plt.xticks(locs,new_xticks, rotation=45, horizontalalignment='right')\n",
    "\n",
    "\n",
    "plt.legend(bbox_to_anchor=(1.05, 1), loc=2, borderaxespad=0.)\n"
   ]
  },
  {
   "cell_type": "code",
   "execution_count": 95,
   "metadata": {},
   "outputs": [
    {
     "data": {
      "text/plain": [
       "<matplotlib.legend.Legend at 0x12f3753c8>"
      ]
     },
     "execution_count": 95,
     "metadata": {},
     "output_type": "execute_result"
    },
    {
     "data": {
      "image/png": "[encoded data removed]",
      "text/plain": [
       "<Figure size 864x576 with 1 Axes>"
      ]
     },
     "metadata": {
      "needs_background": "light"
     },
     "output_type": "display_data"
    }
   ],
   "source": [
    "plt.figure(figsize=(12,8))\n",
    "sns.countplot(x='currency_code', data=df_merge, hue='funding_source', palette='viridis')\n",
    "plt.legend(bbox_to_anchor=(1.05, 1), loc=2, borderaxespad=0.)\n"
   ]
  },
  {
   "cell_type": "code",
   "execution_count": 96,
   "metadata": {},
   "outputs": [
    {
     "data": {
      "text/plain": [
       "<matplotlib.legend.Legend at 0x12f2a8208>"
      ]
     },
     "execution_count": 96,
     "metadata": {},
     "output_type": "execute_result"
    },
    {
     "data": {
      "image/png": "[encoded data removed]",
      "text/plain": [
       "<Figure size 864x576 with 1 Axes>"
      ]
     },
     "metadata": {
      "needs_background": "light"
     },
     "output_type": "display_data"
    }
   ],
   "source": [
    "plt.figure(figsize=(12,8))\n",
    "sns.countplot(x='currency_code', data=df_merge, hue='auth', palette='viridis').set_title('Authorized vs Unauthorized by Currency')\n",
    "plt.legend(bbox_to_anchor=(1.05, 1), loc=2, borderaxespad=0.)\n"
   ]
  },
  {
   "cell_type": "code",
   "execution_count": 97,
   "metadata": {},
   "outputs": [
    {
     "data": {
      "text/plain": [
       "['BRL', 'CAD', 'CHF', 'DKK', 'EUR', 'GBP', 'NOK', 'SEK', 'USD']"
      ]
     },
     "execution_count": 97,
     "metadata": {},
     "output_type": "execute_result"
    }
   ],
   "source": [
    "countries"
   ]
  },
  {
   "cell_type": "markdown",
   "metadata": {},
   "source": [
    "# Features used to train model:\n",
    "\n",
    "# amount, scheme, funding_source, currency_code "
   ]
  },
  {
   "cell_type": "code",
   "execution_count": 98,
   "metadata": {},
   "outputs": [
    {
     "data": {
      "text/plain": [
       "Index(['creation_date', 'txid', 'amount', 'scheme', 'avs', 'cvc',\n",
       "       'issuing_country', 'auth', 'chargeback', 'refusal', 'funding_source',\n",
       "       'currency_code'],\n",
       "      dtype='object')"
      ]
     },
     "execution_count": 98,
     "metadata": {},
     "output_type": "execute_result"
    }
   ],
   "source": [
    "from sklearn.model_selection import train_test_split\n",
    "df_merge.columns"
   ]
  },
  {
   "cell_type": "code",
   "execution_count": 99,
   "metadata": {},
   "outputs": [],
   "source": [
    "df_tree = df_merge"
   ]
  },
  {
   "cell_type": "code",
   "execution_count": 100,
   "metadata": {},
   "outputs": [],
   "source": [
    "df_tree['scheme'] = df_tree['scheme'].apply(lambda x: 1 if x == 'mc' else 0)"
   ]
  },
  {
   "cell_type": "code",
   "execution_count": 101,
   "metadata": {},
   "outputs": [],
   "source": [
    "cat_feats = ['funding_source']"
   ]
  },
  {
   "cell_type": "code",
   "execution_count": 102,
   "metadata": {},
   "outputs": [],
   "source": [
    "df_tree = pd.get_dummies(df_tree, columns=cat_feats, drop_first=True)"
   ]
  },
  {
   "cell_type": "code",
   "execution_count": 103,
   "metadata": {},
   "outputs": [],
   "source": [
    "cat_feats_2 = ['currency_code']"
   ]
  },
  {
   "cell_type": "code",
   "execution_count": 104,
   "metadata": {},
   "outputs": [],
   "source": [
    "df_tree = pd.get_dummies(df_tree, columns=cat_feats_2, drop_first=True)"
   ]
  },
  {
   "cell_type": "code",
   "execution_count": 105,
   "metadata": {},
   "outputs": [],
   "source": [
    "df_tree.drop(['avs','cvc','creation_date','txid','issuing_country', 'chargeback', 'refusal'], axis=1, inplace=True)"
   ]
  },
  {
   "cell_type": "code",
   "execution_count": 106,
   "metadata": {},
   "outputs": [],
   "source": [
    "X = df_tree.drop('auth',axis=1)\n",
    "y = df_tree['auth']"
   ]
  },
  {
   "cell_type": "code",
   "execution_count": 107,
   "metadata": {},
   "outputs": [],
   "source": [
    "X_train, X_test, y_train, y_test = train_test_split(X, y, test_size = 0.25)"
   ]
  },
  {
   "cell_type": "code",
   "execution_count": 108,
   "metadata": {},
   "outputs": [],
   "source": [
    "from sklearn.ensemble import RandomForestClassifier\n",
    "rfc = RandomForestClassifier(n_estimators=500)"
   ]
  },
  {
   "cell_type": "code",
   "execution_count": 109,
   "metadata": {
    "scrolled": true
   },
   "outputs": [
    {
     "data": {
      "text/plain": [
       "RandomForestClassifier(bootstrap=True, class_weight=None, criterion='gini',\n",
       "                       max_depth=None, max_features='auto', max_leaf_nodes=None,\n",
       "                       min_impurity_decrease=0.0, min_impurity_split=None,\n",
       "                       min_samples_leaf=1, min_samples_split=2,\n",
       "                       min_weight_fraction_leaf=0.0, n_estimators=500,\n",
       "                       n_jobs=None, oob_score=False, random_state=None,\n",
       "                       verbose=0, warm_start=False)"
      ]
     },
     "execution_count": 109,
     "metadata": {},
     "output_type": "execute_result"
    }
   ],
   "source": [
    "rfc.fit(X_train, y_train)"
   ]
  },
  {
   "cell_type": "code",
   "execution_count": 110,
   "metadata": {},
   "outputs": [],
   "source": [
    "rfc_pred = rfc.predict(X_test)"
   ]
  },
  {
   "cell_type": "code",
   "execution_count": 111,
   "metadata": {},
   "outputs": [
    {
     "name": "stdout",
     "output_type": "stream",
     "text": [
      "[[ 2825  3100]\n",
      " [ 1420 28008]]\n",
      "              precision    recall  f1-score   support\n",
      "\n",
      "           0       0.67      0.48      0.56      5925\n",
      "           1       0.90      0.95      0.93     29428\n",
      "\n",
      "    accuracy                           0.87     35353\n",
      "   macro avg       0.78      0.71      0.74     35353\n",
      "weighted avg       0.86      0.87      0.86     35353\n",
      "\n"
     ]
    }
   ],
   "source": [
    "from sklearn.metrics import classification_report, confusion_matrix\n",
    "\n",
    "print(confusion_matrix(y_test, rfc_pred))\n",
    "print(classification_report(y_test, rfc_pred))"
   ]
  },
  {
   "cell_type": "code",
   "execution_count": null,
   "metadata": {},
   "outputs": [],
   "source": []
  }
 ],
 "metadata": {
  "kernelspec": {
   "display_name": "Python 3",
   "language": "python",
   "name": "python3"
  },
  "language_info": {
   "codemirror_mode": {
    "name": "ipython",
    "version": 3
   },
   "file_extension": ".py",
   "mimetype": "text/x-python",
   "name": "python",
   "nbconvert_exporter": "python",
   "pygments_lexer": "ipython3",
   "version": "3.7.3"
  }
 },
 "nbformat": 4,
 "nbformat_minor": 2
}
